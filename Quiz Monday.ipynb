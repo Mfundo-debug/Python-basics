{
 "cells": [
  {
   "cell_type": "markdown",
   "id": "48a15d44",
   "metadata": {},
   "source": [
    "# Python List Exercises\n",
    "\n",
    "\n",
    "## Exercise 1: Create a list program to count the numbers items stored in a list given the list is  q = ['BDf',1,2,3,'hello', 'monday,'25]\n",
    "\n",
    "## Exercise 2: Given  q above write a program that reverse q list\n",
    "\n",
    "## Exercise 3: Given q list give an ouput of ['hello'] using index\n",
    "\n",
    "## Exercise 4: given q list give an output of ['Bdf',1,2,3] using index\n",
    "\n",
    "## Exercise 5: given q list given an ouput of the last element using negative indexing\n",
    "\n",
    "## Exercise 6: given q list remove 'hello' from the list\n",
    "\n",
    "## Exercise 7:  given q list add 'last' session in 3rd element\n",
    "\n",
    "## Exercise 8: Given p = [2,3,4,5,6] write a program to square each element of a list\n",
    "\n",
    "## Exercise 9 : given A = [1,2,3,2,8,4,5,6,6,2,1] write a program to remove duplicate intems from A list\n",
    "## Exercise 10: given B = [3,4,2,1,5,6] write a program that selects a random item from a B list\n",
    "\n",
    "# Submission 19:24pm\n",
    "\n"
   ]
  },
  {
   "cell_type": "code",
   "execution_count": 1,
   "id": "6c97add7",
   "metadata": {},
   "outputs": [
    {
     "name": "stdout",
     "output_type": "stream",
     "text": [
      "Total count of items are:  7\n"
     ]
    }
   ],
   "source": [
    "# Exercise 1\n",
    "q = ['Bdf',1,2,3,'hello', 'monday', 25]\n",
    "count = 0\n",
    "for i in range(len(q)):\n",
    "    count +=1\n",
    "print('Total count of items are: ', count)\n"
   ]
  },
  {
   "cell_type": "code",
   "execution_count": 2,
   "id": "95866c24",
   "metadata": {},
   "outputs": [
    {
     "name": "stdout",
     "output_type": "stream",
     "text": [
      "total count of items:  7\n"
     ]
    }
   ],
   "source": [
    "#second aapproach\n",
    "p = ['Bdf',1,2,3,'hello', 'monday', 25]\n",
    "print('total count of items: ', len(p))"
   ]
  },
  {
   "cell_type": "code",
   "execution_count": 6,
   "id": "55860568",
   "metadata": {},
   "outputs": [
    {
     "name": "stdout",
     "output_type": "stream",
     "text": [
      "reverse the list [25, 'monday', 'hello', 3, 2, 1, 'Bdf']\n"
     ]
    }
   ],
   "source": [
    "# Exercise 2\n",
    "print('reverse the list',q[::-1])"
   ]
  },
  {
   "cell_type": "code",
   "execution_count": 7,
   "id": "a5f43d1d",
   "metadata": {},
   "outputs": [
    {
     "name": "stdout",
     "output_type": "stream",
     "text": [
      "[25, 'monday', 'hello', 3, 2, 1, 'Bdf']\n"
     ]
    }
   ],
   "source": [
    "# second approach\n",
    "\n",
    "def rev(q):\n",
    "    q.reverse()\n",
    "    return q\n",
    "q = ['Bdf',1,2,3,'hello', 'monday', 25]\n",
    "print(rev(q))\n",
    "\n"
   ]
  },
  {
   "cell_type": "code",
   "execution_count": 12,
   "id": "8912631a",
   "metadata": {},
   "outputs": [
    {
     "name": "stdout",
     "output_type": "stream",
     "text": [
      "hello\n"
     ]
    }
   ],
   "source": [
    "#Exercise 3\n",
    "q = ['Bdf',1,2,3,'hello', 'monday', 25]\n",
    "print(q[4])"
   ]
  },
  {
   "cell_type": "code",
   "execution_count": 17,
   "id": "406ec8a4",
   "metadata": {},
   "outputs": [
    {
     "data": {
      "text/plain": [
       "['hello']"
      ]
     },
     "execution_count": 17,
     "metadata": {},
     "output_type": "execute_result"
    }
   ],
   "source": [
    "#second approach\n",
    "q[4:5]"
   ]
  },
  {
   "cell_type": "code",
   "execution_count": 20,
   "id": "2276e154",
   "metadata": {},
   "outputs": [
    {
     "data": {
      "text/plain": [
       "['Bdf', 1, 2, 3]"
      ]
     },
     "execution_count": 20,
     "metadata": {},
     "output_type": "execute_result"
    }
   ],
   "source": [
    "#Exercise 4\n",
    "q[0:4]"
   ]
  },
  {
   "cell_type": "code",
   "execution_count": 23,
   "id": "23c98be4",
   "metadata": {},
   "outputs": [
    {
     "data": {
      "text/plain": [
       "25"
      ]
     },
     "execution_count": 23,
     "metadata": {},
     "output_type": "execute_result"
    }
   ],
   "source": [
    "#exercise 5\n",
    "q[-1]"
   ]
  },
  {
   "cell_type": "code",
   "execution_count": 24,
   "id": "de71d233",
   "metadata": {},
   "outputs": [
    {
     "data": {
      "text/plain": [
       "['Bdf', 1, 2, 3, 'monday', 25]"
      ]
     },
     "execution_count": 24,
     "metadata": {},
     "output_type": "execute_result"
    }
   ],
   "source": [
    "# exercise 6\n",
    "q.remove('hello')\n",
    "q"
   ]
  },
  {
   "cell_type": "code",
   "execution_count": 25,
   "id": "39075b29",
   "metadata": {},
   "outputs": [
    {
     "data": {
      "text/plain": [
       "3"
      ]
     },
     "execution_count": 25,
     "metadata": {},
     "output_type": "execute_result"
    }
   ],
   "source": [
    "#Exercise 7\n",
    "q[3]"
   ]
  },
  {
   "cell_type": "code",
   "execution_count": 26,
   "id": "6995c570",
   "metadata": {},
   "outputs": [
    {
     "data": {
      "text/plain": [
       "3"
      ]
     },
     "execution_count": 26,
     "metadata": {},
     "output_type": "execute_result"
    }
   ],
   "source": [
    "q.index(3)"
   ]
  },
  {
   "cell_type": "code",
   "execution_count": 28,
   "id": "349898be",
   "metadata": {},
   "outputs": [],
   "source": [
    "q[3] = 'last'"
   ]
  },
  {
   "cell_type": "code",
   "execution_count": 29,
   "id": "7794a9e2",
   "metadata": {},
   "outputs": [
    {
     "data": {
      "text/plain": [
       "['Bdf', 1, 2, 'last', 'monday', 25]"
      ]
     },
     "execution_count": 29,
     "metadata": {},
     "output_type": "execute_result"
    }
   ],
   "source": [
    "q"
   ]
  },
  {
   "cell_type": "code",
   "execution_count": 30,
   "id": "232837be",
   "metadata": {},
   "outputs": [
    {
     "data": {
      "text/plain": [
       "'last'"
      ]
     },
     "execution_count": 30,
     "metadata": {},
     "output_type": "execute_result"
    }
   ],
   "source": [
    "q[3]"
   ]
  },
  {
   "cell_type": "code",
   "execution_count": 32,
   "id": "eccdb896",
   "metadata": {},
   "outputs": [
    {
     "name": "stdout",
     "output_type": "stream",
     "text": [
      "[4, 9, 16, 25, 36]\n"
     ]
    }
   ],
   "source": [
    "#Exercise 8\n",
    "p = [2,3,4,5,6]\n",
    "squared_numbers = [p**2 for p in p]\n",
    "print(squared_numbers)"
   ]
  },
  {
   "cell_type": "code",
   "execution_count": 38,
   "id": "d57b6de5",
   "metadata": {},
   "outputs": [
    {
     "name": "stdout",
     "output_type": "stream",
     "text": [
      "49162536"
     ]
    }
   ],
   "source": [
    "#second approach\n",
    "\n",
    "for i in range(len(p)):\n",
    "    \n",
    "    x = p[i]*p[i]\n",
    "    print(x,end='')"
   ]
  },
  {
   "cell_type": "code",
   "execution_count": 39,
   "id": "8cc12ae4",
   "metadata": {},
   "outputs": [
    {
     "name": "stdout",
     "output_type": "stream",
     "text": [
      "[1, 2, 3, 4, 5, 6, 8]\n"
     ]
    }
   ],
   "source": [
    "A = [1, 2, 3, 2, 8, 4, 5, 6,6, 2, 1]\n",
    "A1 = set(A)\n",
    "print(list(A1))"
   ]
  },
  {
   "cell_type": "code",
   "execution_count": 40,
   "id": "b29d9cde",
   "metadata": {},
   "outputs": [
    {
     "name": "stdout",
     "output_type": "stream",
     "text": [
      "[1, 2, 3, 8, 4, 5, 6]\n"
     ]
    }
   ],
   "source": [
    "# second approach\n",
    "A = [1, 2, 3, 2, 8, 4, 5, 6,6, 2, 1]\n",
    "x = []\n",
    "for i in range(len(A)):\n",
    "    if A[i] not in x:\n",
    "        x.append(A[i])\n",
    "    else:\n",
    "        pass\n",
    "    \n",
    "print(x)\n"
   ]
  },
  {
   "cell_type": "code",
   "execution_count": 48,
   "id": "60dbfe95",
   "metadata": {},
   "outputs": [
    {
     "name": "stdout",
     "output_type": "stream",
     "text": [
      "3\n"
     ]
    }
   ],
   "source": [
    "#Exercise 10\n",
    "import random\n",
    "\n",
    "B = [3, 4, 2, 1, 5, 6]\n",
    "print(random.choice(B))"
   ]
  }
 ],
 "metadata": {
  "kernelspec": {
   "display_name": "Python 3",
   "language": "python",
   "name": "python3"
  },
  "language_info": {
   "codemirror_mode": {
    "name": "ipython",
    "version": 3
   },
   "file_extension": ".py",
   "mimetype": "text/x-python",
   "name": "python",
   "nbconvert_exporter": "python",
   "pygments_lexer": "ipython3",
   "version": "3.8.8"
  }
 },
 "nbformat": 4,
 "nbformat_minor": 5
}
