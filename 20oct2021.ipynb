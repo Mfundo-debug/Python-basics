{
 "cells": [
  {
   "cell_type": "markdown",
   "id": "7c24a14c",
   "metadata": {},
   "source": [
    "# User defined functions\n",
    "* code reuse\n",
    "* Modularity"
   ]
  },
  {
   "cell_type": "code",
   "execution_count": 1,
   "id": "382cee3e",
   "metadata": {},
   "outputs": [
    {
     "name": "stdout",
     "output_type": "stream",
     "text": [
      "4\n"
     ]
    }
   ],
   "source": [
    "s = 'ICT,BDF,Python,CSS,JAva'\n",
    "print(s.index('BDF'))"
   ]
  },
  {
   "cell_type": "markdown",
   "id": "e369fd29",
   "metadata": {},
   "source": [
    "# function call\n",
    "# function definiton "
   ]
  },
  {
   "cell_type": "code",
   "execution_count": 2,
   "id": "dea4bd7a",
   "metadata": {},
   "outputs": [],
   "source": [
    "def value_reverse(value):\n",
    "    reverse = value[::-1]\n",
    "    print(reverse)"
   ]
  },
  {
   "cell_type": "code",
   "execution_count": 3,
   "id": "daf4f789",
   "metadata": {},
   "outputs": [
    {
     "name": "stdout",
     "output_type": "stream",
     "text": [
      "nohtyP\n"
     ]
    }
   ],
   "source": [
    "s = 'Python'\n",
    "value_reverse(s)"
   ]
  },
  {
   "cell_type": "code",
   "execution_count": 4,
   "id": "4a539ec9",
   "metadata": {},
   "outputs": [
    {
     "data": {
      "text/plain": [
       "[1, 2, 3, 4, 5, 6]"
      ]
     },
     "execution_count": 4,
     "metadata": {},
     "output_type": "execute_result"
    }
   ],
   "source": [
    "l = [1,2,3,4,5]\n",
    "l.append(6)\n",
    "l"
   ]
  },
  {
   "cell_type": "code",
   "execution_count": 5,
   "id": "121650b7",
   "metadata": {},
   "outputs": [
    {
     "data": {
      "text/plain": [
       "[6, 5, 4, 3, 2, 1]"
      ]
     },
     "execution_count": 5,
     "metadata": {},
     "output_type": "execute_result"
    }
   ],
   "source": [
    "l[::-1]"
   ]
  },
  {
   "cell_type": "code",
   "execution_count": 6,
   "id": "46dcfad2",
   "metadata": {},
   "outputs": [
    {
     "name": "stdout",
     "output_type": "stream",
     "text": [
      "[6, 5, 4, 3, 2, 1]\n"
     ]
    }
   ],
   "source": [
    "value_reverse(l)"
   ]
  },
  {
   "cell_type": "code",
   "execution_count": 7,
   "id": "d1c2ec94",
   "metadata": {},
   "outputs": [
    {
     "ename": "TypeError",
     "evalue": "'int' object is not subscriptable",
     "output_type": "error",
     "traceback": [
      "\u001b[1;31m---------------------------------------------------------------------------\u001b[0m",
      "\u001b[1;31mTypeError\u001b[0m                                 Traceback (most recent call last)",
      "\u001b[1;32m<ipython-input-7-d9c2da43abb0>\u001b[0m in \u001b[0;36m<module>\u001b[1;34m\u001b[0m\n\u001b[0;32m      1\u001b[0m \u001b[0mnum\u001b[0m \u001b[1;33m=\u001b[0m \u001b[1;36m369\u001b[0m\u001b[1;33m\u001b[0m\u001b[1;33m\u001b[0m\u001b[0m\n\u001b[1;32m----> 2\u001b[1;33m \u001b[0mvalue_reverse\u001b[0m\u001b[1;33m(\u001b[0m\u001b[0mnum\u001b[0m\u001b[1;33m)\u001b[0m\u001b[1;33m\u001b[0m\u001b[1;33m\u001b[0m\u001b[0m\n\u001b[0m",
      "\u001b[1;32m<ipython-input-2-a1493d8eff94>\u001b[0m in \u001b[0;36mvalue_reverse\u001b[1;34m(value)\u001b[0m\n\u001b[0;32m      1\u001b[0m \u001b[1;32mdef\u001b[0m \u001b[0mvalue_reverse\u001b[0m\u001b[1;33m(\u001b[0m\u001b[0mvalue\u001b[0m\u001b[1;33m)\u001b[0m\u001b[1;33m:\u001b[0m\u001b[1;33m\u001b[0m\u001b[1;33m\u001b[0m\u001b[0m\n\u001b[1;32m----> 2\u001b[1;33m     \u001b[0mreverse\u001b[0m \u001b[1;33m=\u001b[0m \u001b[0mvalue\u001b[0m\u001b[1;33m[\u001b[0m\u001b[1;33m:\u001b[0m\u001b[1;33m:\u001b[0m\u001b[1;33m-\u001b[0m\u001b[1;36m1\u001b[0m\u001b[1;33m]\u001b[0m\u001b[1;33m\u001b[0m\u001b[1;33m\u001b[0m\u001b[0m\n\u001b[0m\u001b[0;32m      3\u001b[0m     \u001b[0mprint\u001b[0m\u001b[1;33m(\u001b[0m\u001b[0mreverse\u001b[0m\u001b[1;33m)\u001b[0m\u001b[1;33m\u001b[0m\u001b[1;33m\u001b[0m\u001b[0m\n",
      "\u001b[1;31mTypeError\u001b[0m: 'int' object is not subscriptable"
     ]
    }
   ],
   "source": [
    "num = 369\n",
    "value_reverse(num)"
   ]
  },
  {
   "cell_type": "code",
   "execution_count": 8,
   "id": "77525e43",
   "metadata": {},
   "outputs": [],
   "source": [
    "def value_reve(value):\n",
    "    if type(value) == list or type(value)==str:\n",
    "        reverse = value[::-1]\n",
    "    else:\n",
    "        temp = str(value)\n",
    "        reverse = temp[::-1]\n",
    "    return reverse"
   ]
  },
  {
   "cell_type": "code",
   "execution_count": 9,
   "id": "18662798",
   "metadata": {},
   "outputs": [
    {
     "data": {
      "text/plain": [
       "'963'"
      ]
     },
     "execution_count": 9,
     "metadata": {},
     "output_type": "execute_result"
    }
   ],
   "source": [
    "value_reve(num)"
   ]
  },
  {
   "cell_type": "code",
   "execution_count": 10,
   "id": "84949ffd",
   "metadata": {},
   "outputs": [
    {
     "data": {
      "text/plain": [
       "'0987654321'"
      ]
     },
     "execution_count": 10,
     "metadata": {},
     "output_type": "execute_result"
    }
   ],
   "source": [
    "num = 1234567890\n",
    "value_reve(num)"
   ]
  },
  {
   "cell_type": "markdown",
   "id": "0f09d7ef",
   "metadata": {},
   "source": [
    "## Parameter Passing Technique| Positional- Default-keyword Parameters"
   ]
  },
  {
   "cell_type": "code",
   "execution_count": 12,
   "id": "ed0f65af",
   "metadata": {},
   "outputs": [
    {
     "data": {
      "text/plain": [
       "False"
      ]
     },
     "execution_count": 12,
     "metadata": {},
     "output_type": "execute_result"
    }
   ],
   "source": [
    "l = [100,200,300,400,500,600]\n",
    "key = 400\n",
    "linear_search(l,key)"
   ]
  },
  {
   "cell_type": "code",
   "execution_count": 11,
   "id": "f00733d2",
   "metadata": {},
   "outputs": [],
   "source": [
    "def linear_search(l,key):\n",
    "    for value in l:\n",
    "        if key == l:\n",
    "            return True\n",
    "    else:\n",
    "        return False"
   ]
  },
  {
   "cell_type": "markdown",
   "id": "b939a00c",
   "metadata": {},
   "source": [
    "# Quiz\n",
    "\n",
    "\n",
    "# a) create a function called linear search that prints whether key element exist or not by modifying the code above\n",
    "# b) create a function that prints 'Welcome to BDF tutorials'\n",
    "\n",
    "## submission on the chat by 18:41pm"
   ]
  },
  {
   "cell_type": "code",
   "execution_count": 15,
   "id": "ea294460",
   "metadata": {},
   "outputs": [
    {
     "name": "stdout",
     "output_type": "stream",
     "text": [
      "element found 40\n"
     ]
    }
   ],
   "source": [
    "l = [10,20,30,40]\n",
    "key = 40\n",
    "for value in l:\n",
    "    if value == key:\n",
    "        print('element found', value)\n",
    "        break\n",
    "    else:\n",
    "        continue\n",
    "else:\n",
    "    print('element does not exist')"
   ]
  },
  {
   "cell_type": "code",
   "execution_count": null,
   "id": "1aef4e4f",
   "metadata": {},
   "outputs": [],
   "source": [
    "def linear_search(l,key):\n",
    "    for value in l:\n",
    "        if key == l:\n",
    "            print('element exist',key)\n",
    "            break\n",
    "        else:\n",
    "            \n",
    "        \n",
    "        "
   ]
  },
  {
   "cell_type": "code",
   "execution_count": 13,
   "id": "ba2fc353",
   "metadata": {},
   "outputs": [],
   "source": [
    "def message():\n",
    "    print('Welcome to BDF tutorials')"
   ]
  },
  {
   "cell_type": "code",
   "execution_count": 14,
   "id": "31089e51",
   "metadata": {},
   "outputs": [
    {
     "name": "stdout",
     "output_type": "stream",
     "text": [
      "Welcome to BDF tutorials\n"
     ]
    }
   ],
   "source": [
    "message()"
   ]
  },
  {
   "cell_type": "markdown",
   "id": "0363b3f7",
   "metadata": {},
   "source": [
    "# Default"
   ]
  },
  {
   "cell_type": "code",
   "execution_count": 16,
   "id": "ca033177",
   "metadata": {},
   "outputs": [
    {
     "name": "stdout",
     "output_type": "stream",
     "text": [
      "97 122\n",
      "a\n"
     ]
    }
   ],
   "source": [
    "print(ord('a'),ord('z'))\n",
    "print(chr(97))"
   ]
  },
  {
   "cell_type": "code",
   "execution_count": 19,
   "id": "e288360b",
   "metadata": {},
   "outputs": [],
   "source": [
    "import random\n",
    "def gen_password():\n",
    "    l = ['@','#','$','%']\n",
    "    upper = chr(random.randint(65,90))\n",
    "    lower = chr(random.randint(97,122))\n",
    "    special = random.choice(l)\n",
    "    digit = random.randint(10000,99999)\n",
    "    password = upper + lower + special + str(digit)\n",
    "    return password"
   ]
  },
  {
   "cell_type": "code",
   "execution_count": 25,
   "id": "7d58c223",
   "metadata": {},
   "outputs": [
    {
     "data": {
      "text/plain": [
       "'Yb#13207'"
      ]
     },
     "execution_count": 25,
     "metadata": {},
     "output_type": "execute_result"
    }
   ],
   "source": [
    "result = gen_password()\n",
    "result"
   ]
  },
  {
   "cell_type": "markdown",
   "id": "2b571088",
   "metadata": {},
   "source": [
    "### modify the above code by \n",
    "\n",
    "# * #your parameter length must 8\n",
    "# * list must be a random sample that consist of (password,length)\n",
    "# * print the list\n",
    "# submission by 19:12pm\n"
   ]
  },
  {
   "cell_type": "code",
   "execution_count": 26,
   "id": "71c7ff10",
   "metadata": {},
   "outputs": [],
   "source": [
    "\n",
    "def gen_password(length =8):\n",
    "    l = ['@','#','$','%']\n",
    "    upper = chr(random.randint(65,90))\n",
    "    lower = chr(random.randint(97,122))\n",
    "    special = random.choice(l)\n",
    "    digit = random.randint(10000,99999)\n",
    "    password = upper + lower + special + str(digit)\n",
    "    l  = random.sample(password,length)\n",
    "    print(l)\n",
    "    return password"
   ]
  },
  {
   "cell_type": "code",
   "execution_count": 27,
   "id": "91682115",
   "metadata": {},
   "outputs": [
    {
     "name": "stdout",
     "output_type": "stream",
     "text": [
      "['5', '4', 'P', '3', '9', 'w', '$', '8']\n"
     ]
    },
    {
     "data": {
      "text/plain": [
       "'Pw$58493'"
      ]
     },
     "execution_count": 27,
     "metadata": {},
     "output_type": "execute_result"
    }
   ],
   "source": [
    "output =  gen_password()\n",
    "output"
   ]
  },
  {
   "cell_type": "code",
   "execution_count": 28,
   "id": "53e8f5fb",
   "metadata": {},
   "outputs": [
    {
     "name": "stdout",
     "output_type": "stream",
     "text": [
      "['3', '3', '5', 'H', '$']\n"
     ]
    },
    {
     "data": {
      "text/plain": [
       "'Hi$57313'"
      ]
     },
     "execution_count": 28,
     "metadata": {},
     "output_type": "execute_result"
    }
   ],
   "source": [
    "res = gen_password(5)\n",
    "res"
   ]
  },
  {
   "cell_type": "markdown",
   "id": "13ed8169",
   "metadata": {},
   "source": [
    "# keyword Argument"
   ]
  },
  {
   "cell_type": "code",
   "execution_count": 30,
   "id": "9147d95b",
   "metadata": {},
   "outputs": [],
   "source": [
    "def valid(username,password):\n",
    "    if username == 'ICT2nd' and password == 'ICT2nd@spu.ac.za':\n",
    "        print('valid password')\n",
    "    else:\n",
    "        print('invalid password')\n",
    "    "
   ]
  },
  {
   "cell_type": "code",
   "execution_count": 31,
   "id": "53969c33",
   "metadata": {},
   "outputs": [
    {
     "name": "stdout",
     "output_type": "stream",
     "text": [
      "invalid password\n"
     ]
    }
   ],
   "source": [
    "valid('ICT2nd','Ict2nd@spu.ac.za')"
   ]
  },
  {
   "cell_type": "code",
   "execution_count": 32,
   "id": "b364e9a6",
   "metadata": {},
   "outputs": [
    {
     "name": "stdout",
     "output_type": "stream",
     "text": [
      "valid password\n"
     ]
    }
   ],
   "source": [
    "valid('ICT2nd','ICT2nd@spu.ac.za')"
   ]
  },
  {
   "cell_type": "code",
   "execution_count": 33,
   "id": "175901a3",
   "metadata": {},
   "outputs": [
    {
     "name": "stdout",
     "output_type": "stream",
     "text": [
      "invalid password\n"
     ]
    }
   ],
   "source": [
    "valid('ICT2nd@spu.ac.za','ICT2nd')"
   ]
  },
  {
   "cell_type": "code",
   "execution_count": 35,
   "id": "e8ff7fca",
   "metadata": {},
   "outputs": [
    {
     "ename": "NameError",
     "evalue": "name 'password' is not defined",
     "output_type": "error",
     "traceback": [
      "\u001b[1;31m---------------------------------------------------------------------------\u001b[0m",
      "\u001b[1;31mNameError\u001b[0m                                 Traceback (most recent call last)",
      "\u001b[1;32m<ipython-input-35-3bd2592eff09>\u001b[0m in \u001b[0;36m<module>\u001b[1;34m\u001b[0m\n\u001b[1;32m----> 1\u001b[1;33m \u001b[0mvalid\u001b[0m\u001b[1;33m(\u001b[0m\u001b[0mpassword\u001b[0m\u001b[1;33m==\u001b[0m\u001b[1;34m'ICT2nd@spu.ac.za'\u001b[0m\u001b[1;33m,\u001b[0m\u001b[0musername\u001b[0m\u001b[1;33m==\u001b[0m\u001b[1;34m'ICT2nd'\u001b[0m\u001b[1;33m)\u001b[0m\u001b[1;33m\u001b[0m\u001b[1;33m\u001b[0m\u001b[0m\n\u001b[0m",
      "\u001b[1;31mNameError\u001b[0m: name 'password' is not defined"
     ]
    }
   ],
   "source": [
    "valid(password=='ICT2nd@spu.ac.za',username=='ICT2nd')"
   ]
  },
  {
   "cell_type": "markdown",
   "id": "32ed08ba",
   "metadata": {},
   "source": [
    "# Parameter Passing Techniques | Variable length Positional and Keyword"
   ]
  },
  {
   "cell_type": "code",
   "execution_count": 36,
   "id": "8d5af963",
   "metadata": {},
   "outputs": [],
   "source": [
    "l = [1,2,3,4]\n",
    "l.append(5)"
   ]
  },
  {
   "cell_type": "code",
   "execution_count": 37,
   "id": "c7cb6694",
   "metadata": {},
   "outputs": [
    {
     "data": {
      "text/plain": [
       "[1, 2, 3, 4, 5]"
      ]
     },
     "execution_count": 37,
     "metadata": {},
     "output_type": "execute_result"
    }
   ],
   "source": [
    "l"
   ]
  },
  {
   "cell_type": "code",
   "execution_count": 38,
   "id": "536cbb63",
   "metadata": {
    "scrolled": true
   },
   "outputs": [
    {
     "ename": "TypeError",
     "evalue": "append() takes exactly one argument (2 given)",
     "output_type": "error",
     "traceback": [
      "\u001b[1;31m---------------------------------------------------------------------------\u001b[0m",
      "\u001b[1;31mTypeError\u001b[0m                                 Traceback (most recent call last)",
      "\u001b[1;32m<ipython-input-38-fe79c4ef8f74>\u001b[0m in \u001b[0;36m<module>\u001b[1;34m\u001b[0m\n\u001b[1;32m----> 1\u001b[1;33m \u001b[0ml\u001b[0m\u001b[1;33m.\u001b[0m\u001b[0mappend\u001b[0m\u001b[1;33m(\u001b[0m\u001b[1;36m6\u001b[0m\u001b[1;33m,\u001b[0m\u001b[1;36m7\u001b[0m\u001b[1;33m)\u001b[0m\u001b[1;33m\u001b[0m\u001b[1;33m\u001b[0m\u001b[0m\n\u001b[0m",
      "\u001b[1;31mTypeError\u001b[0m: append() takes exactly one argument (2 given)"
     ]
    }
   ],
   "source": [
    "l.append(6,7)"
   ]
  },
  {
   "cell_type": "code",
   "execution_count": 40,
   "id": "49e24a2d",
   "metadata": {},
   "outputs": [],
   "source": [
    "l.extend([6,7])"
   ]
  },
  {
   "cell_type": "code",
   "execution_count": 41,
   "id": "bc00f627",
   "metadata": {},
   "outputs": [
    {
     "data": {
      "text/plain": [
       "[1, 2, 3, 4, 5, 6, 7]"
      ]
     },
     "execution_count": 41,
     "metadata": {},
     "output_type": "execute_result"
    }
   ],
   "source": [
    "l"
   ]
  },
  {
   "cell_type": "code",
   "execution_count": 42,
   "id": "b2185051",
   "metadata": {},
   "outputs": [
    {
     "name": "stdout",
     "output_type": "stream",
     "text": [
      "(8, 9)\n",
      "(10, 11)\n"
     ]
    }
   ],
   "source": [
    "def add_value(*args):\n",
    "    print(args)\n",
    "    \n",
    "add_value(8,9)\n",
    "add_value(10,11)"
   ]
  },
  {
   "cell_type": "code",
   "execution_count": 43,
   "id": "efa3bf8f",
   "metadata": {},
   "outputs": [
    {
     "data": {
      "text/plain": [
       "[1, 2, 3, 4, 5, 6, 7]"
      ]
     },
     "execution_count": 43,
     "metadata": {},
     "output_type": "execute_result"
    }
   ],
   "source": [
    "l"
   ]
  },
  {
   "cell_type": "markdown",
   "id": "eb5df1d1",
   "metadata": {},
   "source": [
    "## given details (name = 'bdf', email='ict@spu.ac.za', year='2nd year')\n",
    "## write a function that prints the above as an output using **kwargs as an argument"
   ]
  },
  {
   "cell_type": "code",
   "execution_count": null,
   "id": "d30a43c8",
   "metadata": {},
   "outputs": [],
   "source": []
  }
 ],
 "metadata": {
  "kernelspec": {
   "display_name": "Python 3",
   "language": "python",
   "name": "python3"
  },
  "language_info": {
   "codemirror_mode": {
    "name": "ipython",
    "version": 3
   },
   "file_extension": ".py",
   "mimetype": "text/x-python",
   "name": "python",
   "nbconvert_exporter": "python",
   "pygments_lexer": "ipython3",
   "version": "3.8.8"
  }
 },
 "nbformat": 4,
 "nbformat_minor": 5
}
