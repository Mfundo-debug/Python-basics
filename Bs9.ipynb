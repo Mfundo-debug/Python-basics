{
 "cells": [
  {
   "cell_type": "markdown",
   "id": "4f990151",
   "metadata": {},
   "source": [
    "# tuple data type- depth"
   ]
  },
  {
   "cell_type": "code",
   "execution_count": 2,
   "id": "36d2fbdf",
   "metadata": {},
   "outputs": [
    {
     "name": "stdout",
     "output_type": "stream",
     "text": [
      "(10, 20, 30, 40, 50) <class 'tuple'>\n"
     ]
    }
   ],
   "source": [
    "t = (10,20,30,40,50)\n",
    "print(t, type(t))"
   ]
  },
  {
   "cell_type": "code",
   "execution_count": 3,
   "id": "4980d37c",
   "metadata": {},
   "outputs": [
    {
     "name": "stdout",
     "output_type": "stream",
     "text": [
      "10 30\n"
     ]
    }
   ],
   "source": [
    "print(t[0],t[2])"
   ]
  },
  {
   "cell_type": "code",
   "execution_count": 4,
   "id": "ea9530d2",
   "metadata": {},
   "outputs": [
    {
     "name": "stdout",
     "output_type": "stream",
     "text": [
      "(10, 20, 30)\n"
     ]
    }
   ],
   "source": [
    "print(t[:3])"
   ]
  },
  {
   "cell_type": "markdown",
   "id": "064a6320",
   "metadata": {},
   "source": [
    "## take note\n",
    " ### for tuples we have two methods\n",
    " \n",
    " * ordered indexing\n",
    " * slicing"
   ]
  },
  {
   "cell_type": "code",
   "execution_count": 5,
   "id": "3c6f1c78",
   "metadata": {},
   "outputs": [
    {
     "name": "stdout",
     "output_type": "stream",
     "text": [
      "1\n",
      "3\n"
     ]
    }
   ],
   "source": [
    "t = (10,20,20,20,30,40,50)\n",
    "print(t.index(20))\n",
    "print(t.count(20)) #count number of occurrences\n"
   ]
  },
  {
   "cell_type": "code",
   "execution_count": 6,
   "id": "f36d5ae7",
   "metadata": {},
   "outputs": [
    {
     "name": "stdout",
     "output_type": "stream",
     "text": [
      "0 1\n",
      "1 2\n",
      "2 3\n",
      "3 4\n",
      "4 5\n"
     ]
    }
   ],
   "source": [
    "l = [1,2,3,4,5]\n",
    "for idx,v in enumerate(l):\n",
    "    print(idx,v)"
   ]
  },
  {
   "cell_type": "code",
   "execution_count": 7,
   "id": "d0ee1b69",
   "metadata": {},
   "outputs": [
    {
     "name": "stdout",
     "output_type": "stream",
     "text": [
      "1\n",
      "2\n",
      "3\n",
      "4\n",
      "5\n"
     ]
    }
   ],
   "source": [
    "for t in enumerate(l):\n",
    "    print(t[1]) # for index t[0] for value t[1]"
   ]
  },
  {
   "cell_type": "code",
   "execution_count": 8,
   "id": "d9402897",
   "metadata": {},
   "outputs": [
    {
     "name": "stdout",
     "output_type": "stream",
     "text": [
      "(1, 2, 3, 4, 5)\n"
     ]
    }
   ],
   "source": [
    "# convert list to tuple\n",
    "t = tuple(l)\n",
    "print(t)"
   ]
  },
  {
   "cell_type": "code",
   "execution_count": 9,
   "id": "6000abb4",
   "metadata": {},
   "outputs": [
    {
     "name": "stdout",
     "output_type": "stream",
     "text": [
      "['a', 'b', 'c', 10] <class 'tuple'>\n"
     ]
    }
   ],
   "source": [
    "t = ('a','b','c',10)\n",
    "l = list (t)\n",
    "print(l,type(t))"
   ]
  },
  {
   "cell_type": "markdown",
   "id": "a6562df1",
   "metadata": {},
   "source": [
    "# Dictionary Data type| storing and Accessing the data in dictionaries\n",
    "\n",
    "# * Mutable\n",
    "# * unordered\n",
    "# * keys should be unique and immutable int float str tuple"
   ]
  },
  {
   "cell_type": "code",
   "execution_count": 10,
   "id": "780b9b3b",
   "metadata": {},
   "outputs": [
    {
     "data": {
      "text/plain": [
       "{'emp_id': 2020, 'name': 'stu1', 'email': 'stu1@spu.ac.za'}"
      ]
     },
     "execution_count": 10,
     "metadata": {},
     "output_type": "execute_result"
    }
   ],
   "source": [
    "d = {'emp_id': 2020, 'name': 'stu1', 'email':'stu1@spu.ac.za'}\n",
    "d"
   ]
  },
  {
   "cell_type": "code",
   "execution_count": 11,
   "id": "1f36d5b3",
   "metadata": {},
   "outputs": [
    {
     "data": {
      "text/plain": [
       "{'emp_id': 2020, 'name': 'reserve', 'email': 'stu1@spu.ac.za'}"
      ]
     },
     "execution_count": 11,
     "metadata": {},
     "output_type": "execute_result"
    }
   ],
   "source": [
    "d = {'emp_id': 2020, 'name': 'stu1', 'email':'stu1@spu.ac.za', 'name': 'reserve'}\n",
    "d"
   ]
  },
  {
   "cell_type": "code",
   "execution_count": 13,
   "id": "b98a43fe",
   "metadata": {},
   "outputs": [
    {
     "data": {
      "text/plain": [
       "{'emp_id': 2020, 'name': 'stu1', 'email': 'stu1@spu.ac.za'}"
      ]
     },
     "execution_count": 13,
     "metadata": {},
     "output_type": "execute_result"
    }
   ],
   "source": [
    "d = {'emp_id': 2020, 'name': 'stu1', 'email':'stu1@spu.ac.za'}\n",
    "d"
   ]
  },
  {
   "cell_type": "code",
   "execution_count": 16,
   "id": "6397edbd",
   "metadata": {},
   "outputs": [
    {
     "data": {
      "text/plain": [
       "{'emp_id': 2020,\n",
       " 'name': 'stu1',\n",
       " 'email': 'stu1@spu.ac.za',\n",
       " 'contact no': 65432}"
      ]
     },
     "execution_count": 16,
     "metadata": {},
     "output_type": "execute_result"
    }
   ],
   "source": [
    "d['contact no']= 65432\n",
    "d"
   ]
  },
  {
   "cell_type": "code",
   "execution_count": 17,
   "id": "4f6dbf18",
   "metadata": {},
   "outputs": [
    {
     "name": "stdout",
     "output_type": "stream",
     "text": [
      "2020\n"
     ]
    }
   ],
   "source": [
    "print(d['emp_id'])"
   ]
  },
  {
   "cell_type": "code",
   "execution_count": 18,
   "id": "a925b7b1",
   "metadata": {},
   "outputs": [
    {
     "name": "stdout",
     "output_type": "stream",
     "text": [
      "stu1\n"
     ]
    }
   ],
   "source": [
    "print(d.get('name'))"
   ]
  },
  {
   "cell_type": "code",
   "execution_count": 19,
   "id": "1e253202",
   "metadata": {},
   "outputs": [
    {
     "name": "stdout",
     "output_type": "stream",
     "text": [
      "None\n"
     ]
    }
   ],
   "source": [
    "print(d.setdefault('age'))"
   ]
  },
  {
   "cell_type": "code",
   "execution_count": 20,
   "id": "267d5288",
   "metadata": {},
   "outputs": [
    {
     "data": {
      "text/plain": [
       "{'emp_id': 2020,\n",
       " 'name': 'stu1',\n",
       " 'email': 'stu1@spu.ac.za',\n",
       " 'contact no': 65432,\n",
       " 'age': None}"
      ]
     },
     "execution_count": 20,
     "metadata": {},
     "output_type": "execute_result"
    }
   ],
   "source": [
    "d"
   ]
  },
  {
   "cell_type": "code",
   "execution_count": 22,
   "id": "f5f2625f",
   "metadata": {},
   "outputs": [
    {
     "name": "stdout",
     "output_type": "stream",
     "text": [
      "None\n",
      "{'emp_id': 2020, 'name': 'stu1', 'email': 'stu1@spu.ac.za', 'contact no': 65432, 'age': None}\n"
     ]
    }
   ],
   "source": [
    "print(d.setdefault('age',18))\n",
    "print(d)"
   ]
  },
  {
   "cell_type": "code",
   "execution_count": 23,
   "id": "1dc024c0",
   "metadata": {},
   "outputs": [
    {
     "name": "stdout",
     "output_type": "stream",
     "text": [
      "emp_id\n",
      "name\n",
      "email\n",
      "contact no\n",
      "age\n"
     ]
    }
   ],
   "source": [
    "for x in d:\n",
    "    print(x)"
   ]
  },
  {
   "cell_type": "code",
   "execution_count": 24,
   "id": "26d30c2b",
   "metadata": {},
   "outputs": [
    {
     "name": "stdout",
     "output_type": "stream",
     "text": [
      "emp_id 2020\n",
      "name stu1\n",
      "email stu1@spu.ac.za\n",
      "contact no 65432\n",
      "age None\n"
     ]
    }
   ],
   "source": [
    "for key in d:\n",
    "    print(key,d[key])"
   ]
  },
  {
   "cell_type": "code",
   "execution_count": 25,
   "id": "1dcac881",
   "metadata": {},
   "outputs": [
    {
     "name": "stdout",
     "output_type": "stream",
     "text": [
      "{1: 1, 2: 4, 3: 9, 4: 16, 5: 25, 6: 36, 7: 49, 8: 64, 9: 81, 10: 100}\n"
     ]
    }
   ],
   "source": [
    "d= {}\n",
    "for value in range(1,11):\n",
    "    d[value] = value * value\n",
    "    \n",
    "print(d)"
   ]
  },
  {
   "cell_type": "code",
   "execution_count": 26,
   "id": "725db981",
   "metadata": {},
   "outputs": [
    {
     "name": "stdout",
     "output_type": "stream",
     "text": [
      "dict_keys([1, 2, 3, 4, 5, 6, 7, 8, 9, 10])\n"
     ]
    }
   ],
   "source": [
    "print(d.keys())"
   ]
  },
  {
   "cell_type": "code",
   "execution_count": 27,
   "id": "8470c3a4",
   "metadata": {},
   "outputs": [
    {
     "name": "stdout",
     "output_type": "stream",
     "text": [
      "dict_values([1, 4, 9, 16, 25, 36, 49, 64, 81, 100])\n"
     ]
    }
   ],
   "source": [
    "print(d.values())"
   ]
  },
  {
   "cell_type": "code",
   "execution_count": 28,
   "id": "14fbd351",
   "metadata": {},
   "outputs": [
    {
     "name": "stdout",
     "output_type": "stream",
     "text": [
      "dict_items([(1, 1), (2, 4), (3, 9), (4, 16), (5, 25), (6, 36), (7, 49), (8, 64), (9, 81), (10, 100)])\n"
     ]
    }
   ],
   "source": [
    "print(d.items())"
   ]
  },
  {
   "cell_type": "markdown",
   "id": "3350dfeb",
   "metadata": {},
   "source": [
    "# Dictionary Data type| Update and Delete Operations"
   ]
  },
  {
   "cell_type": "code",
   "execution_count": 31,
   "id": "b4e44f43",
   "metadata": {},
   "outputs": [],
   "source": [
    "l = [1,2,3,4]\n",
    "l2 = [1,2,3,4]"
   ]
  },
  {
   "cell_type": "code",
   "execution_count": 32,
   "id": "40b7a5d8",
   "metadata": {},
   "outputs": [
    {
     "name": "stdout",
     "output_type": "stream",
     "text": [
      "{1: 1, 2: 2, 3: 3, 4: 4}\n"
     ]
    }
   ],
   "source": [
    "d = dict(zip(l,l2))\n",
    "print(d)"
   ]
  },
  {
   "cell_type": "code",
   "execution_count": 33,
   "id": "6739d38e",
   "metadata": {},
   "outputs": [
    {
     "name": "stdout",
     "output_type": "stream",
     "text": [
      "{1: None, 2: None, 3: None, 4: None}\n"
     ]
    }
   ],
   "source": [
    "d = dict.fromkeys(l)\n",
    "print(d)"
   ]
  },
  {
   "cell_type": "code",
   "execution_count": 34,
   "id": "61598f1f",
   "metadata": {},
   "outputs": [
    {
     "name": "stdout",
     "output_type": "stream",
     "text": [
      "{1: 1, 2: 4, 3: 9, 4: 16, 5: 25, 6: 35, 7: 49}\n"
     ]
    }
   ],
   "source": [
    "d1 = {1:1, 2:4,3:9, 4:16}\n",
    "d2 = {5:25, 6:35, 7:49}\n",
    "\n",
    "d1.update(d2)\n",
    "print(d1)"
   ]
  },
  {
   "cell_type": "code",
   "execution_count": 35,
   "id": "b2e74c3d",
   "metadata": {},
   "outputs": [
    {
     "name": "stdout",
     "output_type": "stream",
     "text": [
      "{6: 35, 7: 49}\n"
     ]
    }
   ],
   "source": [
    "r =d2.pop(5)\n",
    "print(d2)"
   ]
  },
  {
   "cell_type": "code",
   "execution_count": null,
   "id": "004b4887",
   "metadata": {},
   "outputs": [],
   "source": []
  }
 ],
 "metadata": {
  "kernelspec": {
   "display_name": "Python 3",
   "language": "python",
   "name": "python3"
  },
  "language_info": {
   "codemirror_mode": {
    "name": "ipython",
    "version": 3
   },
   "file_extension": ".py",
   "mimetype": "text/x-python",
   "name": "python",
   "nbconvert_exporter": "python",
   "pygments_lexer": "ipython3",
   "version": "3.8.8"
  }
 },
 "nbformat": 4,
 "nbformat_minor": 5
}
