{
 "cells": [
  {
   "cell_type": "markdown",
   "id": "b4d57aa5",
   "metadata": {},
   "source": [
    "# Conditional  Statements| if,elif,else\n",
    "\n",
    "* A conditional statement in python, also called a condition constructs, is a statement that accommodates a condition inside itself. This condition is constructed using the bitwise, boolean, and comparison operators in Python.\n",
    "* conditional statements are used to decide the flow of your program based on a particular condition"
   ]
  },
  {
   "cell_type": "markdown",
   "id": "f2aeb4ae",
   "metadata": {},
   "source": [
    "if [condition]:\n",
    "\n",
    "    statements\n",
    "else:\n",
    "\n",
    "    statements\n",
    "    \n",
    "    if you multiple conditions to be met then we use keyword 'elif\n",
    "if [condition]:\n",
    "\n",
    "    statements\n",
    "    \n",
    "elif [condition]:\n",
    "\n",
    "   statements\n",
    "else:\n",
    "\n",
    "    statements"
   ]
  },
  {
   "cell_type": "code",
   "execution_count": 1,
   "id": "e580600e",
   "metadata": {},
   "outputs": [
    {
     "name": "stdout",
     "output_type": "stream",
     "text": [
      "y is greater than x\n"
     ]
    }
   ],
   "source": [
    "# you are welcome to change the values for x and y\n",
    "x = 1\n",
    "y = 2\n",
    "# check whether x is >\n",
    "# y is >\n",
    "# x and y are equal\n",
    "\n",
    "if x>y:\n",
    "    print('x is greater than y')\n",
    "elif y>x:\n",
    "    print('y is greater than x')\n",
    "else:\n",
    "    print('x and y are equal')"
   ]
  },
  {
   "cell_type": "code",
   "execution_count": 2,
   "id": "1cfb96b4",
   "metadata": {},
   "outputs": [
    {
     "name": "stdout",
     "output_type": "stream",
     "text": [
      "Execute here\n"
     ]
    }
   ],
   "source": [
    "if 1:\n",
    "    print('Execute here')\n",
    "else:\n",
    "    print('here')"
   ]
  },
  {
   "cell_type": "code",
   "execution_count": 3,
   "id": "3f1889b7",
   "metadata": {},
   "outputs": [
    {
     "name": "stdout",
     "output_type": "stream",
     "text": [
      "world\n"
     ]
    }
   ],
   "source": [
    "if 0:\n",
    "    print('hello')\n",
    "    \n",
    "else:\n",
    "    print('world')"
   ]
  },
  {
   "cell_type": "markdown",
   "id": "92edfd56",
   "metadata": {},
   "source": [
    "### take note\n",
    "* from 1...n it will always excute the first statement (because it is by default)\n",
    "* if 0 it will execute the second statement\n"
   ]
  },
  {
   "cell_type": "markdown",
   "id": "9690e4ba",
   "metadata": {},
   "source": [
    "# Iterating Loops |syntax\n",
    "* for loop\n",
    "* while loop\n",
    "\n",
    "Iterable datatypes:\n",
    "str, list, tuple, dict, set\n",
    "syntax for loop\n",
    "\n",
    "for [variable_name] in [iterable datatype]:\n",
    "\n",
    "    statements"
   ]
  },
  {
   "cell_type": "code",
   "execution_count": 4,
   "id": "dd539c65",
   "metadata": {},
   "outputs": [
    {
     "name": "stdout",
     "output_type": "stream",
     "text": [
      "1\n",
      "2\n",
      "3\n",
      "4\n",
      "5\n"
     ]
    }
   ],
   "source": [
    "l = [1,2,3,4,5]\n",
    "for value in l:\n",
    "    print(value)\n",
    "    "
   ]
  },
  {
   "cell_type": "markdown",
   "id": "afd2e842",
   "metadata": {},
   "source": [
    "lets modify the above code"
   ]
  },
  {
   "cell_type": "code",
   "execution_count": 5,
   "id": "9ee99078",
   "metadata": {},
   "outputs": [
    {
     "name": "stdout",
     "output_type": "stream",
     "text": [
      "15\n"
     ]
    }
   ],
   "source": [
    "sum = 0\n",
    "for value in l:\n",
    "    sum += value\n",
    "print(sum)#outputs the total"
   ]
  },
  {
   "cell_type": "code",
   "execution_count": 6,
   "id": "bf4be017",
   "metadata": {},
   "outputs": [
    {
     "name": "stdout",
     "output_type": "stream",
     "text": [
      "1\n",
      "3\n",
      "6\n",
      "10\n",
      "15\n"
     ]
    }
   ],
   "source": [
    "sum = 0\n",
    "for value in l:\n",
    "    sum += value\n",
    "    print(sum)#shows the steps"
   ]
  },
  {
   "cell_type": "markdown",
   "id": "c9a929d6",
   "metadata": {},
   "source": [
    "* range-Seeing the word ‘range’ you would remember values that lie in a particular interval. The function in Python has a similar function.\n",
    "* range(start,stop, step)\n",
    "\n",
    " learrn more  @ https://pythongeeks.org/python-range-function/\n",
    " \n",
    " * examples \n",
    " \n",
    "range(5) - 0 1 2 3 4\n",
    "\n",
    "range(10,100) - 10 11 12 ... 99\n",
    "\n",
    "range(10,100,5)- 10 15 20 25 ...95 100"
   ]
  },
  {
   "cell_type": "code",
   "execution_count": 7,
   "id": "8bb30935",
   "metadata": {},
   "outputs": [
    {
     "name": "stdout",
     "output_type": "stream",
     "text": [
      "0\n",
      "1\n",
      "2\n",
      "3\n",
      "4\n"
     ]
    }
   ],
   "source": [
    "for value in range(5):\n",
    "    print(value)"
   ]
  },
  {
   "cell_type": "code",
   "execution_count": 8,
   "id": "0bfe71fd",
   "metadata": {},
   "outputs": [
    {
     "name": "stdout",
     "output_type": "stream",
     "text": [
      "10\n",
      "11\n",
      "12\n",
      "13\n",
      "14\n",
      "15\n",
      "16\n",
      "17\n",
      "18\n",
      "19\n",
      "20\n",
      "21\n",
      "22\n",
      "23\n",
      "24\n",
      "25\n",
      "26\n",
      "27\n",
      "28\n",
      "29\n",
      "30\n",
      "31\n",
      "32\n",
      "33\n",
      "34\n",
      "35\n",
      "36\n",
      "37\n",
      "38\n",
      "39\n",
      "40\n",
      "41\n",
      "42\n",
      "43\n",
      "44\n",
      "45\n",
      "46\n",
      "47\n",
      "48\n",
      "49\n"
     ]
    }
   ],
   "source": [
    "for value in range(10,50):\n",
    "    print(value)"
   ]
  },
  {
   "cell_type": "code",
   "execution_count": 9,
   "id": "c737b9e4",
   "metadata": {},
   "outputs": [
    {
     "name": "stdout",
     "output_type": "stream",
     "text": [
      "10\n",
      "15\n",
      "20\n",
      "25\n",
      "30\n",
      "35\n",
      "40\n",
      "45\n"
     ]
    }
   ],
   "source": [
    "for value in range(10,50,5):\n",
    "    print(value)"
   ]
  },
  {
   "cell_type": "code",
   "execution_count": 10,
   "id": "90f8305e",
   "metadata": {},
   "outputs": [
    {
     "name": "stdout",
     "output_type": "stream",
     "text": [
      "210\n"
     ]
    }
   ],
   "source": [
    "sum =0\n",
    "for value in range(1,21):\n",
    "    sum += value\n",
    "print(sum)"
   ]
  },
  {
   "cell_type": "markdown",
   "id": "596a5488",
   "metadata": {},
   "source": [
    "# Iterating using For loop | Continue|Break|enumerate"
   ]
  },
  {
   "cell_type": "code",
   "execution_count": 11,
   "id": "c38bb4f9",
   "metadata": {},
   "outputs": [
    {
     "name": "stdout",
     "output_type": "stream",
     "text": [
      "0\n",
      "1\n",
      "2\n",
      "3\n",
      "4\n",
      "5\n",
      "6\n",
      "7\n",
      "8\n",
      "9\n"
     ]
    }
   ],
   "source": [
    "for x in range(10):\n",
    "    print(x)"
   ]
  },
  {
   "cell_type": "markdown",
   "id": "86e7daa5",
   "metadata": {},
   "source": [
    "Suppose I have a list 'l' and want to search if a particular value exist in l or not\n",
    "\n",
    "* Using Linear Search algorithm- compare the key with each element, if element is present, then stop."
   ]
  },
  {
   "cell_type": "code",
   "execution_count": 12,
   "id": "46fa2b12",
   "metadata": {},
   "outputs": [
    {
     "name": "stdout",
     "output_type": "stream",
     "text": [
      "element found 3\n"
     ]
    }
   ],
   "source": [
    "l = [1,2,3,4,5]\n",
    "k = 3\n",
    "for x in l:\n",
    "    if x == k:\n",
    "        print('element found',x)\n",
    "        break\n",
    "    else:\n",
    "        continue"
   ]
  },
  {
   "cell_type": "markdown",
   "id": "e3fa47b5",
   "metadata": {},
   "source": [
    "Suppose we say k=6 which is not part l"
   ]
  },
  {
   "cell_type": "code",
   "execution_count": 13,
   "id": "b988d5da",
   "metadata": {},
   "outputs": [
    {
     "name": "stdout",
     "output_type": "stream",
     "text": [
      "element not found\n"
     ]
    }
   ],
   "source": [
    "l = [1,2,3,4,5]\n",
    "k = 6\n",
    "for x in l:\n",
    "    if x == k:\n",
    "        print('element found',x)\n",
    "        break\n",
    "    else:\n",
    "        continue\n",
    "else:\n",
    "    print('element not found')"
   ]
  },
  {
   "cell_type": "markdown",
   "id": "61ed79d5",
   "metadata": {},
   "source": [
    "take note!\n",
    "* if you loop through without execution of break statement, it will jump to the execution of first block"
   ]
  },
  {
   "cell_type": "markdown",
   "id": "9588d72c",
   "metadata": {},
   "source": [
    "### Enumerate\n",
    "\n",
    "Python eases the programmers’ task by providing a built-in function enumerate () for this task. Enumerate () method adds a counter to an iterable and returns it in a form of enumerate object. This enumerate object can then be used directly in for loops or be converted into a list of tuples using list () method.\n",
    "learn more here @ https://www.geeksforgeeks.org/enumerate-in-python/#:~:text=Python%20eases%20the%20programmers%E2%80%99%20task%20by%20providing%20a,a%20list%20of%20tuples%20using%20list%20%28%29%20method."
   ]
  },
  {
   "cell_type": "code",
   "execution_count": 14,
   "id": "ca055776",
   "metadata": {},
   "outputs": [
    {
     "name": "stdout",
     "output_type": "stream",
     "text": [
      "0 1\n",
      "1 2\n",
      "2 3\n",
      "3 4\n",
      "4 5\n"
     ]
    }
   ],
   "source": [
    "for idx,x in enumerate(l):\n",
    "    print(idx,x)"
   ]
  },
  {
   "cell_type": "code",
   "execution_count": 15,
   "id": "3d0402ca",
   "metadata": {},
   "outputs": [
    {
     "name": "stdout",
     "output_type": "stream",
     "text": [
      "element is found at index:  0\n"
     ]
    }
   ],
   "source": [
    "l = [2,4,6,8,10]\n",
    "k = 2\n",
    "for idx,x in enumerate(l):\n",
    "    if x == k:\n",
    "        print('element is found at index: ', idx)\n",
    "        break\n",
    "    else:\n",
    "        continue\n",
    "else:\n",
    "    print('element not found')"
   ]
  },
  {
   "cell_type": "markdown",
   "id": "88d0fc31",
   "metadata": {},
   "source": [
    "suppose I replace 'continue' with 'pass'"
   ]
  },
  {
   "cell_type": "code",
   "execution_count": 16,
   "id": "85572c48",
   "metadata": {},
   "outputs": [
    {
     "name": "stdout",
     "output_type": "stream",
     "text": [
      "Continue searching...\n",
      "Continue searching...\n",
      "Continue searching...\n",
      "Continue searching...\n",
      "Continue searching...\n",
      "element not found\n"
     ]
    }
   ],
   "source": [
    "l = [2,4,6,8,10]\n",
    "k = 3\n",
    "for idx,x in enumerate(l):\n",
    "    if x == k:\n",
    "        print('element is found at index: ', idx)\n",
    "        break\n",
    "    else:\n",
    "        pass\n",
    "        print('Continue searching...')\n",
    "else:\n",
    "    print('element not found')"
   ]
  },
  {
   "cell_type": "markdown",
   "id": "314b8feb",
   "metadata": {},
   "source": [
    "# Iterating using While loops| Syntax\n",
    "\n",
    "\n",
    "while [condition]:\n",
    "\n",
    "    [statements]\n",
    "    \n",
    "else:\n",
    "\n",
    "A while loop statement in Python programming language repeatedly executes a target statement as long as a given condition is true.\n",
    "learn more @ https://www.tutorialspoint.com/python/python_while_loop.htm"
   ]
  },
  {
   "cell_type": "code",
   "execution_count": 17,
   "id": "d84de1c9",
   "metadata": {},
   "outputs": [
    {
     "name": "stdout",
     "output_type": "stream",
     "text": [
      "15 6\n"
     ]
    }
   ],
   "source": [
    "count = 1\n",
    "sum = 0\n",
    "while count <= 5:\n",
    "    sum += count\n",
    "    count += 1\n",
    "print(sum,count)"
   ]
  },
  {
   "cell_type": "markdown",
   "id": "72d89255",
   "metadata": {},
   "source": [
    "### Task\n",
    "\n",
    "* write a python program to find those numbers which are divisible by 7 and 5, between 1500 and 2700\n",
    "* write a python program to count the number of even and odd\n",
    "\n",
    "numbers from series of numbers\n",
    "\n",
    "sample numbers:\n",
    "\n",
    "n = (1,2,3,4,5,6,7,8,9)\n",
    "\n",
    "* Expected output:\n",
    "\n",
    "- number of even numbers:4\n",
    "\n",
    "- number of odd numbers: 5\n",
    "-------------------------------------------------------------------------------------------------------------------------------\n",
    "* write a python program to calculate the sum and average of n INT NUMBERS\n",
    "- CONDITION(allow the user to put his own numbers and exit with 0)"
   ]
  },
  {
   "cell_type": "code",
   "execution_count": 18,
   "id": "d006a853",
   "metadata": {},
   "outputs": [
    {
     "name": "stdout",
     "output_type": "stream",
     "text": [
      "['1505', '1540', '1575', '1610', '1645', '1680', '1715', '1750', '1785', '1820', '1855', '1890', '1925', '1960', '1995', '2030', '2065', '2100', '2135', '2170', '2205', '2240', '2275', '2310', '2345', '2380', '2415', '2450', '2485', '2520', '2555', '2590', '2625', '2660', '2695']\n"
     ]
    }
   ],
   "source": [
    "l = []\n",
    "for x in range(1500,2700):\n",
    "    if (x%7==0) and (x%5==0):\n",
    "        l.append(str(x))\n",
    "print(l)\n",
    "    "
   ]
  },
  {
   "cell_type": "code",
   "execution_count": 19,
   "id": "3f8ccb71",
   "metadata": {},
   "outputs": [
    {
     "name": "stdout",
     "output_type": "stream",
     "text": [
      "number of even numbers: 4\n",
      "number of odd numbers: 5\n"
     ]
    }
   ],
   "source": [
    "n = (1,2,3,4,5,6,7,8,9)\n",
    "odd_count = 0\n",
    "even_count = 0\n",
    "\n",
    "for i in n:\n",
    "    if not i%2:\n",
    "        even_count +=1\n",
    "    else:\n",
    "        odd_count +=1\n",
    "print('number of even numbers:', even_count)\n",
    "print('number of odd numbers:', odd_count)"
   ]
  },
  {
   "cell_type": "code",
   "execution_count": 20,
   "id": "b114ba07",
   "metadata": {},
   "outputs": [
    {
     "name": "stdout",
     "output_type": "stream",
     "text": [
      "enter 0 to exit\n",
      "4\n",
      "5\n",
      "7\n",
      "0\n",
      "average and sum of n:  5.333333333333333 16\n"
     ]
    }
   ],
   "source": [
    "print('enter 0 to exit')\n",
    "count = 0\n",
    "sum = 0\n",
    "n = 1\n",
    "while n !=0:\n",
    "    n =int(input(''))\n",
    "    sum += n\n",
    "    count +=1\n",
    "if count ==0:\n",
    "    print('input numbers')\n",
    "else:\n",
    "    print('average and sum of n: ', sum/(count-1),sum)\n",
    "    "
   ]
  },
  {
   "cell_type": "code",
   "execution_count": null,
   "id": "52ffad38",
   "metadata": {},
   "outputs": [],
   "source": []
  }
 ],
 "metadata": {
  "kernelspec": {
   "display_name": "Python 3",
   "language": "python",
   "name": "python3"
  },
  "language_info": {
   "codemirror_mode": {
    "name": "ipython",
    "version": 3
   },
   "file_extension": ".py",
   "mimetype": "text/x-python",
   "name": "python",
   "nbconvert_exporter": "python",
   "pygments_lexer": "ipython3",
   "version": "3.8.8"
  }
 },
 "nbformat": 4,
 "nbformat_minor": 5
}
