{
 "cells": [
  {
   "cell_type": "markdown",
   "id": "2f2ba8a3",
   "metadata": {},
   "source": [
    "# User defined functions\n",
    "\n",
    "* code reuse\n",
    "* Modularity"
   ]
  },
  {
   "cell_type": "code",
   "execution_count": 2,
   "id": "3a495d6a",
   "metadata": {},
   "outputs": [
    {
     "name": "stdout",
     "output_type": "stream",
     "text": [
      "7\n"
     ]
    }
   ],
   "source": [
    "s = 'python,html,css'\n",
    "print(s.index('html'))"
   ]
  },
  {
   "cell_type": "markdown",
   "id": "f0671e48",
   "metadata": {},
   "source": [
    "# we have a function call\n",
    "# function definition"
   ]
  },
  {
   "cell_type": "code",
   "execution_count": 3,
   "id": "83346d4f",
   "metadata": {},
   "outputs": [],
   "source": [
    "def value_reverse(value):\n",
    "    reverse = value[::-1]\n",
    "    print(reverse)"
   ]
  },
  {
   "cell_type": "code",
   "execution_count": 4,
   "id": "f2584663",
   "metadata": {},
   "outputs": [
    {
     "name": "stdout",
     "output_type": "stream",
     "text": [
      "nohtyp\n"
     ]
    }
   ],
   "source": [
    "s = 'python'\n",
    "value_reverse(s)"
   ]
  },
  {
   "cell_type": "code",
   "execution_count": 5,
   "id": "70856f72",
   "metadata": {},
   "outputs": [
    {
     "data": {
      "text/plain": [
       "[1, 2, 3, 4, 5, 6]"
      ]
     },
     "execution_count": 5,
     "metadata": {},
     "output_type": "execute_result"
    }
   ],
   "source": [
    "l = [1,2,3,4,5]\n",
    "l.append(6)\n",
    "l"
   ]
  },
  {
   "cell_type": "code",
   "execution_count": 6,
   "id": "c92077ab",
   "metadata": {},
   "outputs": [
    {
     "name": "stdout",
     "output_type": "stream",
     "text": [
      "[6, 5, 4, 3, 2, 1]\n"
     ]
    }
   ],
   "source": [
    "value_reverse(l)"
   ]
  },
  {
   "cell_type": "code",
   "execution_count": 9,
   "id": "b31bffd6",
   "metadata": {},
   "outputs": [],
   "source": [
    "def value_reve(value):# function to reverse int,list...\n",
    "    if type(value)== list or type(value)==str:\n",
    "        reverse = value[::-1]\n",
    "    else:\n",
    "        temp = str(value)\n",
    "        reverse = temp[::-1]\n",
    "    return reverse"
   ]
  },
  {
   "cell_type": "code",
   "execution_count": 8,
   "id": "538bd0b4",
   "metadata": {},
   "outputs": [
    {
     "data": {
      "text/plain": [
       "'321'"
      ]
     },
     "execution_count": 8,
     "metadata": {},
     "output_type": "execute_result"
    }
   ],
   "source": [
    "num = 123\n",
    "value_reve(123)"
   ]
  },
  {
   "cell_type": "markdown",
   "id": "f4ff6b4e",
   "metadata": {},
   "source": [
    "# Parameter Passing Technique| Positional- Default - keyword Params"
   ]
  },
  {
   "cell_type": "code",
   "execution_count": 15,
   "id": "f6352a8f",
   "metadata": {},
   "outputs": [],
   "source": [
    "def linear_search(l,key):\n",
    "    for value in l:\n",
    "        if key==value:\n",
    "            return True\n",
    "    else:\n",
    "        return False"
   ]
  },
  {
   "cell_type": "code",
   "execution_count": 16,
   "id": "74cb2d10",
   "metadata": {},
   "outputs": [
    {
     "data": {
      "text/plain": [
       "False"
      ]
     },
     "execution_count": 16,
     "metadata": {},
     "output_type": "execute_result"
    }
   ],
   "source": [
    "l = [100,200,300]\n",
    "key = 400\n",
    "linear_search(l,key)"
   ]
  },
  {
   "cell_type": "markdown",
   "id": "a7903ceb",
   "metadata": {},
   "source": [
    "# Default "
   ]
  },
  {
   "cell_type": "code",
   "execution_count": 17,
   "id": "dcec90be",
   "metadata": {},
   "outputs": [
    {
     "name": "stdout",
     "output_type": "stream",
     "text": [
      "97 122\n",
      "a\n"
     ]
    }
   ],
   "source": [
    "print(ord('a'),ord('z'))\n",
    "print(chr(97))"
   ]
  },
  {
   "cell_type": "code",
   "execution_count": 22,
   "id": "17a53649",
   "metadata": {},
   "outputs": [],
   "source": [
    "import random\n",
    "def gen_password():\n",
    "    l =['@','#','%','&']\n",
    "    upper = chr(random.randint(65,90))\n",
    "    lower = chr(random.randint(97,122))\n",
    "    special = random.choice(l)\n",
    "    digits = random.randint(10000,99999)\n",
    "    password = upper + lower + special + str(digits)\n",
    "    \n",
    "    return password"
   ]
  },
  {
   "cell_type": "code",
   "execution_count": 23,
   "id": "468f9097",
   "metadata": {},
   "outputs": [
    {
     "data": {
      "text/plain": [
       "'Dv@10439'"
      ]
     },
     "execution_count": 23,
     "metadata": {},
     "output_type": "execute_result"
    }
   ],
   "source": [
    "result = gen_password()\n",
    "result"
   ]
  },
  {
   "cell_type": "code",
   "execution_count": 24,
   "id": "abfd7118",
   "metadata": {},
   "outputs": [],
   "source": [
    "\n",
    "def gen_password(length =8):\n",
    "    l =['@','#','%','&']\n",
    "    upper = chr(random.randint(65,90))\n",
    "    lower = chr(random.randint(97,122))\n",
    "    special = random.choice(l)\n",
    "    digits = random.randint(10000,99999)\n",
    "    password = upper + lower + special + str(digits)\n",
    "    l = random.sample(password,length)\n",
    "    print(l)\n",
    "    return password"
   ]
  },
  {
   "cell_type": "code",
   "execution_count": 26,
   "id": "8179cbaf",
   "metadata": {},
   "outputs": [
    {
     "name": "stdout",
     "output_type": "stream",
     "text": [
      "['9', '&', 'g', '8', '2']\n"
     ]
    },
    {
     "data": {
      "text/plain": [
       "'Zg&82945'"
      ]
     },
     "execution_count": 26,
     "metadata": {},
     "output_type": "execute_result"
    }
   ],
   "source": [
    "res = gen_password(5)\n",
    "res"
   ]
  },
  {
   "cell_type": "code",
   "execution_count": 27,
   "id": "06516d2f",
   "metadata": {},
   "outputs": [],
   "source": [
    "\n",
    "def gen_password(length =8):\n",
    "    l =['@','#','%','&']\n",
    "    upper = chr(random.randint(65,90))\n",
    "    lower = chr(random.randint(97,122))\n",
    "    special = random.choice(l)\n",
    "    digits = random.randint(10000,99999)\n",
    "    password = upper + lower + special + str(digits)\n",
    "    l = random.sample(password,length)\n",
    "    password = ('').join(l)\n",
    "    return password"
   ]
  },
  {
   "cell_type": "code",
   "execution_count": 28,
   "id": "e7178388",
   "metadata": {},
   "outputs": [
    {
     "data": {
      "text/plain": [
       "'73Mw0'"
      ]
     },
     "execution_count": 28,
     "metadata": {},
     "output_type": "execute_result"
    }
   ],
   "source": [
    "re = gen_password(5)\n",
    "re"
   ]
  },
  {
   "cell_type": "markdown",
   "id": "da15179b",
   "metadata": {},
   "source": [
    "# Keyword"
   ]
  },
  {
   "cell_type": "code",
   "execution_count": 29,
   "id": "0d02f1a1",
   "metadata": {},
   "outputs": [],
   "source": [
    "def validate(username,password):\n",
    "    if username== 'ABC' and password == 'Abc@123':\n",
    "        print('Valid Password')\n",
    "    else:\n",
    "        print('Invalid password')"
   ]
  },
  {
   "cell_type": "code",
   "execution_count": 30,
   "id": "fb84ab78",
   "metadata": {},
   "outputs": [
    {
     "name": "stdout",
     "output_type": "stream",
     "text": [
      "Invalid password\n"
     ]
    }
   ],
   "source": [
    "validate('abc123','Abc@123')"
   ]
  },
  {
   "cell_type": "code",
   "execution_count": 31,
   "id": "2a0d84ef",
   "metadata": {},
   "outputs": [
    {
     "name": "stdout",
     "output_type": "stream",
     "text": [
      "Valid Password\n"
     ]
    }
   ],
   "source": [
    "validate('ABC','Abc@123')"
   ]
  },
  {
   "cell_type": "code",
   "execution_count": 33,
   "id": "70203d1e",
   "metadata": {},
   "outputs": [
    {
     "name": "stdout",
     "output_type": "stream",
     "text": [
      "1,2hi\n"
     ]
    }
   ],
   "source": [
    "print(1,2, sep=',', end='')\n",
    "print('hi')"
   ]
  },
  {
   "cell_type": "markdown",
   "id": "6ffe0a88",
   "metadata": {},
   "source": [
    "# Parameter Passing Techniques | Variable Lengthh Positional and Keyword"
   ]
  },
  {
   "cell_type": "code",
   "execution_count": 34,
   "id": "3483d103",
   "metadata": {},
   "outputs": [
    {
     "data": {
      "text/plain": [
       "[1, 2, 3, 4, 5]"
      ]
     },
     "execution_count": 34,
     "metadata": {},
     "output_type": "execute_result"
    }
   ],
   "source": [
    "l = [1,2,3,4]\n",
    "l.append(5)\n",
    "l"
   ]
  },
  {
   "cell_type": "code",
   "execution_count": 35,
   "id": "417a02f3",
   "metadata": {},
   "outputs": [
    {
     "name": "stdout",
     "output_type": "stream",
     "text": [
      "(6, 7, 8, 9)\n",
      "(10, 20, 30, 40)\n"
     ]
    }
   ],
   "source": [
    "def add_value(*args):\n",
    "    print(args)\n",
    "    \n",
    "add_value(6,7,8,9)\n",
    "add_value(10,20,30,40)"
   ]
  },
  {
   "cell_type": "code",
   "execution_count": 36,
   "id": "6be88fdd",
   "metadata": {},
   "outputs": [],
   "source": [
    "def add_value(*args):\n",
    "    l = []\n",
    "    for value in args:\n",
    "        l.append(value)\n",
    "    return"
   ]
  },
  {
   "cell_type": "code",
   "execution_count": 37,
   "id": "371fca45",
   "metadata": {},
   "outputs": [],
   "source": [
    "add_value(20,40,60,70)\n",
    "add_value(100,200,500)"
   ]
  },
  {
   "cell_type": "code",
   "execution_count": 38,
   "id": "9d42f062",
   "metadata": {},
   "outputs": [
    {
     "name": "stdout",
     "output_type": "stream",
     "text": [
      "<function add_value at 0x0000021FB9F274C0>\n"
     ]
    }
   ],
   "source": [
    "print(add_value)"
   ]
  },
  {
   "cell_type": "code",
   "execution_count": 44,
   "id": "a4c8b9b3",
   "metadata": {},
   "outputs": [
    {
     "name": "stdout",
     "output_type": "stream",
     "text": [
      "{'name': 'BDF', 'email': 'BDF@spu.ac.za', 'contact': '2nd year', 'dob': '06-06-2021'}\n"
     ]
    }
   ],
   "source": [
    "details(name='BDF', email='BDF@spu.ac.za', contact ='2nd year',dob='06-06-2021')\n"
   ]
  },
  {
   "cell_type": "code",
   "execution_count": 43,
   "id": "977525af",
   "metadata": {},
   "outputs": [],
   "source": [
    "def details(**kwargs):\n",
    "    print(kwargs)"
   ]
  },
  {
   "cell_type": "code",
   "execution_count": null,
   "id": "4111f151",
   "metadata": {},
   "outputs": [],
   "source": []
  }
 ],
 "metadata": {
  "kernelspec": {
   "display_name": "Python 3",
   "language": "python",
   "name": "python3"
  },
  "language_info": {
   "codemirror_mode": {
    "name": "ipython",
    "version": 3
   },
   "file_extension": ".py",
   "mimetype": "text/x-python",
   "name": "python",
   "nbconvert_exporter": "python",
   "pygments_lexer": "ipython3",
   "version": "3.8.8"
  }
 },
 "nbformat": 4,
 "nbformat_minor": 5
}
