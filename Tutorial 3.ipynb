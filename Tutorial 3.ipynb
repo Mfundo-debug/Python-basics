{
 "cells": [
  {
   "cell_type": "markdown",
   "id": "d0bff589",
   "metadata": {},
   "source": [
    "#  Iterating using for loop| Continue| Break| Enumerate"
   ]
  },
  {
   "cell_type": "code",
   "execution_count": 1,
   "id": "be5bf34a",
   "metadata": {},
   "outputs": [
    {
     "name": "stdout",
     "output_type": "stream",
     "text": [
      "0\n",
      "1\n",
      "2\n",
      "3\n",
      "4\n",
      "5\n",
      "6\n",
      "7\n",
      "8\n",
      "9\n"
     ]
    }
   ],
   "source": [
    "for x in range(10):\n",
    "    print(x)"
   ]
  },
  {
   "cell_type": "markdown",
   "id": "80d9f993",
   "metadata": {},
   "source": [
    "Suppose I have list  'l' and I want to search if a particular value exists in 'l' or not\n",
    "*  Linear Search Algorithm- compares the key with each element,\n",
    " if the element exist/present, it stops"
   ]
  },
  {
   "cell_type": "code",
   "execution_count": 3,
   "id": "98df349e",
   "metadata": {},
   "outputs": [
    {
     "name": "stdout",
     "output_type": "stream",
     "text": [
      "Key has been found 3\n"
     ]
    }
   ],
   "source": [
    "l = [1,2,3,4,5]\n",
    "key = 3\n",
    "for k in l:\n",
    "    if k == key:\n",
    "        print('Key has been found', k)\n",
    "        break\n",
    "    else:\n",
    "        continue"
   ]
  },
  {
   "cell_type": "markdown",
   "id": "4b93625b",
   "metadata": {},
   "source": [
    "# suppose your key is 6 write the code that searches for that key in yourlist\n",
    " ## given that your list is L = [2,4,8,10]\n",
    " ## and if it does exist print that the element does not exist"
   ]
  },
  {
   "cell_type": "code",
   "execution_count": 6,
   "id": "6ab72015",
   "metadata": {},
   "outputs": [
    {
     "name": "stdout",
     "output_type": "stream",
     "text": [
      "element does not exist\n"
     ]
    }
   ],
   "source": [
    "L = [2,4,8,10]\n",
    "key =6\n",
    "for k in L:\n",
    "    if k!= key:\n",
    "        print('element does not exist')\n",
    "        break\n",
    "    else:\n",
    "        print('element exists', k)"
   ]
  },
  {
   "cell_type": "code",
   "execution_count": 7,
   "id": "28babe19",
   "metadata": {},
   "outputs": [
    {
     "name": "stdout",
     "output_type": "stream",
     "text": [
      "element not found\n"
     ]
    }
   ],
   "source": [
    "l = [2,4,8,10]\n",
    "key =6\n",
    "for x in l:\n",
    "    if x == key:\n",
    "        print('element found', k)\n",
    "        break\n",
    "    else:\n",
    "        continue\n",
    "else:\n",
    "    print('element not found')"
   ]
  },
  {
   "cell_type": "markdown",
   "id": "879f9a40",
   "metadata": {},
   "source": [
    "# finding the index/position of an element"
   ]
  },
  {
   "cell_type": "code",
   "execution_count": 8,
   "id": "7225cd60",
   "metadata": {},
   "outputs": [],
   "source": [
    "cities = ['kimberley', 'Pta', 'london']"
   ]
  },
  {
   "cell_type": "code",
   "execution_count": 10,
   "id": "0f618ebc",
   "metadata": {},
   "outputs": [
    {
     "name": "stdout",
     "output_type": "stream",
     "text": [
      "1\n"
     ]
    }
   ],
   "source": [
    "print(cities.index('Pta'))"
   ]
  },
  {
   "cell_type": "code",
   "execution_count": 11,
   "id": "adcd10a4",
   "metadata": {},
   "outputs": [
    {
     "name": "stdout",
     "output_type": "stream",
     "text": [
      "2\n"
     ]
    }
   ],
   "source": [
    "print(cities.index('london'))"
   ]
  },
  {
   "cell_type": "code",
   "execution_count": 12,
   "id": "896e4436",
   "metadata": {},
   "outputs": [
    {
     "name": "stdout",
     "output_type": "stream",
     "text": [
      "0\n"
     ]
    }
   ],
   "source": [
    "print(cities.index('kimberley'))"
   ]
  },
  {
   "cell_type": "markdown",
   "id": "9797c97c",
   "metadata": {},
   "source": [
    "# take note \n",
    "* if you loop through without the execution of break statement, it will jump to the execution of first block"
   ]
  },
  {
   "cell_type": "markdown",
   "id": "a89530a1",
   "metadata": {},
   "source": [
    "# enumerate\n",
    "enumerate function () it adds a counter to an iterable and returns it in a form of enumerate object.\n",
    "it can be used directly in for loops or be converted into list of tuples using the list() method"
   ]
  },
  {
   "cell_type": "code",
   "execution_count": 13,
   "id": "f0bf8d40",
   "metadata": {},
   "outputs": [
    {
     "name": "stdout",
     "output_type": "stream",
     "text": [
      "0 10\n",
      "1 20\n",
      "2 30\n",
      "3 40\n",
      "4 50\n"
     ]
    }
   ],
   "source": [
    "numbers = [10,20,30,40,50]\n",
    "for idx,x in enumerate(numbers):\n",
    "    print(idx,x)"
   ]
  },
  {
   "cell_type": "markdown",
   "id": "f8667d21",
   "metadata": {},
   "source": [
    "# given the list l=[2,4,6,8,10], key = 2\n",
    "## use an enumerate in a for loop to find if key exist in list 'l'\n",
    "# and if it doesn't exist print it does not exist\n",
    "# if it exist print the index/position of the key"
   ]
  },
  {
   "cell_type": "code",
   "execution_count": 14,
   "id": "c1a49dae",
   "metadata": {},
   "outputs": [],
   "source": [
    "l= [2,4,6,8,10]\n"
   ]
  },
  {
   "cell_type": "code",
   "execution_count": 15,
   "id": "4f28cf77",
   "metadata": {},
   "outputs": [
    {
     "name": "stdout",
     "output_type": "stream",
     "text": [
      "0\n"
     ]
    }
   ],
   "source": [
    "print(l.index(2))"
   ]
  },
  {
   "cell_type": "code",
   "execution_count": 18,
   "id": "abd01f5c",
   "metadata": {},
   "outputs": [
    {
     "name": "stdout",
     "output_type": "stream",
     "text": [
      "element is found 0\n"
     ]
    }
   ],
   "source": [
    "l = [2,4,6,8,10]\n",
    "key = 2\n",
    "for idx,k in enumerate(l):\n",
    "    if k == key:\n",
    "        print('element is found',idx)\n",
    "        break\n",
    "    else:\n",
    "        continue\n",
    "else:\n",
    "    print('element not found')"
   ]
  },
  {
   "cell_type": "code",
   "execution_count": 23,
   "id": "4ec25b42",
   "metadata": {},
   "outputs": [
    {
     "name": "stdout",
     "output_type": "stream",
     "text": [
      "element does exist 1\n"
     ]
    }
   ],
   "source": [
    "L = [2,4,8,10]\n",
    "key =2\n",
    "for idx,k in enumerate(L):\n",
    "    if k!= key:\n",
    "        print('element does exist',idx)\n",
    "        break\n",
    "    else:\n",
    "        continue\n",
    "else:\n",
    "    print('element not exists')"
   ]
  },
  {
   "cell_type": "code",
   "execution_count": null,
   "id": "8b0b108e",
   "metadata": {},
   "outputs": [],
   "source": []
  }
 ],
 "metadata": {
  "kernelspec": {
   "display_name": "Python 3",
   "language": "python",
   "name": "python3"
  },
  "language_info": {
   "codemirror_mode": {
    "name": "ipython",
    "version": 3
   },
   "file_extension": ".py",
   "mimetype": "text/x-python",
   "name": "python",
   "nbconvert_exporter": "python",
   "pygments_lexer": "ipython3",
   "version": "3.8.8"
  }
 },
 "nbformat": 4,
 "nbformat_minor": 5
}
