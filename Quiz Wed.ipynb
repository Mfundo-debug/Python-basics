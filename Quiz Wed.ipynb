{
 "cells": [
  {
   "cell_type": "markdown",
   "id": "7290fad1",
   "metadata": {},
   "source": [
    "# Python String Quiz\n",
    "\n",
    "## Exercise 1: Given string s= 'Big Data' reverse a string\n",
    "## Exercise 2: Given s write a code to count vowels and consonants in string s\n",
    "## Exercise 3: Given s write a code to count the number of letters in string s\n",
    "## Exercise 4: Given s write a code to remove the duplicates in string s\n",
    "## Exercise 5: Given  p = 'Applicationss' write a code to count the occcurence of each character in string p\n",
    "## Exercise 6 Given r = 'PatALaRE Data' write a program to convert lower letter to upper and upper to lower in string r\n",
    "## Exercise 7: Write a program to search through/ dig a specific word in a string of your own choice\n",
    "\n",
    "## Exercise 8: given u= \"ReserveAPPMultimeDIa' write a code to sort letters of word by lower to uppercase format\n",
    "## Exercise 9: given U=\"@#R*@(%BIgData!\" write a code to count lower,upper, numeri and special characters in a string U\n",
    "## Exercise 10: Given a='the end is near\" in exercise 8 write a code to convert all the starting letter of a word in title format"
   ]
  },
  {
   "cell_type": "code",
   "execution_count": 1,
   "id": "fa3289eb",
   "metadata": {},
   "outputs": [
    {
     "name": "stdout",
     "output_type": "stream",
     "text": [
      "ataD giB\n"
     ]
    }
   ],
   "source": [
    "#Exercise 1\n",
    "s = \"Big Data\" [::-1]\n",
    "print(s)"
   ]
  },
  {
   "cell_type": "code",
   "execution_count": 2,
   "id": "6853957d",
   "metadata": {},
   "outputs": [
    {
     "name": "stdout",
     "output_type": "stream",
     "text": [
      "ataD giB\n"
     ]
    }
   ],
   "source": [
    "#Second approach\n",
    "def st(s):\n",
    "    return s[::-1]\n",
    "\n",
    "text = st('Big Data')\n",
    "print(text)\n",
    "    "
   ]
  },
  {
   "cell_type": "code",
   "execution_count": 3,
   "id": "f3b6be27",
   "metadata": {},
   "outputs": [
    {
     "name": "stdout",
     "output_type": "stream",
     "text": [
      "Enter the word:Big Data Foundations NBDF622\n",
      "2 2 6 F D B N   s n o i t a d n u o F   a t a D   g i B \n",
      "\n"
     ]
    }
   ],
   "source": [
    "#3rd approach\n",
    "str = input(\"Enter the word:\")\n",
    "\n",
    "for i in range(len(str)-1,-1,-1):\n",
    "    print(str[i], end=\" \")\n",
    "print(\"\\n\")"
   ]
  },
  {
   "cell_type": "code",
   "execution_count": 4,
   "id": "6df6309c",
   "metadata": {},
   "outputs": [
    {
     "name": "stdout",
     "output_type": "stream",
     "text": [
      "Vowel 3\n",
      "Contant 2\n"
     ]
    }
   ],
   "source": [
    "#Exercise 2\n",
    "vcount = 0;\n",
    "ccount = 0;\n",
    "str = \"Big Data\";\n",
    "def count(str):\n",
    "\n",
    "    str = str.lower();\n",
    "for i in range(0,len(str)):\n",
    "\n",
    "    if str[i] in ('a',\"e\",\"i\",\"o\",\"u\"):\n",
    "        vcount = vcount + 1;\n",
    "\n",
    "    elif (str[i] >= 'a' and str[i] <= 'z'):\n",
    "        ccount = ccount + 1;\n",
    "\n",
    "print('Vowel',vcount);\n",
    "print('Consonant',ccount);"
   ]
  },
  {
   "cell_type": "code",
   "execution_count": 5,
   "id": "4507da84",
   "metadata": {},
   "outputs": [
    {
     "name": "stdout",
     "output_type": "stream",
     "text": [
      "Enter the wordBig Data\n",
      " Total vowel 3\n",
      "Total consonants are:  5\n"
     ]
    }
   ],
   "source": [
    "#2nd approach\n",
    "S = input(\"Enter the word\")\n",
    "vow = 0\n",
    "con = 0\n",
    "for i in range(len(S)):\n",
    "    if S[i] in ['a','e','i','o','u']:\n",
    "        vow = vow+1\n",
    "    else:\n",
    "        con = con+1\n",
    "print(' Total vowel', vow)\n",
    "print('Total consonants are: ', con)"
   ]
  },
  {
   "cell_type": "code",
   "execution_count": 6,
   "id": "5c2c1be8",
   "metadata": {},
   "outputs": [
    {
     "name": "stdout",
     "output_type": "stream",
     "text": [
      "7\n"
     ]
    }
   ],
   "source": [
    "# Exercise 3\n",
    "a_string = \"Big Data\"\n",
    "number_of_letters = len(a_string) - a_string.count(\" \")\n",
    " \n",
    "print(number_of_letters)"
   ]
  },
  {
   "cell_type": "code",
   "execution_count": 7,
   "id": "0dfc3d46",
   "metadata": {},
   "outputs": [
    {
     "name": "stdout",
     "output_type": "stream",
     "text": [
      "enter a wordBig Data\n",
      "B i g   D a t "
     ]
    }
   ],
   "source": [
    "#Exercise 4\n",
    "\n",
    "n = input(\"enter a word\")\n",
    "s = []\n",
    "for i in range(len(n)):\n",
    "    if n[i] not in s:\n",
    "        s.append(n[i])\n",
    "    else:\n",
    "        pass\n",
    "for i in range(len(s)):\n",
    "    print(s[i],end = \" \")"
   ]
  },
  {
   "cell_type": "code",
   "execution_count": null,
   "id": "0b951a34",
   "metadata": {},
   "outputs": [],
   "source": []
  }
 ],
 "metadata": {
  "kernelspec": {
   "display_name": "Python 3",
   "language": "python",
   "name": "python3"
  },
  "language_info": {
   "codemirror_mode": {
    "name": "ipython",
    "version": 3
   },
   "file_extension": ".py",
   "mimetype": "text/x-python",
   "name": "python",
   "nbconvert_exporter": "python",
   "pygments_lexer": "ipython3",
   "version": "3.8.8"
  }
 },
 "nbformat": 4,
 "nbformat_minor": 5
}
