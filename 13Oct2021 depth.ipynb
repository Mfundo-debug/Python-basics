{
 "cells": [
  {
   "cell_type": "markdown",
   "id": "30d85731",
   "metadata": {},
   "source": [
    "# List Data Type | indexing| slicing| Appending\n",
    "\n",
    "* Lists are mutable  - add update, delete\n",
    "* ordered indexing  and slicing\n",
    "* store any type of data in the list (heterogeneous data type)"
   ]
  },
  {
   "cell_type": "markdown",
   "id": "0c14e341",
   "metadata": {},
   "source": [
    "l= [1,2,3,4,5,'Python','ICT','Java',[90,80,70]]\n",
    "print(l,type(l),len(l))"
   ]
  },
  {
   "cell_type": "markdown",
   "id": "57a78ba2",
   "metadata": {},
   "source": [
    "# Indexing and Slicing"
   ]
  },
  {
   "cell_type": "code",
   "execution_count": 2,
   "id": "05354c3f",
   "metadata": {},
   "outputs": [
    {
     "name": "stdout",
     "output_type": "stream",
     "text": [
      "1\n"
     ]
    }
   ],
   "source": [
    "# suppose the task print the first element\n",
    "print(l[0])"
   ]
  },
  {
   "cell_type": "code",
   "execution_count": 3,
   "id": "7b14009b",
   "metadata": {},
   "outputs": [
    {
     "name": "stdout",
     "output_type": "stream",
     "text": [
      "[90, 80, 70]\n"
     ]
    }
   ],
   "source": [
    "# task print the last element\n",
    "print(l[-1])"
   ]
  },
  {
   "cell_type": "code",
   "execution_count": 4,
   "id": "09f50cac",
   "metadata": {},
   "outputs": [
    {
     "name": "stdout",
     "output_type": "stream",
     "text": [
      "80\n"
     ]
    }
   ],
   "source": [
    "# task within the list display 20\n",
    "print(l[-1][1])"
   ]
  },
  {
   "cell_type": "markdown",
   "id": "95dee897",
   "metadata": {},
   "source": [
    "# SLicing"
   ]
  },
  {
   "cell_type": "code",
   "execution_count": 5,
   "id": "7d63f0b2",
   "metadata": {},
   "outputs": [
    {
     "name": "stdout",
     "output_type": "stream",
     "text": [
      "[2, 3]\n"
     ]
    }
   ],
   "source": [
    "print(l[1:3])#output elements from 1 to 3, (inclusive)"
   ]
  },
  {
   "cell_type": "code",
   "execution_count": 6,
   "id": "adbd774c",
   "metadata": {},
   "outputs": [
    {
     "name": "stdout",
     "output_type": "stream",
     "text": [
      "[2, 3, 4]\n"
     ]
    }
   ],
   "source": [
    "print(l[1:4])"
   ]
  },
  {
   "cell_type": "code",
   "execution_count": 7,
   "id": "39075ee3",
   "metadata": {
    "scrolled": true
   },
   "outputs": [
    {
     "name": "stdout",
     "output_type": "stream",
     "text": [
      "[[90, 80, 70], 'Java', 'ICT', 'Python', 5, 4, 3, 2, 1]\n"
     ]
    }
   ],
   "source": [
    "#reverse the list l\n",
    "print(l[::-1])"
   ]
  },
  {
   "cell_type": "code",
   "execution_count": 8,
   "id": "d35bec9d",
   "metadata": {},
   "outputs": [
    {
     "name": "stdout",
     "output_type": "stream",
     "text": [
      "1\n",
      "3\n",
      "5\n",
      "ICT\n",
      "[90, 80, 70]\n"
     ]
    }
   ],
   "source": [
    "for value in l[::2]:\n",
    "    print(value)\n"
   ]
  },
  {
   "cell_type": "code",
   "execution_count": 9,
   "id": "29e58250",
   "metadata": {},
   "outputs": [
    {
     "name": "stdout",
     "output_type": "stream",
     "text": [
      "1\n",
      "4\n",
      "ICT\n"
     ]
    }
   ],
   "source": [
    "for value in l[::3]:\n",
    "    print(value)"
   ]
  },
  {
   "cell_type": "markdown",
   "id": "f811183e",
   "metadata": {},
   "source": [
    "# Append\n"
   ]
  },
  {
   "cell_type": "code",
   "execution_count": 11,
   "id": "9a7d8d12",
   "metadata": {},
   "outputs": [
    {
     "name": "stdout",
     "output_type": "stream",
     "text": [
      "10\n",
      "30\n",
      "50\n",
      "70\n"
     ]
    }
   ],
   "source": [
    "lv = [10,20,30,40,50,60,70]\n",
    "for value in lv[::2]:\n",
    "    print(value)"
   ]
  },
  {
   "cell_type": "code",
   "execution_count": 12,
   "id": "3166849e",
   "metadata": {},
   "outputs": [],
   "source": [
    "lv.append(80)"
   ]
  },
  {
   "cell_type": "code",
   "execution_count": 13,
   "id": "2d2d45ea",
   "metadata": {},
   "outputs": [
    {
     "data": {
      "text/plain": [
       "[10, 20, 30, 40, 50, 60, 70, 80]"
      ]
     },
     "execution_count": 13,
     "metadata": {},
     "output_type": "execute_result"
    }
   ],
   "source": [
    "lv"
   ]
  },
  {
   "cell_type": "code",
   "execution_count": 15,
   "id": "130f42f1",
   "metadata": {},
   "outputs": [
    {
     "data": {
      "text/plain": [
       "[10, 20, 30, 40, 50, 60, 70, 80, 90, 100]"
      ]
     },
     "execution_count": 15,
     "metadata": {},
     "output_type": "execute_result"
    }
   ],
   "source": [
    "lv.extend([90,100])\n",
    "lv"
   ]
  },
  {
   "cell_type": "code",
   "execution_count": 16,
   "id": "d2e8f946",
   "metadata": {},
   "outputs": [
    {
     "data": {
      "text/plain": [
       "[10, 20, 30, 40, 50, 60, 70, 80, 90, 100, [110, 120, 130]]"
      ]
     },
     "execution_count": 16,
     "metadata": {},
     "output_type": "execute_result"
    }
   ],
   "source": [
    "lv.append([110,120,130])\n",
    "lv"
   ]
  },
  {
   "cell_type": "markdown",
   "id": "8f883645",
   "metadata": {},
   "source": [
    "# comparison between append and extend\n",
    "\n",
    "## extend func iterates and add, while append adding multiple elements will add them As one element AS  a list inside the list\n",
    "\n",
    "## also with extend it will be iterating the list by one element"
   ]
  },
  {
   "cell_type": "code",
   "execution_count": 17,
   "id": "30e4b53f",
   "metadata": {},
   "outputs": [
    {
     "data": {
      "text/plain": [
       "[10,\n",
       " 20,\n",
       " 30,\n",
       " 40,\n",
       " 50,\n",
       " 60,\n",
       " 70,\n",
       " 80,\n",
       " 90,\n",
       " 100,\n",
       " [110, 120, 130],\n",
       " 'P',\n",
       " 'a',\n",
       " 'g',\n",
       " 'e',\n",
       " '7',\n",
       " '0']"
      ]
     },
     "execution_count": 17,
     "metadata": {},
     "output_type": "execute_result"
    }
   ],
   "source": [
    "lv.extend('Page70')\n",
    "lv"
   ]
  },
  {
   "cell_type": "markdown",
   "id": "6efb0fc0",
   "metadata": {},
   "source": [
    "# insert functon it insert(position, input) can input one element only"
   ]
  },
  {
   "cell_type": "code",
   "execution_count": 19,
   "id": "8ab722a0",
   "metadata": {},
   "outputs": [
    {
     "name": "stdout",
     "output_type": "stream",
     "text": [
      "[10, 0.2, 20, 30, 40, 50, 60, 70, 80, 90, 100, [110, 120, 130], 'P', 'a', 'g', 'e', '7', '0']\n"
     ]
    }
   ],
   "source": [
    "lv.insert(1,0.2)\n",
    "print(lv)"
   ]
  },
  {
   "cell_type": "markdown",
   "id": "da9f836c",
   "metadata": {},
   "source": [
    "## given the list L =[1,2,3,4]\n",
    "## ADD ELEMENT 5 to both list and print without doing asdding them individually\n",
    "\n",
    "## output : [1,2,3,4,5] [1,2,3,4,5]\n"
   ]
  },
  {
   "cell_type": "code",
   "execution_count": 20,
   "id": "6e1b0ef8",
   "metadata": {},
   "outputs": [
    {
     "name": "stdout",
     "output_type": "stream",
     "text": [
      "[1, 2, 3, 4, 5, 1, 2, 3, 4, 5]\n"
     ]
    }
   ],
   "source": [
    "L = [1,2,3,4,5]\n",
    "print(L*2)"
   ]
  },
  {
   "cell_type": "code",
   "execution_count": 21,
   "id": "e9de3863",
   "metadata": {},
   "outputs": [
    {
     "name": "stdout",
     "output_type": "stream",
     "text": [
      "[1, 2, 3, 4, 5] [1, 2, 3, 4, 5]\n"
     ]
    }
   ],
   "source": [
    "L = [1,2,3,4]\n",
    "l2 = L\n",
    "l2.append(5)\n",
    "print(L,l2)"
   ]
  },
  {
   "cell_type": "markdown",
   "id": "751a26a2",
   "metadata": {},
   "source": [
    "# given L = [1,2,3,4]\n",
    "## add element 5 to one of the list\n",
    "\n",
    "# output: [1,2,3,4] [1,2,3,4,5]"
   ]
  },
  {
   "cell_type": "code",
   "execution_count": 22,
   "id": "8510f1e6",
   "metadata": {},
   "outputs": [
    {
     "name": "stdout",
     "output_type": "stream",
     "text": [
      "[1, 2, 3, 4] [1, 2, 3, 4, 5]\n"
     ]
    }
   ],
   "source": [
    "L = [1,2,3,4]\n",
    "l2 = [1,2,3,4]\n",
    "l2.insert(4,5)\n",
    "print(L,l2)"
   ]
  },
  {
   "cell_type": "code",
   "execution_count": 24,
   "id": "3d0b1936",
   "metadata": {},
   "outputs": [
    {
     "name": "stdout",
     "output_type": "stream",
     "text": [
      "[1, 2, 3, 4] [1, 2, 3, 4, 5]\n"
     ]
    }
   ],
   "source": [
    "L = [1,2,3,4]\n",
    "l2 = L.copy()\n",
    "l2.append(5)\n",
    "print(L,l2)"
   ]
  },
  {
   "cell_type": "code",
   "execution_count": null,
   "id": "4a35f2df",
   "metadata": {},
   "outputs": [],
   "source": []
  }
 ],
 "metadata": {
  "kernelspec": {
   "display_name": "Python 3",
   "language": "python",
   "name": "python3"
  },
  "language_info": {
   "codemirror_mode": {
    "name": "ipython",
    "version": 3
   },
   "file_extension": ".py",
   "mimetype": "text/x-python",
   "name": "python",
   "nbconvert_exporter": "python",
   "pygments_lexer": "ipython3",
   "version": "3.8.8"
  }
 },
 "nbformat": 4,
 "nbformat_minor": 5
}
