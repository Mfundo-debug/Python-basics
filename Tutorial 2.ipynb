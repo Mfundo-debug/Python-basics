{
 "cells": [
  {
   "cell_type": "markdown",
   "id": "3a44cc6e",
   "metadata": {},
   "source": [
    "# Membership Operators in, not in"
   ]
  },
  {
   "cell_type": "code",
   "execution_count": 1,
   "id": "56ea4011",
   "metadata": {},
   "outputs": [
    {
     "name": "stdout",
     "output_type": "stream",
     "text": [
      "True\n"
     ]
    }
   ],
   "source": [
    "l = [1,2,3,4,5] # creating a list\n",
    "#we have a list 'l' and we want to check if element number exists\n",
    "print(3 in l)\n",
    "# if 3 exist in the list 'l' then it will return True to show it exists\n",
    "# else output false\n"
   ]
  },
  {
   "cell_type": "code",
   "execution_count": 2,
   "id": "8b6716dd",
   "metadata": {},
   "outputs": [
    {
     "name": "stdout",
     "output_type": "stream",
     "text": [
      "False\n"
     ]
    }
   ],
   "source": [
    "print(5 not in l)\n",
    "# is 5 not in list 'l'"
   ]
  },
  {
   "cell_type": "code",
   "execution_count": 3,
   "id": "11611278",
   "metadata": {},
   "outputs": [
    {
     "name": "stdout",
     "output_type": "stream",
     "text": [
      "True\n"
     ]
    }
   ],
   "source": [
    "print( 6 not in l)\n",
    "# is 6 not in list 'l'"
   ]
  },
  {
   "cell_type": "code",
   "execution_count": 4,
   "id": "70356cb2",
   "metadata": {},
   "outputs": [
    {
     "name": "stdout",
     "output_type": "stream",
     "text": [
      "True\n"
     ]
    }
   ],
   "source": [
    "s = 'ICT Students' # string\n",
    "print('ICT Students' in s)"
   ]
  },
  {
   "cell_type": "code",
   "execution_count": 5,
   "id": "d1d6fce0",
   "metadata": {},
   "outputs": [
    {
     "name": "stdout",
     "output_type": "stream",
     "text": [
      "True\n"
     ]
    }
   ],
   "source": [
    "print('ICT' in s)"
   ]
  },
  {
   "cell_type": "code",
   "execution_count": 6,
   "id": "5647ea18",
   "metadata": {},
   "outputs": [
    {
     "name": "stdout",
     "output_type": "stream",
     "text": [
      "False\n"
     ]
    }
   ],
   "source": [
    "print('ICT students' in s)"
   ]
  },
  {
   "cell_type": "code",
   "execution_count": 7,
   "id": "64e508fc",
   "metadata": {},
   "outputs": [
    {
     "name": "stdout",
     "output_type": "stream",
     "text": [
      "False\n"
     ]
    }
   ],
   "source": [
    "print('ICT' not in s)"
   ]
  },
  {
   "cell_type": "code",
   "execution_count": 8,
   "id": "141cb498",
   "metadata": {},
   "outputs": [
    {
     "name": "stdout",
     "output_type": "stream",
     "text": [
      "True\n"
     ]
    }
   ],
   "source": [
    "print(\"ict\" not in s)"
   ]
  },
  {
   "cell_type": "code",
   "execution_count": 9,
   "id": "ae943c4f",
   "metadata": {},
   "outputs": [
    {
     "name": "stdout",
     "output_type": "stream",
     "text": [
      "False\n"
     ]
    }
   ],
   "source": [
    "module = 'Big Data Foundations'\n",
    "\n",
    "print('BIg' in module)"
   ]
  },
  {
   "cell_type": "code",
   "execution_count": 10,
   "id": "afc7eacd",
   "metadata": {},
   "outputs": [
    {
     "name": "stdout",
     "output_type": "stream",
     "text": [
      "True\n"
     ]
    }
   ],
   "source": [
    "print('BIg' not in module)"
   ]
  },
  {
   "cell_type": "markdown",
   "id": "6e638e67",
   "metadata": {},
   "source": [
    "# Conditional Statements| if, elif, else\n",
    "\n",
    "* a conditional statement in python, also called  condition constructs, is a statement that accomodates a condition inside itself. this condition is constructed using bitwise, boolean, comparison operators in Python\n",
    "\n",
    "* conditional statements are used to decide the flow of your program based particular condition"
   ]
  },
  {
   "cell_type": "code",
   "execution_count": 11,
   "id": "e3b88a47",
   "metadata": {},
   "outputs": [
    {
     "name": "stdout",
     "output_type": "stream",
     "text": [
      "rasty is older than candy\n"
     ]
    }
   ],
   "source": [
    "# in terms of age\n",
    "candy = 14 # candy's age is 14 years old\n",
    "rasty = 16 # rasty's age is 16 years old\n",
    "\n",
    "if candy > rasty:\n",
    "    print('Candy is older than rasty')\n",
    "elif rasty> candy:\n",
    "    print('rasty is older than candy')\n",
    "else:\n",
    "    print('both candy and rasty are the same age')"
   ]
  },
  {
   "cell_type": "code",
   "execution_count": 12,
   "id": "6898a6a0",
   "metadata": {},
   "outputs": [
    {
     "name": "stdout",
     "output_type": "stream",
     "text": [
      "both candy and rasty are the same age\n"
     ]
    }
   ],
   "source": [
    "# in terms of age\n",
    "candy = 16 # candy's age is 16 years old\n",
    "rasty = 16 # rasty's age is 16 years old\n",
    "\n",
    "if candy > rasty:\n",
    "    print('Candy is older than rasty')\n",
    "elif rasty> candy:\n",
    "    print('rasty is older than candy')\n",
    "else:\n",
    "    print('both candy and rasty are the same age')"
   ]
  },
  {
   "cell_type": "markdown",
   "id": "8c28ce9c",
   "metadata": {},
   "source": [
    "# Iterating Loops|Syntax\n",
    "\n",
    "* for loop\n",
    "* while loop\n",
    "\n",
    "## **Iterable data types: string, list, tuple, dictionary, set syntax for loop**\n",
    "\n",
    "for [variable name] in  [iterable datatype]:\n",
    "            \n",
    "            statements"
   ]
  },
  {
   "cell_type": "code",
   "execution_count": 15,
   "id": "cb82887e",
   "metadata": {},
   "outputs": [
    {
     "name": "stdout",
     "output_type": "stream",
     "text": [
      "border collie\n",
      "pitbull\n",
      "australian cattle dog\n",
      "puppy\n"
     ]
    }
   ],
   "source": [
    "dogs  = ['border collie','pitbull','australian cattle dog','puppy']\n",
    "for dog in dogs:\n",
    "    print(dog)"
   ]
  },
  {
   "cell_type": "markdown",
   "id": "50cf77e9",
   "metadata": {},
   "source": [
    "## indexing and manipulating the list"
   ]
  },
  {
   "cell_type": "code",
   "execution_count": 16,
   "id": "a96b4417",
   "metadata": {},
   "outputs": [
    {
     "data": {
      "text/plain": [
       "'border collie'"
      ]
     },
     "execution_count": 16,
     "metadata": {},
     "output_type": "execute_result"
    }
   ],
   "source": [
    "dogs[0]"
   ]
  },
  {
   "cell_type": "code",
   "execution_count": 17,
   "id": "bdd8c187",
   "metadata": {},
   "outputs": [
    {
     "data": {
      "text/plain": [
       "'pitbull'"
      ]
     },
     "execution_count": 17,
     "metadata": {},
     "output_type": "execute_result"
    }
   ],
   "source": [
    "dogs[1]"
   ]
  },
  {
   "cell_type": "code",
   "execution_count": 18,
   "id": "f40eb13b",
   "metadata": {},
   "outputs": [
    {
     "data": {
      "text/plain": [
       "'australian cattle dog'"
      ]
     },
     "execution_count": 18,
     "metadata": {},
     "output_type": "execute_result"
    }
   ],
   "source": [
    "dogs[2]"
   ]
  },
  {
   "cell_type": "code",
   "execution_count": 19,
   "id": "ec46585a",
   "metadata": {},
   "outputs": [
    {
     "data": {
      "text/plain": [
       "'puppy'"
      ]
     },
     "execution_count": 19,
     "metadata": {},
     "output_type": "execute_result"
    }
   ],
   "source": [
    "dogs[3]"
   ]
  },
  {
   "cell_type": "code",
   "execution_count": 20,
   "id": "f6a69750",
   "metadata": {},
   "outputs": [
    {
     "data": {
      "text/plain": [
       "'puppy'"
      ]
     },
     "execution_count": 20,
     "metadata": {},
     "output_type": "execute_result"
    }
   ],
   "source": [
    "dogs[-1]"
   ]
  },
  {
   "cell_type": "code",
   "execution_count": 21,
   "id": "0b3134c4",
   "metadata": {},
   "outputs": [
    {
     "data": {
      "text/plain": [
       "'australian cattle dog'"
      ]
     },
     "execution_count": 21,
     "metadata": {},
     "output_type": "execute_result"
    }
   ],
   "source": [
    "dogs[-2]"
   ]
  },
  {
   "cell_type": "code",
   "execution_count": 22,
   "id": "0953d2aa",
   "metadata": {},
   "outputs": [
    {
     "data": {
      "text/plain": [
       "'pitbull'"
      ]
     },
     "execution_count": 22,
     "metadata": {},
     "output_type": "execute_result"
    }
   ],
   "source": [
    "dogs[-3]"
   ]
  },
  {
   "cell_type": "code",
   "execution_count": 24,
   "id": "141270c9",
   "metadata": {},
   "outputs": [
    {
     "data": {
      "text/plain": [
       "'border collie'"
      ]
     },
     "execution_count": 24,
     "metadata": {},
     "output_type": "execute_result"
    }
   ],
   "source": [
    "dogs[-4]"
   ]
  },
  {
   "cell_type": "code",
   "execution_count": 25,
   "id": "89480660",
   "metadata": {},
   "outputs": [],
   "source": [
    "dogs[-4] = 'PK'"
   ]
  },
  {
   "cell_type": "markdown",
   "id": "4e194ae7",
   "metadata": {},
   "source": [
    "### dogs"
   ]
  },
  {
   "cell_type": "code",
   "execution_count": 27,
   "id": "af531adc",
   "metadata": {},
   "outputs": [
    {
     "name": "stdout",
     "output_type": "stream",
     "text": [
      "0\n"
     ]
    }
   ],
   "source": [
    "print(dogs.index('PK'))"
   ]
  },
  {
   "cell_type": "code",
   "execution_count": 28,
   "id": "36633de2",
   "metadata": {},
   "outputs": [
    {
     "data": {
      "text/plain": [
       "'australian cattle dog'"
      ]
     },
     "execution_count": 28,
     "metadata": {},
     "output_type": "execute_result"
    }
   ],
   "source": [
    "dogs[2]"
   ]
  },
  {
   "cell_type": "code",
   "execution_count": 29,
   "id": "d2534336",
   "metadata": {},
   "outputs": [
    {
     "data": {
      "text/plain": [
       "'pitbull'"
      ]
     },
     "execution_count": 29,
     "metadata": {},
     "output_type": "execute_result"
    }
   ],
   "source": [
    "dogs[-3] # reverse index"
   ]
  },
  {
   "cell_type": "code",
   "execution_count": 30,
   "id": "6d1454f5",
   "metadata": {},
   "outputs": [
    {
     "data": {
      "text/plain": [
       "['PK', 'pitbull', 'australian cattle dog', 'puppy']"
      ]
     },
     "execution_count": 30,
     "metadata": {},
     "output_type": "execute_result"
    }
   ],
   "source": [
    "dogs"
   ]
  },
  {
   "cell_type": "code",
   "execution_count": 31,
   "id": "af338c76",
   "metadata": {},
   "outputs": [
    {
     "name": "stdout",
     "output_type": "stream",
     "text": [
      "True\n"
     ]
    }
   ],
   "source": [
    "print('puppy' in dogs)"
   ]
  },
  {
   "cell_type": "code",
   "execution_count": 32,
   "id": "1d8ddb24",
   "metadata": {},
   "outputs": [
    {
     "name": "stdout",
     "output_type": "stream",
     "text": [
      "False\n"
     ]
    }
   ],
   "source": [
    "print('wsdcvd' in dogs)"
   ]
  },
  {
   "cell_type": "code",
   "execution_count": 33,
   "id": "cc4ef104",
   "metadata": {},
   "outputs": [
    {
     "name": "stdout",
     "output_type": "stream",
     "text": [
      "True\n"
     ]
    }
   ],
   "source": [
    "print('asfsdf' not in dogs)"
   ]
  },
  {
   "cell_type": "code",
   "execution_count": 34,
   "id": "c211479d",
   "metadata": {},
   "outputs": [
    {
     "data": {
      "text/plain": [
       "['PK', 'pitbull', 'australian cattle dog', 'puppy']"
      ]
     },
     "execution_count": 34,
     "metadata": {},
     "output_type": "execute_result"
    }
   ],
   "source": [
    "dogs"
   ]
  },
  {
   "cell_type": "code",
   "execution_count": 35,
   "id": "35167cc1",
   "metadata": {},
   "outputs": [
    {
     "data": {
      "text/plain": [
       "['PK', 'pitbull', 'australian cattle dog', 'puppy', 'rasaan']"
      ]
     },
     "execution_count": 35,
     "metadata": {},
     "output_type": "execute_result"
    }
   ],
   "source": [
    "#add or update\n",
    "dogs.append('rasaan')\n",
    "dogs"
   ]
  },
  {
   "cell_type": "code",
   "execution_count": 36,
   "id": "fa38ea24",
   "metadata": {},
   "outputs": [
    {
     "name": "stdout",
     "output_type": "stream",
     "text": [
      "4\n"
     ]
    }
   ],
   "source": [
    "print(dogs.index('rasaan'))"
   ]
  },
  {
   "cell_type": "code",
   "execution_count": 37,
   "id": "b6d3d91e",
   "metadata": {},
   "outputs": [
    {
     "data": {
      "text/plain": [
       "['PK', 'australian cattle dog', 'pitbull', 'puppy', 'rasaan']"
      ]
     },
     "execution_count": 37,
     "metadata": {},
     "output_type": "execute_result"
    }
   ],
   "source": [
    "#sort in order\n",
    "dogs.sort()\n",
    "dogs"
   ]
  },
  {
   "cell_type": "code",
   "execution_count": 38,
   "id": "40ddfc6b",
   "metadata": {},
   "outputs": [
    {
     "name": "stdout",
     "output_type": "stream",
     "text": [
      "['PK', 'australian cattle dog', 'pitbull', 'puppy', 'rasaan']\n"
     ]
    }
   ],
   "source": [
    "dogs.sort()\n",
    "print(dogs)"
   ]
  },
  {
   "cell_type": "code",
   "execution_count": 40,
   "id": "5e8dafbc",
   "metadata": {},
   "outputs": [
    {
     "data": {
      "text/plain": [
       "[16, 18, 20, 19, 21, 22, 23, 14, 17]"
      ]
     },
     "execution_count": 40,
     "metadata": {},
     "output_type": "execute_result"
    }
   ],
   "source": [
    "ages  = [16,18,20,19,21,22,23,14,17]\n",
    "\n",
    "ages"
   ]
  },
  {
   "cell_type": "code",
   "execution_count": 41,
   "id": "25d96117",
   "metadata": {},
   "outputs": [
    {
     "name": "stdout",
     "output_type": "stream",
     "text": [
      "[14, 16, 17, 18, 19, 20, 21, 22, 23]\n"
     ]
    }
   ],
   "source": [
    "ages.sort()\n",
    "print(ages)"
   ]
  },
  {
   "cell_type": "code",
   "execution_count": 42,
   "id": "699b39b0",
   "metadata": {},
   "outputs": [
    {
     "name": "stdout",
     "output_type": "stream",
     "text": [
      "[23, 22, 21, 20, 19, 18, 17, 16, 14]\n"
     ]
    }
   ],
   "source": [
    "ages.reverse()\n",
    "print(ages)"
   ]
  },
  {
   "cell_type": "code",
   "execution_count": 43,
   "id": "b9e94e25",
   "metadata": {},
   "outputs": [
    {
     "data": {
      "text/plain": [
       "14"
      ]
     },
     "execution_count": 43,
     "metadata": {},
     "output_type": "execute_result"
    }
   ],
   "source": [
    "min(ages)"
   ]
  },
  {
   "cell_type": "code",
   "execution_count": 44,
   "id": "65ff759d",
   "metadata": {},
   "outputs": [
    {
     "data": {
      "text/plain": [
       "23"
      ]
     },
     "execution_count": 44,
     "metadata": {},
     "output_type": "execute_result"
    }
   ],
   "source": [
    "max(ages)"
   ]
  },
  {
   "cell_type": "code",
   "execution_count": 45,
   "id": "bf3ac792",
   "metadata": {},
   "outputs": [
    {
     "data": {
      "text/plain": [
       "9"
      ]
     },
     "execution_count": 45,
     "metadata": {},
     "output_type": "execute_result"
    }
   ],
   "source": [
    "len (ages)"
   ]
  },
  {
   "cell_type": "code",
   "execution_count": 48,
   "id": "b6e1e83a",
   "metadata": {},
   "outputs": [
    {
     "data": {
      "text/plain": [
       "157.55555555555554"
      ]
     },
     "execution_count": 48,
     "metadata": {},
     "output_type": "execute_result"
    }
   ],
   "source": [
    "sum_of = 23+22+21+20+19+18+17+16+14/9\n",
    "sum_of"
   ]
  },
  {
   "cell_type": "code",
   "execution_count": 49,
   "id": "d8510891",
   "metadata": {},
   "outputs": [
    {
     "data": {
      "text/plain": [
       "170"
      ]
     },
     "execution_count": 49,
     "metadata": {},
     "output_type": "execute_result"
    }
   ],
   "source": [
    "sum(ages)"
   ]
  },
  {
   "cell_type": "code",
   "execution_count": 61,
   "id": "3464f686",
   "metadata": {},
   "outputs": [
    {
     "name": "stdout",
     "output_type": "stream",
     "text": [
      "1\n",
      "2\n",
      "3\n",
      "4\n",
      "5\n"
     ]
    }
   ],
   "source": [
    "l = [1,2,3,4,5]\n",
    "for value in l:\n",
    "    print(value)"
   ]
  },
  {
   "cell_type": "code",
   "execution_count": 50,
   "id": "dab18827",
   "metadata": {},
   "outputs": [
    {
     "data": {
      "text/plain": [
       "15"
      ]
     },
     "execution_count": 50,
     "metadata": {},
     "output_type": "execute_result"
    }
   ],
   "source": [
    "sum(l)"
   ]
  },
  {
   "cell_type": "code",
   "execution_count": 53,
   "id": "4c2948f6",
   "metadata": {},
   "outputs": [
    {
     "name": "stdout",
     "output_type": "stream",
     "text": [
      "15\n"
     ]
    }
   ],
   "source": [
    "# alternative method for using for loop\n",
    "sum = 0\n",
    "for value in l:\n",
    "    sum += value\n",
    "print(sum)"
   ]
  },
  {
   "cell_type": "code",
   "execution_count": 52,
   "id": "faec2e08",
   "metadata": {},
   "outputs": [
    {
     "name": "stdout",
     "output_type": "stream",
     "text": [
      "1\n",
      "3\n",
      "6\n",
      "10\n",
      "15\n"
     ]
    }
   ],
   "source": [
    "sum  = 0\n",
    "for value in l:\n",
    "    sum+= value\n",
    "    print(sum)"
   ]
  },
  {
   "cell_type": "markdown",
   "id": "f56960c8",
   "metadata": {},
   "source": [
    "# range\n",
    "* range - see the word *range,  remember values that lies within  a particular interval\n",
    "\n",
    "* range (starts, stops)\n",
    "* range(starts, stops,step)\n",
    "\n",
    "\n",
    "* range(5) - 0,1,2,3,4\n",
    "* range(10,100) - 10,11 12... 99\n",
    "* range(10,100,5) - 10, 15, 20, 25, 30, 35...... 95 100"
   ]
  },
  {
   "cell_type": "code",
   "execution_count": 54,
   "id": "fb6d60ed",
   "metadata": {},
   "outputs": [
    {
     "name": "stdout",
     "output_type": "stream",
     "text": [
      "0\n",
      "1\n",
      "2\n",
      "3\n",
      "4\n"
     ]
    }
   ],
   "source": [
    "for value in range(5):\n",
    "    \n",
    "    print(value)"
   ]
  },
  {
   "cell_type": "code",
   "execution_count": 56,
   "id": "0e7d499f",
   "metadata": {},
   "outputs": [
    {
     "name": "stdout",
     "output_type": "stream",
     "text": [
      "10\n",
      "11\n",
      "12\n",
      "13\n",
      "14\n",
      "15\n",
      "16\n",
      "17\n",
      "18\n",
      "19\n",
      "20\n",
      "21\n",
      "22\n",
      "23\n",
      "24\n",
      "25\n",
      "26\n",
      "27\n",
      "28\n",
      "29\n",
      "30\n",
      "31\n",
      "32\n",
      "33\n",
      "34\n",
      "35\n",
      "36\n",
      "37\n",
      "38\n",
      "39\n",
      "40\n",
      "41\n",
      "42\n",
      "43\n",
      "44\n",
      "45\n",
      "46\n",
      "47\n",
      "48\n",
      "49\n"
     ]
    }
   ],
   "source": [
    "for value in range(10,50):\n",
    "    print(value)"
   ]
  },
  {
   "cell_type": "code",
   "execution_count": 58,
   "id": "8f8b5ab9",
   "metadata": {},
   "outputs": [
    {
     "name": "stdout",
     "output_type": "stream",
     "text": [
      "10\n",
      "15\n",
      "20\n",
      "25\n",
      "30\n",
      "35\n",
      "40\n",
      "45\n"
     ]
    }
   ],
   "source": [
    "for value in range(10,50,5):\n",
    "    print(value)\n"
   ]
  },
  {
   "cell_type": "markdown",
   "id": "f45c0775",
   "metadata": {},
   "source": [
    "# print values of any variable name \n",
    "\n",
    "\n",
    "write a short code\n",
    "that ouputs\n",
    " this \n",
    " \n",
    " 0\n",
    " 1\n",
    " 2\n",
    " 3\n",
    " 4\n",
    " 5\n",
    " 6\n",
    " 7\n",
    " 8\n",
    " 9\n"
   ]
  },
  {
   "cell_type": "code",
   "execution_count": 59,
   "id": "6bda4fe9",
   "metadata": {},
   "outputs": [
    {
     "name": "stdout",
     "output_type": "stream",
     "text": [
      "0\n",
      "1\n",
      "2\n",
      "3\n",
      "4\n",
      "5\n",
      "6\n",
      "7\n",
      "8\n",
      "9\n"
     ]
    }
   ],
   "source": [
    "for value in range(10):\n",
    "    print(value)"
   ]
  },
  {
   "cell_type": "markdown",
   "id": "893ef9ee",
   "metadata": {},
   "source": [
    "# write a code using for loop\n",
    "## to find the sum of range(1,21)\n",
    "\n",
    "the output should be 210"
   ]
  },
  {
   "cell_type": "code",
   "execution_count": 62,
   "id": "6e6921b4",
   "metadata": {},
   "outputs": [
    {
     "name": "stdout",
     "output_type": "stream",
     "text": [
      "210\n"
     ]
    }
   ],
   "source": [
    "sum = 0\n",
    "for value in range(1,21):\n",
    "    sum+= value\n",
    "print(sum)"
   ]
  },
  {
   "cell_type": "code",
   "execution_count": null,
   "id": "32dab78f",
   "metadata": {},
   "outputs": [],
   "source": []
  }
 ],
 "metadata": {
  "kernelspec": {
   "display_name": "Python 3",
   "language": "python",
   "name": "python3"
  },
  "language_info": {
   "codemirror_mode": {
    "name": "ipython",
    "version": 3
   },
   "file_extension": ".py",
   "mimetype": "text/x-python",
   "name": "python",
   "nbconvert_exporter": "python",
   "pygments_lexer": "ipython3",
   "version": "3.8.8"
  }
 },
 "nbformat": 4,
 "nbformat_minor": 5
}
