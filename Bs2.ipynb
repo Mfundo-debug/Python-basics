{
 "cells": [
  {
   "cell_type": "markdown",
   "id": "e1a623aa",
   "metadata": {},
   "source": [
    "#  Python Operators\n",
    " * Arithmetic operators '+,-,*,/,//,%,**'\n",
    "\n",
    "\n",
    "The operator module exports a set of efficient functions corresponding to the intrinsic operators of Python. For example, operator.add(x, y) is equivalent to the expression x+y. Many function names are those used for special methods, without the double underscores. For backward compatibility, many of these have a variant with the double underscores kept. The variants without the double underscores are preferred for clarity.\n",
    "\n",
    "\n",
    "you can learn more @ https://docs.python.org/3/library/operator.html\n"
   ]
  },
  {
   "cell_type": "code",
   "execution_count": 7,
   "id": "f24c30d4",
   "metadata": {},
   "outputs": [
    {
     "name": "stdout",
     "output_type": "stream",
     "text": [
      "add 2 numbers: 5\n",
      "subtract 2 numbers: -1\n",
      "multiply two numbers: 6\n",
      "divide two numbers: 0.6666666666666666\n",
      "modulus of two numbers 2\n",
      "2 to the power 2 is: 4\n"
     ]
    }
   ],
   "source": [
    "x = 2\n",
    "y= 3\n",
    "print('add 2 numbers:',x+y)\n",
    "print('subtract 2 numbers:',x-y)\n",
    "print('multiply two numbers:',x*y)\n",
    "print('divide two numbers:' ,x/y)\n",
    "print('modulus of two numbers',x%y)\n",
    "print('2 to the power 2 is:',2**2 )\n",
    "    "
   ]
  },
  {
   "cell_type": "markdown",
   "id": "7fd31c00",
   "metadata": {},
   "source": [
    "# Comparison operators <,>,<=,>=,==, !=\n",
    "\n",
    "using the given values above we will now apply them below no need to declare them again"
   ]
  },
  {
   "cell_type": "code",
   "execution_count": 10,
   "id": "d15909de",
   "metadata": {},
   "outputs": [
    {
     "name": "stdout",
     "output_type": "stream",
     "text": [
      "False\n",
      "True\n",
      "True\n",
      "True\n",
      "True\n",
      "True\n"
     ]
    }
   ],
   "source": [
    "print(x==y) # is x equal to y\n",
    "print(x<y) # is x less than y\n",
    "print(x<=y) # is x less than equal to y\n",
    "print(y>x) # is y greater than x\n",
    "print(y>=x) # is y greater than or equal to x\n",
    "print(y!=x) # is y not equal to x"
   ]
  },
  {
   "cell_type": "markdown",
   "id": "87e4f945",
   "metadata": {},
   "source": [
    "# Identity Operators is, is not"
   ]
  },
  {
   "cell_type": "code",
   "execution_count": 11,
   "id": "5a2b2b36",
   "metadata": {},
   "outputs": [
    {
     "name": "stdout",
     "output_type": "stream",
     "text": [
      "False\n",
      "True\n",
      "True\n",
      "False\n"
     ]
    }
   ],
   "source": [
    "print(x is y)\n",
    "print(x is not y)\n",
    "print(y is not x)\n",
    "print (y is x)\n",
    "\n"
   ]
  },
  {
   "cell_type": "markdown",
   "id": "b1054b37",
   "metadata": {},
   "source": [
    "* lets try it with lists\n"
   ]
  },
  {
   "cell_type": "code",
   "execution_count": 13,
   "id": "7918fd6b",
   "metadata": {},
   "outputs": [
    {
     "name": "stdout",
     "output_type": "stream",
     "text": [
      "True\n",
      "False\n",
      "True\n",
      "False\n",
      "False\n"
     ]
    }
   ],
   "source": [
    "l = [1,2,3,4]\n",
    "l_1 = [1,2,3,4]\n",
    "l_2 = [2,4,6,8]\n",
    "l_3 = [3,4,5,6]\n",
    "print(l==l_1)\n",
    "print(l is l_1)\n",
    "print(l_2 is not l)\n",
    "print(l_3 is l)\n",
    "print (len(l)> len(l_1))"
   ]
  },
  {
   "cell_type": "markdown",
   "id": "d2c99875",
   "metadata": {},
   "source": [
    "take note!\n",
    "* identity operators  compares memory location while,\n",
    "* comparison operators compares the values"
   ]
  },
  {
   "cell_type": "markdown",
   "id": "065bca31",
   "metadata": {},
   "source": [
    "#  Assignment Operators =,+=, -=, *=, /="
   ]
  },
  {
   "cell_type": "code",
   "execution_count": 14,
   "id": "6f35e0d2",
   "metadata": {},
   "outputs": [
    {
     "name": "stdout",
     "output_type": "stream",
     "text": [
      "4\n",
      "0\n",
      "25\n",
      "5.0\n"
     ]
    }
   ],
   "source": [
    "# x = x+ 2 this can also be written as\n",
    "x += 2\n",
    "# y = y-3 can also be written as\n",
    "y -= 3\n",
    "p=5\n",
    "# p = p *5 can also be written as\n",
    "p *= 5\n",
    "r = 25\n",
    "#r = r/5 can also be written as\n",
    "r/=5\n",
    "print(x)\n",
    "print(y)\n",
    "print(p)\n",
    "print(r)"
   ]
  },
  {
   "cell_type": "markdown",
   "id": "474d0090",
   "metadata": {},
   "source": [
    "# Bitwise operators &,|,^,>>,<<"
   ]
  },
  {
   "cell_type": "code",
   "execution_count": 15,
   "id": "beef1069",
   "metadata": {},
   "outputs": [
    {
     "name": "stdout",
     "output_type": "stream",
     "text": [
      "0b100 0b0\n",
      "0\n"
     ]
    }
   ],
   "source": [
    "#suppose you wanna perform representation\n",
    "print(bin(x), bin(y))\n",
    "print(x & y)"
   ]
  },
  {
   "cell_type": "markdown",
   "id": "6755c987",
   "metadata": {},
   "source": [
    "# Logical Operator and or not"
   ]
  },
  {
   "cell_type": "code",
   "execution_count": 16,
   "id": "bb8b73a7",
   "metadata": {},
   "outputs": [
    {
     "name": "stdout",
     "output_type": "stream",
     "text": [
      "True\n"
     ]
    }
   ],
   "source": [
    "print(1==1 and 2==2)"
   ]
  },
  {
   "cell_type": "code",
   "execution_count": 17,
   "id": "15b28825",
   "metadata": {},
   "outputs": [
    {
     "name": "stdout",
     "output_type": "stream",
     "text": [
      "False\n"
     ]
    }
   ],
   "source": [
    "print(2==1 and 2==2)"
   ]
  },
  {
   "cell_type": "code",
   "execution_count": 18,
   "id": "562701a6",
   "metadata": {},
   "outputs": [
    {
     "name": "stdout",
     "output_type": "stream",
     "text": [
      "True\n"
     ]
    }
   ],
   "source": [
    "print(x==y or y==y)"
   ]
  },
  {
   "cell_type": "code",
   "execution_count": 19,
   "id": "2b059262",
   "metadata": {},
   "outputs": [
    {
     "name": "stdout",
     "output_type": "stream",
     "text": [
      "False\n"
     ]
    }
   ],
   "source": [
    "print(not(1==1))"
   ]
  },
  {
   "cell_type": "code",
   "execution_count": 20,
   "id": "f44c6a09",
   "metadata": {},
   "outputs": [
    {
     "name": "stdout",
     "output_type": "stream",
     "text": [
      "True\n"
     ]
    }
   ],
   "source": [
    "print(not(1==2))"
   ]
  },
  {
   "cell_type": "markdown",
   "id": "84b5dbed",
   "metadata": {},
   "source": [
    "# Membership Operators in not in"
   ]
  },
  {
   "cell_type": "code",
   "execution_count": 21,
   "id": "97abc21a",
   "metadata": {},
   "outputs": [
    {
     "name": "stdout",
     "output_type": "stream",
     "text": [
      "True\n"
     ]
    }
   ],
   "source": [
    "l = [1,2,3,4]\n",
    "# we have a list 'l' and we wanna check if element member exist\n",
    "print(3 in l)\n",
    "# if 3 exist in the list then it will return True to show it exist\n"
   ]
  },
  {
   "cell_type": "code",
   "execution_count": 22,
   "id": "593136f9",
   "metadata": {},
   "outputs": [
    {
     "name": "stdout",
     "output_type": "stream",
     "text": [
      "True\n"
     ]
    }
   ],
   "source": [
    "print(5 not in l)"
   ]
  },
  {
   "cell_type": "code",
   "execution_count": 23,
   "id": "33e9d287",
   "metadata": {},
   "outputs": [
    {
     "name": "stdout",
     "output_type": "stream",
     "text": [
      "False\n"
     ]
    }
   ],
   "source": [
    "print(4 not in l)"
   ]
  },
  {
   "cell_type": "code",
   "execution_count": 24,
   "id": "12af0ce1",
   "metadata": {},
   "outputs": [
    {
     "name": "stdout",
     "output_type": "stream",
     "text": [
      "True\n"
     ]
    }
   ],
   "source": [
    "s = 'python string'\n",
    "print('python string' in s)"
   ]
  },
  {
   "cell_type": "code",
   "execution_count": null,
   "id": "7e2f444b",
   "metadata": {},
   "outputs": [],
   "source": []
  }
 ],
 "metadata": {
  "kernelspec": {
   "display_name": "Python 3",
   "language": "python",
   "name": "python3"
  },
  "language_info": {
   "codemirror_mode": {
    "name": "ipython",
    "version": 3
   },
   "file_extension": ".py",
   "mimetype": "text/x-python",
   "name": "python",
   "nbconvert_exporter": "python",
   "pygments_lexer": "ipython3",
   "version": "3.8.8"
  }
 },
 "nbformat": 4,
 "nbformat_minor": 5
}
