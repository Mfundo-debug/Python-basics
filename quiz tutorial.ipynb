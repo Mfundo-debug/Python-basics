{
 "cells": [
  {
   "cell_type": "markdown",
   "id": "a14f8c9d",
   "metadata": {},
   "source": [
    "# REvisit \n",
    "\n",
    "# Quiz Session\n",
    "\n",
    "\n"
   ]
  },
  {
   "cell_type": "markdown",
   "id": "516d84de",
   "metadata": {},
   "source": [
    "## Exercise 1: Create a  function that allows 3 inputs and returns the maximum of those 3 numbers/ values\n",
    "\n",
    "## Exercise 2: Create a function that allows or accepts student number and returns whether the student is present in class or absent\n",
    "\n",
    "## Exercise3: create a function which counts vowels and consonant in a word\n",
    "### given the word is 'Welcome to the last 3 sessions of our tutorial session'\n",
    "\n",
    "## Exercise 4: create a function that accepts lowercase words and returns uppercase words\n",
    "\n",
    "\n",
    "# submission is 18:20pm\n",
    "# you can start now"
   ]
  },
  {
   "cell_type": "code",
   "execution_count": 1,
   "id": "99ea27ff",
   "metadata": {},
   "outputs": [],
   "source": [
    "def maximum(a,b,c):\n",
    "    if (a>=b) and (a>=c):\n",
    "        largest = a\n",
    "    elif (b>=a) and (b>=c):\n",
    "        largest = b\n",
    "    else:\n",
    "        largest = c\n",
    "        \n",
    "        return largest"
   ]
  },
  {
   "cell_type": "code",
   "execution_count": 3,
   "id": "13b3c21b",
   "metadata": {},
   "outputs": [
    {
     "name": "stdout",
     "output_type": "stream",
     "text": [
      "None\n"
     ]
    }
   ],
   "source": [
    "a= 10\n",
    "b = 14\n",
    "c = 12\n",
    "print(maximum(a,b,c))"
   ]
  },
  {
   "cell_type": "code",
   "execution_count": 4,
   "id": "33cd3b95",
   "metadata": {},
   "outputs": [],
   "source": [
    "def max(a,b,c):\n",
    "    if a >b and a>c:\n",
    "        print(f\"{a} is  max among them all\")\n",
    "    elif b>a and b>c:\n",
    "        print(f\"{b} is the max \")\n",
    "    else:\n",
    "        print(f\"{c} is the maximum\")"
   ]
  },
  {
   "cell_type": "code",
   "execution_count": 5,
   "id": "e191e010",
   "metadata": {},
   "outputs": [
    {
     "name": "stdout",
     "output_type": "stream",
     "text": [
      "14 is the max \n"
     ]
    }
   ],
   "source": [
    "max(a,b,c)"
   ]
  },
  {
   "cell_type": "code",
   "execution_count": 8,
   "id": "766f0b8c",
   "metadata": {},
   "outputs": [
    {
     "name": "stdout",
     "output_type": "stream",
     "text": [
      "Enter student number26904\n",
      "Student number26904 is present in class\n"
     ]
    }
   ],
   "source": [
    "def stu(stu_num):\n",
    "    clas = [54321,23456,26904,34572]\n",
    "    if stu_num in clas:\n",
    "        print(f\"Student number{stu_num} is present in class\")\n",
    "    else:\n",
    "        print(f\"student number{stu_num} is absent in class\")\n",
    "        \n",
    "stu_num = int(input(\"Enter student number\"))\n",
    "stu(stu_num)"
   ]
  },
  {
   "cell_type": "code",
   "execution_count": 9,
   "id": "6d6da7c1",
   "metadata": {},
   "outputs": [
    {
     "name": "stdout",
     "output_type": "stream",
     "text": [
      "Enter student number12345\n",
      "student number12345 is absent in class\n"
     ]
    }
   ],
   "source": [
    "stu_num = int(input(\"Enter student number\"))\n",
    "stu(stu_num)"
   ]
  },
  {
   "cell_type": "code",
   "execution_count": 10,
   "id": "0128ed6e",
   "metadata": {},
   "outputs": [
    {
     "name": "stdout",
     "output_type": "stream",
     "text": [
      "Enter student numberl[::-1\n"
     ]
    },
    {
     "ename": "ValueError",
     "evalue": "invalid literal for int() with base 10: 'l[::-1'",
     "output_type": "error",
     "traceback": [
      "\u001b[1;31m---------------------------------------------------------------------------\u001b[0m",
      "\u001b[1;31mValueError\u001b[0m                                Traceback (most recent call last)",
      "\u001b[1;32m<ipython-input-10-48854b15176e>\u001b[0m in \u001b[0;36m<module>\u001b[1;34m\u001b[0m\n\u001b[1;32m----> 1\u001b[1;33m \u001b[0mstu_num\u001b[0m \u001b[1;33m=\u001b[0m \u001b[0mint\u001b[0m\u001b[1;33m(\u001b[0m\u001b[0minput\u001b[0m\u001b[1;33m(\u001b[0m\u001b[1;34m\"Enter student number\"\u001b[0m\u001b[1;33m)\u001b[0m\u001b[1;33m)\u001b[0m\u001b[1;33m\u001b[0m\u001b[1;33m\u001b[0m\u001b[0m\n\u001b[0m\u001b[0;32m      2\u001b[0m \u001b[0mstu\u001b[0m\u001b[1;33m(\u001b[0m\u001b[0mstu_num\u001b[0m\u001b[1;33m)\u001b[0m\u001b[1;33m\u001b[0m\u001b[1;33m\u001b[0m\u001b[0m\n",
      "\u001b[1;31mValueError\u001b[0m: invalid literal for int() with base 10: 'l[::-1'"
     ]
    }
   ],
   "source": [
    "stu_num = int(input(\"Enter student number\"))\n",
    "stu(stu_num)"
   ]
  },
  {
   "cell_type": "code",
   "execution_count": 11,
   "id": "c54307f5",
   "metadata": {},
   "outputs": [
    {
     "name": "stdout",
     "output_type": "stream",
     "text": [
      "Vowel 19\n",
      "Contant 25\n"
     ]
    }
   ],
   "source": [
    "vcount = 0;\n",
    "ccount = 0;\n",
    "str = \"Welcome to the last 3 sessions of our tutorial sessions\";\n",
    "def count(str):\n",
    "\n",
    "    str = str.lower();\n",
    "for i in range(0,len(str)):  \n",
    "\n",
    "    if str[i] in ('a',\"e\",\"i\",\"o\",\"u\"):\n",
    "        vcount = vcount + 1;\n",
    "\n",
    "    elif (str[i] >= 'a' and str[i] <= 'z'):\n",
    "        ccount = ccount + 1;\n",
    "\n",
    "\n",
    "print('Vowel',vcount);\n",
    "print('Contant',ccount);"
   ]
  },
  {
   "cell_type": "code",
   "execution_count": 13,
   "id": "5ce47980",
   "metadata": {},
   "outputs": [
    {
     "name": "stdout",
     "output_type": "stream",
     "text": [
      "Enter the word\n",
      "  @media print {\n",
      "    .ms-editor-squiggles-container {\n",
      "      display:none !important;\n",
      "    }\n",
      "  }\n",
      "  .ms-editor-squiggles-container {\n",
      "    all: initial;\n",
      "  }Welcome to the last 3 sessions of our tutorial session\n",
      "number of vowels is 19\n",
      "number consonant is 35\n"
     ]
    }
   ],
   "source": [
    "def count(value):\n",
    "    vcount =0\n",
    "    ccount = 0\n",
    "    \n",
    "    for i in range(len(value)):\n",
    "        \n",
    "        if value[i] in ['a','e','i','o','u']:\n",
    "            vcount = vcount +1\n",
    "        else:\n",
    "            ccount = ccount +1\n",
    "            \n",
    "            \n",
    "    print(\"number of vowels is\", vcount)\n",
    "    print(\"number consonant is\", ccount)\n",
    "    \n",
    "l = input(\"Enter the word\")\n",
    "count(l)\n",
    "        \n",
    "        \n",
    "        "
   ]
  },
  {
   "cell_type": "code",
   "execution_count": null,
   "id": "09b335e3",
   "metadata": {},
   "outputs": [],
   "source": []
  }
 ],
 "metadata": {
  "kernelspec": {
   "display_name": "Python 3",
   "language": "python",
   "name": "python3"
  },
  "language_info": {
   "codemirror_mode": {
    "name": "ipython",
    "version": 3
   },
   "file_extension": ".py",
   "mimetype": "text/x-python",
   "name": "python",
   "nbconvert_exporter": "python",
   "pygments_lexer": "ipython3",
   "version": "3.8.8"
  }
 },
 "nbformat": 4,
 "nbformat_minor": 5
}
