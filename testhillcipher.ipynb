{
 "cells": [
  {
   "cell_type": "code",
   "execution_count": 2,
   "id": "0b03054d",
   "metadata": {},
   "outputs": [],
   "source": [
    "import numpy as np"
   ]
  },
  {
   "cell_type": "code",
   "execution_count": 3,
   "id": "fcdf4cd9",
   "metadata": {},
   "outputs": [],
   "source": [
    "Key = np.array([[0,12,-12, 12, 6],\n",
    "                [-3, -9, 9, 9, -6],\n",
    "                [0, 0, 2, 4, -2],\n",
    "                [-3, -17, 13, 3, -8],\n",
    "                [0, 0, 4, -8, 0]])"
   ]
  },
  {
   "cell_type": "code",
   "execution_count": 4,
   "id": "2da6d6f8",
   "metadata": {
    "scrolled": true
   },
   "outputs": [
    {
     "data": {
      "text/plain": [
       "True"
      ]
     },
     "execution_count": 4,
     "metadata": {},
     "output_type": "execute_result"
    }
   ],
   "source": [
    "Key.shape[0] == Key.shape[1]"
   ]
  },
  {
   "cell_type": "code",
   "execution_count": 5,
   "id": "d05dac93",
   "metadata": {},
   "outputs": [
    {
     "data": {
      "text/plain": [
       "True"
      ]
     },
     "execution_count": 5,
     "metadata": {},
     "output_type": "execute_result"
    }
   ],
   "source": [
    "np.linalg.det(Key) != 0"
   ]
  },
  {
   "cell_type": "code",
   "execution_count": 6,
   "id": "e6a7cf71",
   "metadata": {},
   "outputs": [],
   "source": [
    " n = 'PILLA'"
   ]
  },
  {
   "cell_type": "code",
   "execution_count": 7,
   "id": "634e7c5b",
   "metadata": {},
   "outputs": [],
   "source": [
    "import string\n"
   ]
  },
  {
   "cell_type": "code",
   "execution_count": 8,
   "id": "538293ef",
   "metadata": {},
   "outputs": [],
   "source": [
    "def preprocessing(n):\n",
    "    n = n.replace(\" \",\"\").replace(\",\",\"\").replace(\".\",\"\").replace(\"'\",\"\").replace(\":\",\"\").replace(\";\",\"\")\n",
    "    n  = n.lower()\n",
    "    return n\n",
    "\n",
    "def letters_plain(n):\n",
    "    letters = []\n",
    "    \n",
    "    for i in range(0, len(n)):\n",
    "        letters.append(n[i])\n",
    "    return letters\n",
    "\n",
    "def letter_number(letter):\n",
    "    return string.ascii_lowercase.index(letter)\n",
    "\n",
    "def number_letter(letter):\n",
    "    return chr(int(number) +97)\n",
    "\n",
    "def module(letter_index):\n",
    "    \n",
    "    while(letter_index <0):\n",
    "        letter_index +=26\n",
    "        \n",
    "    while(letter_index >25):\n",
    "        letter_index -=26\n",
    "        \n",
    "    return letter_index"
   ]
  },
  {
   "cell_type": "code",
   "execution_count": 9,
   "id": "b06b14fe",
   "metadata": {},
   "outputs": [
    {
     "data": {
      "text/plain": [
       "'pilla'"
      ]
     },
     "execution_count": 9,
     "metadata": {},
     "output_type": "execute_result"
    }
   ],
   "source": [
    "preprocessing(n)"
   ]
  },
  {
   "cell_type": "code",
   "execution_count": 10,
   "id": "dab6a99f",
   "metadata": {},
   "outputs": [],
   "source": [
    "plain_text = letters_plain(n)"
   ]
  },
  {
   "cell_type": "code",
   "execution_count": 11,
   "id": "b593c574",
   "metadata": {},
   "outputs": [
    {
     "data": {
      "text/plain": [
       "['P', 'I', 'L', 'L', 'A']"
      ]
     },
     "execution_count": 11,
     "metadata": {},
     "output_type": "execute_result"
    }
   ],
   "source": [
    "plain_text\n"
   ]
  },
  {
   "cell_type": "code",
   "execution_count": 12,
   "id": "6230a742",
   "metadata": {},
   "outputs": [],
   "source": [
    "plain_idx = []\n",
    "for value in plain_text:\n",
    "    plain_idx.append(ord(value))"
   ]
  },
  {
   "cell_type": "code",
   "execution_count": 13,
   "id": "9f39f7a8",
   "metadata": {},
   "outputs": [
    {
     "data": {
      "text/plain": [
       "[80, 73, 76, 76, 65]"
      ]
     },
     "execution_count": 13,
     "metadata": {},
     "output_type": "execute_result"
    }
   ],
   "source": [
    "plain_idx"
   ]
  },
  {
   "cell_type": "code",
   "execution_count": 14,
   "id": "4d32f72b",
   "metadata": {},
   "outputs": [],
   "source": [
    "plaintext_matrix = np.array(plain_idx)"
   ]
  },
  {
   "cell_type": "code",
   "execution_count": 15,
   "id": "17625799",
   "metadata": {},
   "outputs": [
    {
     "data": {
      "text/plain": [
       "array([80, 73, 76, 76, 65])"
      ]
     },
     "execution_count": 15,
     "metadata": {},
     "output_type": "execute_result"
    }
   ],
   "source": [
    "plaintext_matrix"
   ]
  },
  {
   "cell_type": "code",
   "execution_count": 16,
   "id": "55988edc",
   "metadata": {},
   "outputs": [
    {
     "data": {
      "text/plain": [
       "array([[80, 73, 76, 76, 65],\n",
       "       [ 0,  0,  0,  0,  0],\n",
       "       [ 0,  0,  0,  0,  0],\n",
       "       [ 0,  0,  0,  0,  0],\n",
       "       [ 0,  0,  0,  0,  0]])"
      ]
     },
     "execution_count": 16,
     "metadata": {},
     "output_type": "execute_result"
    }
   ],
   "source": [
    "plaintext_matrix.resize(5,5,refcheck=False)\n",
    "plaintext_matrix"
   ]
  },
  {
   "cell_type": "markdown",
   "id": "f3611f6c",
   "metadata": {},
   "source": [
    "## encryption"
   ]
  },
  {
   "cell_type": "code",
   "execution_count": 38,
   "id": "621a481e",
   "metadata": {},
   "outputs": [],
   "source": [
    "encryption =np.matmul(plaintext_matrix, Key)%29"
   ]
  },
  {
   "cell_type": "code",
   "execution_count": 39,
   "id": "209853b3",
   "metadata": {},
   "outputs": [
    {
     "data": {
      "text/plain": [
       "array([[17, 26, 24,  5,  7],\n",
       "       [ 0,  0,  0,  0,  0],\n",
       "       [ 0,  0,  0,  0,  0],\n",
       "       [ 0,  0,  0,  0,  0],\n",
       "       [ 0,  0,  0,  0,  0]], dtype=int32)"
      ]
     },
     "execution_count": 39,
     "metadata": {},
     "output_type": "execute_result"
    }
   ],
   "source": [
    "encryption"
   ]
  },
  {
   "cell_type": "code",
   "execution_count": 40,
   "id": "45b5cea4",
   "metadata": {},
   "outputs": [
    {
     "data": {
      "text/plain": [
       "array([[17, 26, 24,  5,  7],\n",
       "       [ 0,  0,  0,  0,  0],\n",
       "       [ 0,  0,  0,  0,  0]], dtype=int32)"
      ]
     },
     "execution_count": 40,
     "metadata": {},
     "output_type": "execute_result"
    }
   ],
   "source": [
    "encryption.resize(3,5, refcheck=False)\n",
    "encryption"
   ]
  },
  {
   "cell_type": "code",
   "execution_count": 41,
   "id": "d733ee3b",
   "metadata": {},
   "outputs": [],
   "source": [
    "ciphertext = []\n",
    "for i in encryption.tolist()[0]:\n",
    "    ciphertext.append(chr(int(i) + 97))\n",
    "    "
   ]
  },
  {
   "cell_type": "code",
   "execution_count": 42,
   "id": "684d4a00",
   "metadata": {},
   "outputs": [
    {
     "data": {
      "text/plain": [
       "[17, 26, 24, 5, 7]"
      ]
     },
     "execution_count": 42,
     "metadata": {},
     "output_type": "execute_result"
    }
   ],
   "source": [
    "encryption.tolist()[0]"
   ]
  },
  {
   "cell_type": "code",
   "execution_count": 43,
   "id": "5cd4e900",
   "metadata": {},
   "outputs": [
    {
     "data": {
      "text/plain": [
       "['r', '{', 'y', 'f', 'h']"
      ]
     },
     "execution_count": 43,
     "metadata": {},
     "output_type": "execute_result"
    }
   ],
   "source": [
    "ciphertext"
   ]
  },
  {
   "cell_type": "code",
   "execution_count": 44,
   "id": "fa784ec4",
   "metadata": {},
   "outputs": [
    {
     "data": {
      "text/plain": [
       "['P', 'I', 'L', 'L', 'A']"
      ]
     },
     "execution_count": 44,
     "metadata": {},
     "output_type": "execute_result"
    }
   ],
   "source": [
    "plain_text\n"
   ]
  },
  {
   "cell_type": "markdown",
   "id": "9a030fef",
   "metadata": {},
   "source": [
    "## decryption"
   ]
  },
  {
   "cell_type": "code",
   "execution_count": 24,
   "id": "5ee60776",
   "metadata": {},
   "outputs": [],
   "source": [
    "from sympy import Matrix"
   ]
  },
  {
   "cell_type": "code",
   "execution_count": 25,
   "id": "9f8780d1",
   "metadata": {},
   "outputs": [],
   "source": [
    "inv_key = Matrix(Key).inv_mod(29)"
   ]
  },
  {
   "cell_type": "code",
   "execution_count": 26,
   "id": "df9fbda2",
   "metadata": {},
   "outputs": [
    {
     "data": {
      "text/latex": [
       "$\\displaystyle \\left[\\begin{matrix}18 & 17 & 24 & 2 & 19\\\\7 & 15 & 7 & 14 & 18\\\\20 & 28 & 1 & 1 & 8\\\\10 & 14 & 15 & 15 & 22\\\\11 & 27 & 16 & 2 & 23\\end{matrix}\\right]$"
      ],
      "text/plain": [
       "Matrix([\n",
       "[18, 17, 24,  2, 19],\n",
       "[ 7, 15,  7, 14, 18],\n",
       "[20, 28,  1,  1,  8],\n",
       "[10, 14, 15, 15, 22],\n",
       "[11, 27, 16,  2, 23]])"
      ]
     },
     "execution_count": 26,
     "metadata": {},
     "output_type": "execute_result"
    }
   ],
   "source": [
    "inv_key"
   ]
  },
  {
   "cell_type": "code",
   "execution_count": 27,
   "id": "e96fed20",
   "metadata": {},
   "outputs": [
    {
     "data": {
      "text/plain": [
       "array([[18, 17, 24, 2, 19],\n",
       "       [7, 15, 7, 14, 18],\n",
       "       [20, 28, 1, 1, 8],\n",
       "       [10, 14, 15, 15, 22],\n",
       "       [11, 27, 16, 2, 23]], dtype=object)"
      ]
     },
     "execution_count": 27,
     "metadata": {},
     "output_type": "execute_result"
    }
   ],
   "source": [
    "inv_key = np.array(inv_key)\n",
    "inv_key"
   ]
  },
  {
   "cell_type": "code",
   "execution_count": 28,
   "id": "bb19fa8c",
   "metadata": {},
   "outputs": [],
   "source": [
    "inv_key = inv_key.astype(float)"
   ]
  },
  {
   "cell_type": "code",
   "execution_count": 29,
   "id": "33991382",
   "metadata": {},
   "outputs": [
    {
     "data": {
      "text/plain": [
       "array([[1., 0., 0., 0., 0.],\n",
       "       [0., 1., 0., 0., 0.],\n",
       "       [0., 0., 1., 0., 0.],\n",
       "       [0., 0., 0., 1., 0.],\n",
       "       [0., 0., 0., 0., 1.]])"
      ]
     },
     "execution_count": 29,
     "metadata": {},
     "output_type": "execute_result"
    }
   ],
   "source": [
    "np.matmul(Key, inv_key)%29\n"
   ]
  },
  {
   "cell_type": "code",
   "execution_count": 29,
   "id": "e609ee39",
   "metadata": {},
   "outputs": [],
   "source": [
    "encryption.resize(5,3, refcheck= False)"
   ]
  },
  {
   "cell_type": "code",
   "execution_count": 30,
   "id": "630a91e1",
   "metadata": {},
   "outputs": [],
   "source": [
    "decryption = np.matmul(encryption, inv_key) %29"
   ]
  },
  {
   "cell_type": "code",
   "execution_count": 31,
   "id": "959af8e1",
   "metadata": {},
   "outputs": [
    {
     "data": {
      "text/plain": [
       "array([[ 5., 17., 26.,  5., 14.],\n",
       "       [ 0.,  0.,  0.,  0.,  0.],\n",
       "       [ 0.,  0.,  0.,  0.,  0.]])"
      ]
     },
     "execution_count": 31,
     "metadata": {},
     "output_type": "execute_result"
    }
   ],
   "source": [
    "decryption"
   ]
  },
  {
   "cell_type": "code",
   "execution_count": 32,
   "id": "beec8d61",
   "metadata": {},
   "outputs": [],
   "source": [
    "decryption.resize(1,5, refcheck=False)"
   ]
  },
  {
   "cell_type": "code",
   "execution_count": 33,
   "id": "ce88b98f",
   "metadata": {},
   "outputs": [],
   "source": [
    "restored_text = [] \n",
    "for i in decryption.tolist()[0]:\n",
    "    restored_text.append(chr(int(i) +97))"
   ]
  },
  {
   "cell_type": "code",
   "execution_count": 34,
   "id": "d5ff537d",
   "metadata": {},
   "outputs": [
    {
     "data": {
      "text/plain": [
       "['f', 'r', '{', 'f', 'o']"
      ]
     },
     "execution_count": 34,
     "metadata": {},
     "output_type": "execute_result"
    }
   ],
   "source": [
    "restored_text "
   ]
  },
  {
   "cell_type": "code",
   "execution_count": 35,
   "id": "00b534d6",
   "metadata": {},
   "outputs": [
    {
     "data": {
      "text/plain": [
       "[5.0, 17.0, 26.0, 5.0, 14.0]"
      ]
     },
     "execution_count": 35,
     "metadata": {},
     "output_type": "execute_result"
    }
   ],
   "source": [
    "decryption.tolist()[0]"
   ]
  },
  {
   "cell_type": "markdown",
   "id": "eb210604",
   "metadata": {},
   "source": [
    "## bruteforce"
   ]
  },
  {
   "cell_type": "code",
   "execution_count": 49,
   "id": "388f8467",
   "metadata": {},
   "outputs": [],
   "source": [
    "message = 'PILLA'\n",
    "alphabet = 'ABCDEFGHIJKLMNOPQRSTUVWXYZ'"
   ]
  },
  {
   "cell_type": "code",
   "execution_count": 50,
   "id": "950a0978",
   "metadata": {},
   "outputs": [
    {
     "name": "stdout",
     "output_type": "stream",
     "text": [
      "Hacking key #0: PILLA\n",
      "Hacking key #1: OHKKZ\n",
      "Hacking key #2: NGJJY\n",
      "Hacking key #3: MFIIX\n",
      "Hacking key #4: LEHHW\n",
      "Hacking key #5: KDGGV\n",
      "Hacking key #6: JCFFU\n",
      "Hacking key #7: IBEET\n",
      "Hacking key #8: HADDS\n",
      "Hacking key #9: GZCCR\n",
      "Hacking key #10: FYBBQ\n",
      "Hacking key #11: EXAAP\n",
      "Hacking key #12: DWZZO\n",
      "Hacking key #13: CVYYN\n",
      "Hacking key #14: BUXXM\n",
      "Hacking key #15: ATWWL\n",
      "Hacking key #16: ZSVVK\n",
      "Hacking key #17: YRUUJ\n",
      "Hacking key #18: XQTTI\n",
      "Hacking key #19: WPSSH\n",
      "Hacking key #20: VORRG\n",
      "Hacking key #21: UNQQF\n",
      "Hacking key #22: TMPPE\n",
      "Hacking key #23: SLOOD\n",
      "Hacking key #24: RKNNC\n",
      "Hacking key #25: QJMMB\n"
     ]
    }
   ],
   "source": [
    "\n",
    "for key in range(len(alphabet)):\n",
    "    translated_message = ''\n",
    "    for symbol in message:\n",
    "        if symbol in alphabet:\n",
    "            index = alphabet.find(symbol)\n",
    "            index = index - key\n",
    "            if index < 0:\n",
    "                index = index + len(alphabet)\n",
    "            translated_message = translated_message + alphabet[index]\n",
    "        else:\n",
    "            translated_message = translated_message + symbol\n",
    "    print('Hacking key #%s: %s' % (key, translated_message))"
   ]
  },
  {
   "cell_type": "code",
   "execution_count": null,
   "id": "74bf2af5",
   "metadata": {},
   "outputs": [],
   "source": []
  }
 ],
 "metadata": {
  "kernelspec": {
   "display_name": "Python 3",
   "language": "python",
   "name": "python3"
  },
  "language_info": {
   "codemirror_mode": {
    "name": "ipython",
    "version": 3
   },
   "file_extension": ".py",
   "mimetype": "text/x-python",
   "name": "python",
   "nbconvert_exporter": "python",
   "pygments_lexer": "ipython3",
   "version": "3.8.8"
  }
 },
 "nbformat": 4,
 "nbformat_minor": 5
}
