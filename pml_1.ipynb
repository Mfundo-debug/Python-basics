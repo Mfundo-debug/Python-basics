{
 "cells": [
  {
   "cell_type": "code",
   "execution_count": 1,
   "id": "cd9efa06",
   "metadata": {},
   "outputs": [
    {
     "name": "stderr",
     "output_type": "stream",
     "text": [
      "WARNING (theano.configdefaults): g++ not available, if using conda: `conda install m2w64-toolchain`\n",
      "WARNING (theano.configdefaults): g++ not detected ! Theano will be unable to execute optimized C-implementations (for both CPU and GPU) and will default to Python implementations. Performance will be severely degraded. To remove this warning, set Theano flags cxx to an empty string.\n",
      "WARNING (theano.tensor.blas): Using NumPy C-API based implementation for BLAS functions.\n"
     ]
    }
   ],
   "source": [
    "import pymc3 as pm\n",
    "import arviz as az\n",
    "import numpy as np\n",
    "\n",
    "import seaborn as sns\n",
    "import matplotlib.pyplot as plt"
   ]
  },
  {
   "cell_type": "code",
   "execution_count": 2,
   "id": "d76c29ed",
   "metadata": {},
   "outputs": [],
   "source": [
    "n= 50 # number of data points\n",
    "θ = 1.5\n",
    "θ_1 = 2.5\n",
    "ϵ = np.random.normal(0,0.7,n) #adding noise to the data\n",
    "x = np.random.uniform(0,10,n) #  normal distribution"
   ]
  },
  {
   "cell_type": "markdown",
   "id": "91a478a7",
   "metadata": {},
   "source": [
    "### Generate data"
   ]
  },
  {
   "cell_type": "code",
   "execution_count": 3,
   "id": "f0888ccf",
   "metadata": {},
   "outputs": [],
   "source": [
    "y = θ + θ_1*x + x**2 + ϵ"
   ]
  },
  {
   "cell_type": "code",
   "execution_count": 4,
   "id": "58ec50a5",
   "metadata": {},
   "outputs": [
    {
     "name": "stderr",
     "output_type": "stream",
     "text": [
      "C:\\Users\\Mfund\\anaconda3\\lib\\site-packages\\seaborn\\_decorators.py:36: FutureWarning: Pass the following variables as keyword args: x, y. From version 0.12, the only valid positional argument will be `data`, and passing other arguments without an explicit keyword will result in an error or misinterpretation.\n",
      "  warnings.warn(\n"
     ]
    },
    {
     "data": {
      "text/plain": [
       "<AxesSubplot:>"
      ]
     },
     "execution_count": 4,
     "metadata": {},
     "output_type": "execute_result"
    },
    {
     "data": {
      "image/png": "[encoded data removed]",
      "text/plain": [
       "<Figure size 432x288 with 1 Axes>"
      ]
     },
     "metadata": {
      "needs_background": "light"
     },
     "output_type": "display_data"
    }
   ],
   "source": [
    "sns.scatterplot(x,y)"
   ]
  },
  {
   "cell_type": "code",
   "execution_count": null,
   "id": "169000b1",
   "metadata": {},
   "outputs": [
    {
     "name": "stderr",
     "output_type": "stream",
     "text": [
      "<ipython-input-7-e366b1d20cc6>:10: FutureWarning: In v4.0, pm.sample will return an `arviz.InferenceData` object instead of a `MultiTrace` by default. You can pass return_inferencedata=True or return_inferencedata=False to be safe and silence this warning.\n",
      "  trace_Reg = pm.sample(2000,tune=1000)\n",
      "Auto-assigning NUTS sampler...\n",
      "Initializing NUTS using jitter+adapt_diag...\n",
      "C:\\Users\\Mfund\\anaconda3\\lib\\site-packages\\theano\\tensor\\elemwise.py:826: RuntimeWarning: divide by zero encountered in log\n",
      "  variables = ufunc(*ufunc_args, **ufunc_kwargs)\n",
      "C:\\Users\\Mfund\\anaconda3\\lib\\site-packages\\theano\\tensor\\elemwise.py:826: RuntimeWarning: invalid value encountered in multiply\n",
      "  variables = ufunc(*ufunc_args, **ufunc_kwargs)\n",
      "Multiprocess sampling (4 chains in 4 jobs)\n",
      "NUTS: [ϵ, θ]\n"
     ]
    }
   ],
   "source": [
    "with pm.Model() as Reg_model:\n",
    "    #adding priors\n",
    "    theta = pm.Normal(\"θ\", mu =0, sd = 10, shape=[10])\n",
    "    ϵ = pm.HalfNormal(\"ϵ\", 5)\n",
    "    \n",
    "    μ_0 = theta[0]+ theta[1]*x + theta[2]*x**2\n",
    "    \n",
    "    #likelihood\n",
    "    y_obs = pm.Normal('y_obs', mu = μ_0, sd= ϵ, observed=y)\n",
    "    trace_Reg = pm.sample(2000,tune=1000)"
   ]
  },
  {
   "cell_type": "code",
   "execution_count": null,
   "id": "3e0c0d22",
   "metadata": {},
   "outputs": [],
   "source": [
    "az.plot_trace(trace_Reg)"
   ]
  },
  {
   "cell_type": "code",
   "execution_count": null,
   "id": "8786efcc",
   "metadata": {},
   "outputs": [],
   "source": []
  }
 ],
 "metadata": {
  "kernelspec": {
   "display_name": "Python 3",
   "language": "python",
   "name": "python3"
  },
  "language_info": {
   "codemirror_mode": {
    "name": "ipython",
    "version": 3
   },
   "file_extension": ".py",
   "mimetype": "text/x-python",
   "name": "python",
   "nbconvert_exporter": "python",
   "pygments_lexer": "ipython3",
   "version": "3.8.8"
  }
 },
 "nbformat": 4,
 "nbformat_minor": 5
}
