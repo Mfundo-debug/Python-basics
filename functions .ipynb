{
 "cells": [
  {
   "cell_type": "markdown",
   "id": "fd098739",
   "metadata": {},
   "source": [
    "## FUnctions are a set of actiond that we group together, and give a name to.\n",
    "\n",
    "### example. list.sort()\n",
    "\n",
    "### functions are convenient way to divide your code into useful blocks, allowing us to order our code, make it more readable,v  reuse it, shortens your code\n",
    "##### saves time"
   ]
  },
  {
   "cell_type": "markdown",
   "id": "02f27a0e",
   "metadata": {},
   "source": [
    "### def\n",
    "\n",
    "## def function_name(parameters):"
   ]
  },
  {
   "cell_type": "code",
   "execution_count": 1,
   "id": "87268456",
   "metadata": {},
   "outputs": [],
   "source": [
    "def my_function():\n",
    "    print('hello there!')"
   ]
  },
  {
   "cell_type": "code",
   "execution_count": 7,
   "id": "c14099a4",
   "metadata": {},
   "outputs": [],
   "source": [
    "def greet(name):\n",
    "    print(' hello ' + name + ' evening ')"
   ]
  },
  {
   "cell_type": "code",
   "execution_count": 5,
   "id": "f1e0cccd",
   "metadata": {},
   "outputs": [],
   "source": [
    "def mylist(mylist):\n",
    "    mylist.append([1,2,3,4,5])\n",
    "    print('valued inside the function', mylist)\n",
    "    return"
   ]
  },
  {
   "cell_type": "code",
   "execution_count": 8,
   "id": "65ecf4d9",
   "metadata": {},
   "outputs": [
    {
     "name": "stdout",
     "output_type": "stream",
     "text": [
      " hello BDF evening \n"
     ]
    }
   ],
   "source": [
    "greet('BDF')"
   ]
  },
  {
   "cell_type": "code",
   "execution_count": 9,
   "id": "54f6591d",
   "metadata": {},
   "outputs": [],
   "source": [
    "def show_students(students, texts):\n",
    "    #print an message then the list of the students\n",
    "    print(texts)\n",
    "    for student in students:\n",
    "        print(student)\n",
    "students = ['A','B','C','D','E']\n"
   ]
  },
  {
   "cell_type": "code",
   "execution_count": 10,
   "id": "f3f9b6be",
   "metadata": {},
   "outputs": [
    {
     "name": "stdout",
     "output_type": "stream",
     "text": [
      "students are in alphabetic order\n",
      "A\n",
      "B\n",
      "C\n",
      "D\n",
      "E\n"
     ]
    }
   ],
   "source": [
    "show_students(students,'students are in alphabetic order')"
   ]
  },
  {
   "cell_type": "code",
   "execution_count": 11,
   "id": "304125d0",
   "metadata": {},
   "outputs": [],
   "source": [
    "def add_numbers(x,y):\n",
    "    a = x+y\n",
    "    b = y+x\n",
    "    print(a,b)\n",
    "    "
   ]
  },
  {
   "cell_type": "code",
   "execution_count": 12,
   "id": "ff47ea87",
   "metadata": {},
   "outputs": [
    {
     "name": "stdout",
     "output_type": "stream",
     "text": [
      "6 6\n"
     ]
    }
   ],
   "source": [
    "add_numbers(2,4)"
   ]
  },
  {
   "cell_type": "code",
   "execution_count": 13,
   "id": "8921164e",
   "metadata": {},
   "outputs": [],
   "source": [
    "def sub(x,y,z):\n",
    "    c = y-x-z\n",
    "    b= x-y\n",
    "    a = z-x\n",
    "    print(a,b,c)"
   ]
  },
  {
   "cell_type": "code",
   "execution_count": 14,
   "id": "eba615ed",
   "metadata": {},
   "outputs": [
    {
     "name": "stdout",
     "output_type": "stream",
     "text": [
      "4 -3 -3\n"
     ]
    }
   ],
   "source": [
    "sub(2,5,6)"
   ]
  },
  {
   "cell_type": "code",
   "execution_count": 15,
   "id": "9d5ae725",
   "metadata": {},
   "outputs": [],
   "source": [
    "def max(a,b):\n",
    "    if a>b:\n",
    "        return a\n",
    "    else:\n",
    "        return b\n",
    "    "
   ]
  },
  {
   "cell_type": "code",
   "execution_count": 16,
   "id": "44779b16",
   "metadata": {},
   "outputs": [
    {
     "name": "stdout",
     "output_type": "stream",
     "text": [
      "6\n"
     ]
    }
   ],
   "source": [
    "print(max(4,6))"
   ]
  },
  {
   "cell_type": "code",
   "execution_count": 17,
   "id": "8d0e0097",
   "metadata": {},
   "outputs": [
    {
     "name": "stdout",
     "output_type": "stream",
     "text": [
      "6\n"
     ]
    }
   ],
   "source": [
    "print(max(6,4))"
   ]
  },
  {
   "cell_type": "markdown",
   "id": "b69b0991",
   "metadata": {},
   "source": [
    "## a) create a function that takes 2 params (name,age) and print their value\n",
    "\n",
    "## b) create a function called calculation() such that it can accept two variables and calulates addition and subtraction. also it must return both addition and subtraction in a single return call\n",
    "\n",
    "## def calculation(a,b):\n",
    "        # your code\n",
    "        \n",
    "     # results = calculations(3,5)\n",
    "     print(results)\n",
    "    \n",
    " \n",
    " \n",
    " # submission 19:15pm\n",
    " \n",
    " ## c)Three is a crowd\n",
    " ###  make a list of names that includes atleast  4 people\n",
    " ### write an if tests that prints a message about the room being crowded, if there are more than 3 people in your list\n",
    " ### modify yor lisr so that there are only two people in it. use one of the methods for removing people from the list dont just redefine the list\n",
    " ### run your if test again. there should be no output tis time because there are less than 3 people in the list\n",
    " ### Bonus: store your if test in a function called crowd_test"
   ]
  },
  {
   "cell_type": "code",
   "execution_count": 20,
   "id": "38b6e4fc",
   "metadata": {},
   "outputs": [
    {
     "name": "stdout",
     "output_type": "stream",
     "text": [
      "8 -2\n"
     ]
    }
   ],
   "source": [
    "# b)\n",
    "\n",
    "def calculation(a,b):\n",
    "    return a+b, a-b\n",
    "add,sub = calculation(3,5)\n",
    "print(add,sub)"
   ]
  },
  {
   "cell_type": "code",
   "execution_count": 21,
   "id": "0b6b8291",
   "metadata": {},
   "outputs": [],
   "source": [
    "#a)\n",
    "def profile(name,age):\n",
    "    print(name,age)"
   ]
  },
  {
   "cell_type": "code",
   "execution_count": 22,
   "id": "3ad6ef01",
   "metadata": {},
   "outputs": [
    {
     "name": "stdout",
     "output_type": "stream",
     "text": [
      "NBDF class 2\n"
     ]
    }
   ],
   "source": [
    "profile('NBDF class', 2)"
   ]
  },
  {
   "cell_type": "code",
   "execution_count": null,
   "id": "e9b2ba7c",
   "metadata": {},
   "outputs": [],
   "source": []
  }
 ],
 "metadata": {
  "kernelspec": {
   "display_name": "Python 3",
   "language": "python",
   "name": "python3"
  },
  "language_info": {
   "codemirror_mode": {
    "name": "ipython",
    "version": 3
   },
   "file_extension": ".py",
   "mimetype": "text/x-python",
   "name": "python",
   "nbconvert_exporter": "python",
   "pygments_lexer": "ipython3",
   "version": "3.8.8"
  }
 },
 "nbformat": 4,
 "nbformat_minor": 5
}
