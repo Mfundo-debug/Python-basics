{
 "cells": [
  {
   "cell_type": "code",
   "execution_count": 1,
   "id": "2d6734ff",
   "metadata": {},
   "outputs": [],
   "source": [
    "import numpy as np\n",
    "import matplotlib.pyplot as plt\n",
    "import seaborn as sns\n",
    "import pandas as pd"
   ]
  },
  {
   "cell_type": "code",
   "execution_count": 4,
   "id": "14ced22e",
   "metadata": {},
   "outputs": [],
   "source": [
    "data = pd.ExcelFile('C:/Users/Mfund/Downloads/Water_dataset/statistics.xls') \n",
    "df = pd.read_excel(data,'Parameter_Metadata')\n"
   ]
  },
  {
   "cell_type": "code",
   "execution_count": 5,
   "id": "f2095490",
   "metadata": {},
   "outputs": [
    {
     "data": {
      "text/html": [
       "<div>\n",
       "<style scoped>\n",
       "    .dataframe tbody tr th:only-of-type {\n",
       "        vertical-align: middle;\n",
       "    }\n",
       "\n",
       "    .dataframe tbody tr th {\n",
       "        vertical-align: top;\n",
       "    }\n",
       "\n",
       "    .dataframe thead th {\n",
       "        text-align: right;\n",
       "    }\n",
       "</style>\n",
       "<table border=\"1\" class=\"dataframe\">\n",
       "  <thead>\n",
       "    <tr style=\"text-align: right;\">\n",
       "      <th></th>\n",
       "      <th>GEMS Station Number</th>\n",
       "      <th>Historical GEMS Number</th>\n",
       "      <th>Local Station Number</th>\n",
       "      <th>Country Name</th>\n",
       "      <th>Water Type</th>\n",
       "      <th>Station Identifier</th>\n",
       "      <th>Station Narrative</th>\n",
       "      <th>Water Body Name</th>\n",
       "      <th>Main Basin</th>\n",
       "      <th>Upstream Basin Area</th>\n",
       "      <th>...</th>\n",
       "      <th>Discharge</th>\n",
       "      <th>Max. Depth</th>\n",
       "      <th>Lake Area</th>\n",
       "      <th>Lake Volume</th>\n",
       "      <th>Average Retention</th>\n",
       "      <th>Area of Aquifer</th>\n",
       "      <th>Depth of Impermeable Lining</th>\n",
       "      <th>Production Zone</th>\n",
       "      <th>Mean Abstraction Rate</th>\n",
       "      <th>Mean Abstraction Level</th>\n",
       "    </tr>\n",
       "  </thead>\n",
       "  <tbody>\n",
       "    <tr>\n",
       "      <th>0</th>\n",
       "      <td>ZAF00003</td>\n",
       "      <td>38003</td>\n",
       "      <td>101770</td>\n",
       "      <td>South Africa</td>\n",
       "      <td>River station</td>\n",
       "      <td>Vaal River - at Schmidtsdrift (Weir)</td>\n",
       "      <td>One of the lowest sites on the Vaal River befo...</td>\n",
       "      <td>NaN</td>\n",
       "      <td>Orange</td>\n",
       "      <td>NaN</td>\n",
       "      <td>...</td>\n",
       "      <td>NaN</td>\n",
       "      <td>NaN</td>\n",
       "      <td>NaN</td>\n",
       "      <td>NaN</td>\n",
       "      <td>NaN</td>\n",
       "      <td>NaN</td>\n",
       "      <td>NaN</td>\n",
       "      <td>NaN</td>\n",
       "      <td>NaN</td>\n",
       "      <td>NaN</td>\n",
       "    </tr>\n",
       "  </tbody>\n",
       "</table>\n",
       "<p>1 rows × 27 columns</p>\n",
       "</div>"
      ],
      "text/plain": [
       "  GEMS Station Number  Historical GEMS Number  Local Station Number  \\\n",
       "0            ZAF00003                   38003                101770   \n",
       "\n",
       "   Country Name     Water Type                    Station Identifier  \\\n",
       "0  South Africa  River station  Vaal River - at Schmidtsdrift (Weir)   \n",
       "\n",
       "                                   Station Narrative  Water Body Name  \\\n",
       "0  One of the lowest sites on the Vaal River befo...              NaN   \n",
       "\n",
       "  Main Basin  Upstream Basin Area  ...  Discharge Max. Depth Lake Area  \\\n",
       "0     Orange                  NaN  ...        NaN        NaN       NaN   \n",
       "\n",
       "  Lake Volume  Average Retention  Area of Aquifer  \\\n",
       "0         NaN                NaN              NaN   \n",
       "\n",
       "   Depth of Impermeable Lining  Production Zone  Mean Abstraction Rate  \\\n",
       "0                          NaN              NaN                    NaN   \n",
       "\n",
       "   Mean Abstraction Level  \n",
       "0                     NaN  \n",
       "\n",
       "[1 rows x 27 columns]"
      ]
     },
     "execution_count": 5,
     "metadata": {},
     "output_type": "execute_result"
    }
   ],
   "source": [
    "data.head()"
   ]
  },
  {
   "cell_type": "code",
   "execution_count": 5,
   "id": "7e9e634a",
   "metadata": {},
   "outputs": [
    {
     "data": {
      "text/html": [
       "<div>\n",
       "<style scoped>\n",
       "    .dataframe tbody tr th:only-of-type {\n",
       "        vertical-align: middle;\n",
       "    }\n",
       "\n",
       "    .dataframe tbody tr th {\n",
       "        vertical-align: top;\n",
       "    }\n",
       "\n",
       "    .dataframe thead th {\n",
       "        text-align: right;\n",
       "    }\n",
       "</style>\n",
       "<table border=\"1\" class=\"dataframe\">\n",
       "  <thead>\n",
       "    <tr style=\"text-align: right;\">\n",
       "      <th></th>\n",
       "      <th>Parameter Code</th>\n",
       "      <th>Parameter Name</th>\n",
       "      <th>Parameter Long Name</th>\n",
       "      <th>Parameter Group</th>\n",
       "      <th>EC Number</th>\n",
       "      <th>CAS Number</th>\n",
       "      <th>ChEBI Number</th>\n",
       "      <th>Parameter Description</th>\n",
       "    </tr>\n",
       "  </thead>\n",
       "  <tbody>\n",
       "    <tr>\n",
       "      <th>0</th>\n",
       "      <td>Alk-Tot</td>\n",
       "      <td>Alkalinity</td>\n",
       "      <td>Total Alkalinity</td>\n",
       "      <td>/Chemical/Inorganic/Non-Metal</td>\n",
       "      <td>207-439-9</td>\n",
       "      <td>471-34-1</td>\n",
       "      <td>3311.0</td>\n",
       "      <td>Acid-neutralizing capacity of sample at the po...</td>\n",
       "    </tr>\n",
       "    <tr>\n",
       "      <th>1</th>\n",
       "      <td>Ca-Dis</td>\n",
       "      <td>Calcium</td>\n",
       "      <td>Calcium - Dissolved</td>\n",
       "      <td>/Chemical/Inorganic/Metal</td>\n",
       "      <td>231-179-5</td>\n",
       "      <td>7440-70-2</td>\n",
       "      <td>22984.0</td>\n",
       "      <td>Calcium fraction in an unacidified sample that...</td>\n",
       "    </tr>\n",
       "    <tr>\n",
       "      <th>2</th>\n",
       "      <td>Cl-Dis</td>\n",
       "      <td>Chloride</td>\n",
       "      <td>Chloride - Dissolved</td>\n",
       "      <td>/Chemical/Inorganic/Non-Metal</td>\n",
       "      <td>NaN</td>\n",
       "      <td>16887-00-6</td>\n",
       "      <td>17996.0</td>\n",
       "      <td>NaN</td>\n",
       "    </tr>\n",
       "    <tr>\n",
       "      <th>3</th>\n",
       "      <td>DRP</td>\n",
       "      <td>Orthophosphate</td>\n",
       "      <td>Dissolved Reactive Phosphorus</td>\n",
       "      <td>/Chemical/Nutrient/Phosphorous</td>\n",
       "      <td>604-302-9</td>\n",
       "      <td>14265-44-2</td>\n",
       "      <td>18367.0</td>\n",
       "      <td>Phosphate fractions in filtered samples respon...</td>\n",
       "    </tr>\n",
       "    <tr>\n",
       "      <th>4</th>\n",
       "      <td>EC</td>\n",
       "      <td>Electrical Conductance</td>\n",
       "      <td>Electrical Conductance</td>\n",
       "      <td>/Chemical/Inorganic/Bulk Property</td>\n",
       "      <td>NaN</td>\n",
       "      <td>NaN</td>\n",
       "      <td>NaN</td>\n",
       "      <td>Measure of the ability of water to carry an el...</td>\n",
       "    </tr>\n",
       "  </tbody>\n",
       "</table>\n",
       "</div>"
      ],
      "text/plain": [
       "  Parameter Code          Parameter Name            Parameter Long Name  \\\n",
       "0        Alk-Tot              Alkalinity               Total Alkalinity   \n",
       "1         Ca-Dis                 Calcium            Calcium - Dissolved   \n",
       "2         Cl-Dis                Chloride           Chloride - Dissolved   \n",
       "3            DRP          Orthophosphate  Dissolved Reactive Phosphorus   \n",
       "4             EC  Electrical Conductance         Electrical Conductance   \n",
       "\n",
       "                     Parameter Group  EC Number  CAS Number  ChEBI Number  \\\n",
       "0      /Chemical/Inorganic/Non-Metal  207-439-9    471-34-1        3311.0   \n",
       "1          /Chemical/Inorganic/Metal  231-179-5   7440-70-2       22984.0   \n",
       "2      /Chemical/Inorganic/Non-Metal        NaN  16887-00-6       17996.0   \n",
       "3     /Chemical/Nutrient/Phosphorous  604-302-9  14265-44-2       18367.0   \n",
       "4  /Chemical/Inorganic/Bulk Property        NaN         NaN           NaN   \n",
       "\n",
       "                               Parameter Description  \n",
       "0  Acid-neutralizing capacity of sample at the po...  \n",
       "1  Calcium fraction in an unacidified sample that...  \n",
       "2                                                NaN  \n",
       "3  Phosphate fractions in filtered samples respon...  \n",
       "4  Measure of the ability of water to carry an el...  "
      ]
     },
     "execution_count": 5,
     "metadata": {},
     "output_type": "execute_result"
    }
   ],
   "source": [
    "df.head()"
   ]
  },
  {
   "cell_type": "code",
   "execution_count": 6,
   "id": "b8735d72",
   "metadata": {},
   "outputs": [
    {
     "data": {
      "text/plain": [
       "GEMS Station Number               object\n",
       "Historical GEMS Number             int64\n",
       "Local Station Number               int64\n",
       "Country Name                      object\n",
       "Water Type                        object\n",
       "Station Identifier                object\n",
       "Station Narrative                 object\n",
       "Water Body Name                  float64\n",
       "Main Basin                        object\n",
       "Upstream Basin Area              float64\n",
       "Elevation                          int64\n",
       "Monitoring Type                   object\n",
       "Date Station Opened               object\n",
       "Responsible Collection Agency     object\n",
       "Latitude                         float64\n",
       "Longitude                        float64\n",
       "River Width                      float64\n",
       "Discharge                        float64\n",
       "Max. Depth                       float64\n",
       "Lake Area                        float64\n",
       "Lake Volume                      float64\n",
       "Average Retention                float64\n",
       "Area of Aquifer                  float64\n",
       "Depth of Impermeable Lining      float64\n",
       "Production Zone                  float64\n",
       "Mean Abstraction Rate            float64\n",
       "Mean Abstraction Level           float64\n",
       "dtype: object"
      ]
     },
     "execution_count": 6,
     "metadata": {},
     "output_type": "execute_result"
    }
   ],
   "source": [
    "data.dtypes"
   ]
  },
  {
   "cell_type": "code",
   "execution_count": 7,
   "id": "fc610470",
   "metadata": {},
   "outputs": [
    {
     "name": "stdout",
     "output_type": "stream",
     "text": [
      "<class 'pandas.core.frame.DataFrame'>\n",
      "RangeIndex: 1 entries, 0 to 0\n",
      "Data columns (total 27 columns):\n",
      " #   Column                         Non-Null Count  Dtype  \n",
      "---  ------                         --------------  -----  \n",
      " 0   GEMS Station Number            1 non-null      object \n",
      " 1   Historical GEMS Number         1 non-null      int64  \n",
      " 2   Local Station Number           1 non-null      int64  \n",
      " 3   Country Name                   1 non-null      object \n",
      " 4   Water Type                     1 non-null      object \n",
      " 5   Station Identifier             1 non-null      object \n",
      " 6   Station Narrative              1 non-null      object \n",
      " 7   Water Body Name                0 non-null      float64\n",
      " 8   Main Basin                     1 non-null      object \n",
      " 9   Upstream Basin Area            0 non-null      float64\n",
      " 10  Elevation                      1 non-null      int64  \n",
      " 11  Monitoring Type                1 non-null      object \n",
      " 12  Date Station Opened            1 non-null      object \n",
      " 13  Responsible Collection Agency  1 non-null      object \n",
      " 14  Latitude                       1 non-null      float64\n",
      " 15  Longitude                      1 non-null      float64\n",
      " 16  River Width                    0 non-null      float64\n",
      " 17  Discharge                      0 non-null      float64\n",
      " 18  Max. Depth                     0 non-null      float64\n",
      " 19  Lake Area                      0 non-null      float64\n",
      " 20  Lake Volume                    0 non-null      float64\n",
      " 21  Average Retention              0 non-null      float64\n",
      " 22  Area of Aquifer                0 non-null      float64\n",
      " 23  Depth of Impermeable Lining    0 non-null      float64\n",
      " 24  Production Zone                0 non-null      float64\n",
      " 25  Mean Abstraction Rate          0 non-null      float64\n",
      " 26  Mean Abstraction Level         0 non-null      float64\n",
      "dtypes: float64(15), int64(3), object(9)\n",
      "memory usage: 344.0+ bytes\n"
     ]
    }
   ],
   "source": [
    "data.info()"
   ]
  },
  {
   "cell_type": "code",
   "execution_count": 8,
   "id": "71f3db0d",
   "metadata": {},
   "outputs": [
    {
     "data": {
      "text/plain": [
       "GEMS Station Number              1\n",
       "Historical GEMS Number           1\n",
       "Local Station Number             1\n",
       "Country Name                     1\n",
       "Water Type                       1\n",
       "Station Identifier               1\n",
       "Station Narrative                1\n",
       "Water Body Name                  0\n",
       "Main Basin                       1\n",
       "Upstream Basin Area              0\n",
       "Elevation                        1\n",
       "Monitoring Type                  1\n",
       "Date Station Opened              1\n",
       "Responsible Collection Agency    1\n",
       "Latitude                         1\n",
       "Longitude                        1\n",
       "River Width                      0\n",
       "Discharge                        0\n",
       "Max. Depth                       0\n",
       "Lake Area                        0\n",
       "Lake Volume                      0\n",
       "Average Retention                0\n",
       "Area of Aquifer                  0\n",
       "Depth of Impermeable Lining      0\n",
       "Production Zone                  0\n",
       "Mean Abstraction Rate            0\n",
       "Mean Abstraction Level           0\n",
       "dtype: int64"
      ]
     },
     "execution_count": 8,
     "metadata": {},
     "output_type": "execute_result"
    }
   ],
   "source": [
    "data.nunique()"
   ]
  },
  {
   "cell_type": "code",
   "execution_count": 9,
   "id": "7c31f2b1",
   "metadata": {},
   "outputs": [
    {
     "data": {
      "text/plain": [
       "Series([], dtype: int64)"
      ]
     },
     "execution_count": 9,
     "metadata": {},
     "output_type": "execute_result"
    }
   ],
   "source": [
    "data.value_counts()"
   ]
  },
  {
   "cell_type": "code",
   "execution_count": 11,
   "id": "d66a824d",
   "metadata": {},
   "outputs": [
    {
     "name": "stdout",
     "output_type": "stream",
     "text": [
      "Collecting missingno\n",
      "  Downloading missingno-0.5.0-py3-none-any.whl (8.8 kB)\n",
      "Requirement already satisfied: numpy in c:\\users\\mfund\\anaconda3\\lib\\site-packages (from missingno) (1.19.5)\n",
      "Requirement already satisfied: scipy in c:\\users\\mfund\\anaconda3\\lib\\site-packages (from missingno) (1.6.2)\n",
      "Requirement already satisfied: seaborn in c:\\users\\mfund\\anaconda3\\lib\\site-packages (from missingno) (0.11.1)\n",
      "Requirement already satisfied: matplotlib in c:\\users\\mfund\\anaconda3\\lib\\site-packages (from missingno) (3.3.4)\n",
      "Requirement already satisfied: kiwisolver>=1.0.1 in c:\\users\\mfund\\anaconda3\\lib\\site-packages (from matplotlib->missingno) (1.3.1)\n",
      "Requirement already satisfied: pillow>=6.2.0 in c:\\users\\mfund\\anaconda3\\lib\\site-packages (from matplotlib->missingno) (8.2.0)\n",
      "Requirement already satisfied: cycler>=0.10 in c:\\users\\mfund\\anaconda3\\lib\\site-packages (from matplotlib->missingno) (0.10.0)\n",
      "Requirement already satisfied: python-dateutil>=2.1 in c:\\users\\mfund\\anaconda3\\lib\\site-packages (from matplotlib->missingno) (2.8.1)\n",
      "Requirement already satisfied: pyparsing!=2.0.4,!=2.1.2,!=2.1.6,>=2.0.3 in c:\\users\\mfund\\anaconda3\\lib\\site-packages (from matplotlib->missingno) (2.4.7)\n",
      "Requirement already satisfied: six in c:\\users\\mfund\\anaconda3\\lib\\site-packages (from cycler>=0.10->matplotlib->missingno) (1.15.0)\n",
      "Requirement already satisfied: pandas>=0.23 in c:\\users\\mfund\\anaconda3\\lib\\site-packages (from seaborn->missingno) (1.2.4)\n",
      "Requirement already satisfied: pytz>=2017.3 in c:\\users\\mfund\\anaconda3\\lib\\site-packages (from pandas>=0.23->seaborn->missingno) (2021.1)\n",
      "Installing collected packages: missingno\n",
      "Successfully installed missingno-0.5.0\n"
     ]
    }
   ],
   "source": [
    "!pip install missingno"
   ]
  },
  {
   "cell_type": "code",
   "execution_count": 12,
   "id": "9d3ea0aa",
   "metadata": {},
   "outputs": [],
   "source": [
    "import missingno as msno"
   ]
  },
  {
   "cell_type": "code",
   "execution_count": 13,
   "id": "cdb7c3ea",
   "metadata": {},
   "outputs": [
    {
     "data": {
      "text/plain": [
       "<AxesSubplot:>"
      ]
     },
     "execution_count": 13,
     "metadata": {},
     "output_type": "execute_result"
    },
    {
     "data": {
      "image/png": "[encoded data removed]",
      "text/plain": [
       "<Figure size 1800x720 with 2 Axes>"
      ]
     },
     "metadata": {
      "needs_background": "light"
     },
     "output_type": "display_data"
    }
   ],
   "source": [
    "msno.matrix(data)"
   ]
  },
  {
   "cell_type": "code",
   "execution_count": 14,
   "id": "35a0fa14",
   "metadata": {},
   "outputs": [
    {
     "name": "stdout",
     "output_type": "stream",
     "text": [
      "the dataset does not contain any duplicate value\n"
     ]
    }
   ],
   "source": [
    "duplicated = data.duplicated().sum()\n",
    "if duplicated:\n",
    "  print('you have duplicates rows in the dataset which are: {}'.format(duplicated))\n",
    "else:\n",
    "  print('the dataset does not contain any duplicate value')"
   ]
  },
  {
   "cell_type": "code",
   "execution_count": 15,
   "id": "ba53682d",
   "metadata": {},
   "outputs": [
    {
     "data": {
      "text/html": [
       "<div>\n",
       "<style scoped>\n",
       "    .dataframe tbody tr th:only-of-type {\n",
       "        vertical-align: middle;\n",
       "    }\n",
       "\n",
       "    .dataframe tbody tr th {\n",
       "        vertical-align: top;\n",
       "    }\n",
       "\n",
       "    .dataframe thead th {\n",
       "        text-align: right;\n",
       "    }\n",
       "</style>\n",
       "<table border=\"1\" class=\"dataframe\">\n",
       "  <thead>\n",
       "    <tr style=\"text-align: right;\">\n",
       "      <th></th>\n",
       "      <th>Historical GEMS Number</th>\n",
       "      <th>Local Station Number</th>\n",
       "      <th>Water Body Name</th>\n",
       "      <th>Upstream Basin Area</th>\n",
       "      <th>Elevation</th>\n",
       "      <th>Latitude</th>\n",
       "      <th>Longitude</th>\n",
       "      <th>River Width</th>\n",
       "      <th>Discharge</th>\n",
       "      <th>Max. Depth</th>\n",
       "      <th>Lake Area</th>\n",
       "      <th>Lake Volume</th>\n",
       "      <th>Average Retention</th>\n",
       "      <th>Area of Aquifer</th>\n",
       "      <th>Depth of Impermeable Lining</th>\n",
       "      <th>Production Zone</th>\n",
       "      <th>Mean Abstraction Rate</th>\n",
       "      <th>Mean Abstraction Level</th>\n",
       "    </tr>\n",
       "  </thead>\n",
       "  <tbody>\n",
       "    <tr>\n",
       "      <th>count</th>\n",
       "      <td>1.0</td>\n",
       "      <td>1.0</td>\n",
       "      <td>0.0</td>\n",
       "      <td>0.0</td>\n",
       "      <td>1.0</td>\n",
       "      <td>1.0000</td>\n",
       "      <td>1.000000</td>\n",
       "      <td>0.0</td>\n",
       "      <td>0.0</td>\n",
       "      <td>0.0</td>\n",
       "      <td>0.0</td>\n",
       "      <td>0.0</td>\n",
       "      <td>0.0</td>\n",
       "      <td>0.0</td>\n",
       "      <td>0.0</td>\n",
       "      <td>0.0</td>\n",
       "      <td>0.0</td>\n",
       "      <td>0.0</td>\n",
       "    </tr>\n",
       "    <tr>\n",
       "      <th>mean</th>\n",
       "      <td>38003.0</td>\n",
       "      <td>101770.0</td>\n",
       "      <td>NaN</td>\n",
       "      <td>NaN</td>\n",
       "      <td>1004.0</td>\n",
       "      <td>-28.7115</td>\n",
       "      <td>24.072889</td>\n",
       "      <td>NaN</td>\n",
       "      <td>NaN</td>\n",
       "      <td>NaN</td>\n",
       "      <td>NaN</td>\n",
       "      <td>NaN</td>\n",
       "      <td>NaN</td>\n",
       "      <td>NaN</td>\n",
       "      <td>NaN</td>\n",
       "      <td>NaN</td>\n",
       "      <td>NaN</td>\n",
       "      <td>NaN</td>\n",
       "    </tr>\n",
       "    <tr>\n",
       "      <th>std</th>\n",
       "      <td>NaN</td>\n",
       "      <td>NaN</td>\n",
       "      <td>NaN</td>\n",
       "      <td>NaN</td>\n",
       "      <td>NaN</td>\n",
       "      <td>NaN</td>\n",
       "      <td>NaN</td>\n",
       "      <td>NaN</td>\n",
       "      <td>NaN</td>\n",
       "      <td>NaN</td>\n",
       "      <td>NaN</td>\n",
       "      <td>NaN</td>\n",
       "      <td>NaN</td>\n",
       "      <td>NaN</td>\n",
       "      <td>NaN</td>\n",
       "      <td>NaN</td>\n",
       "      <td>NaN</td>\n",
       "      <td>NaN</td>\n",
       "    </tr>\n",
       "    <tr>\n",
       "      <th>min</th>\n",
       "      <td>38003.0</td>\n",
       "      <td>101770.0</td>\n",
       "      <td>NaN</td>\n",
       "      <td>NaN</td>\n",
       "      <td>1004.0</td>\n",
       "      <td>-28.7115</td>\n",
       "      <td>24.072889</td>\n",
       "      <td>NaN</td>\n",
       "      <td>NaN</td>\n",
       "      <td>NaN</td>\n",
       "      <td>NaN</td>\n",
       "      <td>NaN</td>\n",
       "      <td>NaN</td>\n",
       "      <td>NaN</td>\n",
       "      <td>NaN</td>\n",
       "      <td>NaN</td>\n",
       "      <td>NaN</td>\n",
       "      <td>NaN</td>\n",
       "    </tr>\n",
       "    <tr>\n",
       "      <th>25%</th>\n",
       "      <td>38003.0</td>\n",
       "      <td>101770.0</td>\n",
       "      <td>NaN</td>\n",
       "      <td>NaN</td>\n",
       "      <td>1004.0</td>\n",
       "      <td>-28.7115</td>\n",
       "      <td>24.072889</td>\n",
       "      <td>NaN</td>\n",
       "      <td>NaN</td>\n",
       "      <td>NaN</td>\n",
       "      <td>NaN</td>\n",
       "      <td>NaN</td>\n",
       "      <td>NaN</td>\n",
       "      <td>NaN</td>\n",
       "      <td>NaN</td>\n",
       "      <td>NaN</td>\n",
       "      <td>NaN</td>\n",
       "      <td>NaN</td>\n",
       "    </tr>\n",
       "    <tr>\n",
       "      <th>50%</th>\n",
       "      <td>38003.0</td>\n",
       "      <td>101770.0</td>\n",
       "      <td>NaN</td>\n",
       "      <td>NaN</td>\n",
       "      <td>1004.0</td>\n",
       "      <td>-28.7115</td>\n",
       "      <td>24.072889</td>\n",
       "      <td>NaN</td>\n",
       "      <td>NaN</td>\n",
       "      <td>NaN</td>\n",
       "      <td>NaN</td>\n",
       "      <td>NaN</td>\n",
       "      <td>NaN</td>\n",
       "      <td>NaN</td>\n",
       "      <td>NaN</td>\n",
       "      <td>NaN</td>\n",
       "      <td>NaN</td>\n",
       "      <td>NaN</td>\n",
       "    </tr>\n",
       "    <tr>\n",
       "      <th>75%</th>\n",
       "      <td>38003.0</td>\n",
       "      <td>101770.0</td>\n",
       "      <td>NaN</td>\n",
       "      <td>NaN</td>\n",
       "      <td>1004.0</td>\n",
       "      <td>-28.7115</td>\n",
       "      <td>24.072889</td>\n",
       "      <td>NaN</td>\n",
       "      <td>NaN</td>\n",
       "      <td>NaN</td>\n",
       "      <td>NaN</td>\n",
       "      <td>NaN</td>\n",
       "      <td>NaN</td>\n",
       "      <td>NaN</td>\n",
       "      <td>NaN</td>\n",
       "      <td>NaN</td>\n",
       "      <td>NaN</td>\n",
       "      <td>NaN</td>\n",
       "    </tr>\n",
       "    <tr>\n",
       "      <th>max</th>\n",
       "      <td>38003.0</td>\n",
       "      <td>101770.0</td>\n",
       "      <td>NaN</td>\n",
       "      <td>NaN</td>\n",
       "      <td>1004.0</td>\n",
       "      <td>-28.7115</td>\n",
       "      <td>24.072889</td>\n",
       "      <td>NaN</td>\n",
       "      <td>NaN</td>\n",
       "      <td>NaN</td>\n",
       "      <td>NaN</td>\n",
       "      <td>NaN</td>\n",
       "      <td>NaN</td>\n",
       "      <td>NaN</td>\n",
       "      <td>NaN</td>\n",
       "      <td>NaN</td>\n",
       "      <td>NaN</td>\n",
       "      <td>NaN</td>\n",
       "    </tr>\n",
       "  </tbody>\n",
       "</table>\n",
       "</div>"
      ],
      "text/plain": [
       "       Historical GEMS Number  Local Station Number  Water Body Name  \\\n",
       "count                     1.0                   1.0              0.0   \n",
       "mean                  38003.0              101770.0              NaN   \n",
       "std                       NaN                   NaN              NaN   \n",
       "min                   38003.0              101770.0              NaN   \n",
       "25%                   38003.0              101770.0              NaN   \n",
       "50%                   38003.0              101770.0              NaN   \n",
       "75%                   38003.0              101770.0              NaN   \n",
       "max                   38003.0              101770.0              NaN   \n",
       "\n",
       "       Upstream Basin Area  Elevation  Latitude  Longitude  River Width  \\\n",
       "count                  0.0        1.0    1.0000   1.000000          0.0   \n",
       "mean                   NaN     1004.0  -28.7115  24.072889          NaN   \n",
       "std                    NaN        NaN       NaN        NaN          NaN   \n",
       "min                    NaN     1004.0  -28.7115  24.072889          NaN   \n",
       "25%                    NaN     1004.0  -28.7115  24.072889          NaN   \n",
       "50%                    NaN     1004.0  -28.7115  24.072889          NaN   \n",
       "75%                    NaN     1004.0  -28.7115  24.072889          NaN   \n",
       "max                    NaN     1004.0  -28.7115  24.072889          NaN   \n",
       "\n",
       "       Discharge  Max. Depth  Lake Area  Lake Volume  Average Retention  \\\n",
       "count        0.0         0.0        0.0          0.0                0.0   \n",
       "mean         NaN         NaN        NaN          NaN                NaN   \n",
       "std          NaN         NaN        NaN          NaN                NaN   \n",
       "min          NaN         NaN        NaN          NaN                NaN   \n",
       "25%          NaN         NaN        NaN          NaN                NaN   \n",
       "50%          NaN         NaN        NaN          NaN                NaN   \n",
       "75%          NaN         NaN        NaN          NaN                NaN   \n",
       "max          NaN         NaN        NaN          NaN                NaN   \n",
       "\n",
       "       Area of Aquifer  Depth of Impermeable Lining  Production Zone  \\\n",
       "count              0.0                          0.0              0.0   \n",
       "mean               NaN                          NaN              NaN   \n",
       "std                NaN                          NaN              NaN   \n",
       "min                NaN                          NaN              NaN   \n",
       "25%                NaN                          NaN              NaN   \n",
       "50%                NaN                          NaN              NaN   \n",
       "75%                NaN                          NaN              NaN   \n",
       "max                NaN                          NaN              NaN   \n",
       "\n",
       "       Mean Abstraction Rate  Mean Abstraction Level  \n",
       "count                    0.0                     0.0  \n",
       "mean                     NaN                     NaN  \n",
       "std                      NaN                     NaN  \n",
       "min                      NaN                     NaN  \n",
       "25%                      NaN                     NaN  \n",
       "50%                      NaN                     NaN  \n",
       "75%                      NaN                     NaN  \n",
       "max                      NaN                     NaN  "
      ]
     },
     "execution_count": 15,
     "metadata": {},
     "output_type": "execute_result"
    }
   ],
   "source": [
    "data.describe()"
   ]
  },
  {
   "cell_type": "code",
   "execution_count": 16,
   "id": "36579667",
   "metadata": {},
   "outputs": [
    {
     "data": {
      "text/plain": [
       "GEMS Station Number              0\n",
       "Historical GEMS Number           0\n",
       "Local Station Number             0\n",
       "Country Name                     0\n",
       "Water Type                       0\n",
       "Station Identifier               0\n",
       "Station Narrative                0\n",
       "Water Body Name                  1\n",
       "Main Basin                       0\n",
       "Upstream Basin Area              1\n",
       "Elevation                        0\n",
       "Monitoring Type                  0\n",
       "Date Station Opened              0\n",
       "Responsible Collection Agency    0\n",
       "Latitude                         0\n",
       "Longitude                        0\n",
       "River Width                      1\n",
       "Discharge                        1\n",
       "Max. Depth                       1\n",
       "Lake Area                        1\n",
       "Lake Volume                      1\n",
       "Average Retention                1\n",
       "Area of Aquifer                  1\n",
       "Depth of Impermeable Lining      1\n",
       "Production Zone                  1\n",
       "Mean Abstraction Rate            1\n",
       "Mean Abstraction Level           1\n",
       "dtype: int64"
      ]
     },
     "execution_count": 16,
     "metadata": {},
     "output_type": "execute_result"
    }
   ],
   "source": [
    "data = data.fillna(data.median())\n",
    "data.isnull().sum()"
   ]
  },
  {
   "cell_type": "code",
   "execution_count": 24,
   "id": "baf8d8cd",
   "metadata": {},
   "outputs": [
    {
     "data": {
      "image/png": "[encoded data removed]",
      "text/plain": [
       "<Figure size 1080x720 with 50 Axes>"
      ]
     },
     "metadata": {
      "needs_background": "light"
     },
     "output_type": "display_data"
    }
   ],
   "source": [
    "data.plot(kind='box', subplots=True, layout=(10,5),\n",
    "         sharex=False, sharey=False, figsize=(15,10),\n",
    "         color='deeppink');"
   ]
  },
  {
   "cell_type": "code",
   "execution_count": 22,
   "id": "95c0695c",
   "metadata": {},
   "outputs": [
    {
     "data": {
      "text/plain": [
       "<AxesSubplot:xlabel='Water Type', ylabel='Discharge'>"
      ]
     },
     "execution_count": 22,
     "metadata": {},
     "output_type": "execute_result"
    },
    {
     "data": {
      "image/png": "[encoded data removed]",
      "text/plain": [
       "<Figure size 432x288 with 1 Axes>"
      ]
     },
     "metadata": {
      "needs_background": "light"
     },
     "output_type": "display_data"
    }
   ],
   "source": [
    "sns.boxplot(x='Water Type', y= 'Discharge', data = data)"
   ]
  },
  {
   "cell_type": "code",
   "execution_count": null,
   "id": "dc876204",
   "metadata": {},
   "outputs": [],
   "source": []
  }
 ],
 "metadata": {
  "kernelspec": {
   "display_name": "Python 3",
   "language": "python",
   "name": "python3"
  },
  "language_info": {
   "codemirror_mode": {
    "name": "ipython",
    "version": 3
   },
   "file_extension": ".py",
   "mimetype": "text/x-python",
   "name": "python",
   "nbconvert_exporter": "python",
   "pygments_lexer": "ipython3",
   "version": "3.8.8"
  }
 },
 "nbformat": 4,
 "nbformat_minor": 5
}
