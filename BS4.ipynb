{
 "cells": [
  {
   "cell_type": "markdown",
   "id": "2180ce3b",
   "metadata": {},
   "source": [
    "* String are immutable\n",
    "* string is ordered data structure- indexing and slicing"
   ]
  },
  {
   "cell_type": "code",
   "execution_count": 1,
   "id": "d66c1e3f",
   "metadata": {},
   "outputs": [
    {
     "name": "stdout",
     "output_type": "stream",
     "text": [
      "<class 'str'> 1807410508704\n"
     ]
    }
   ],
   "source": [
    "s = 'Python sample string'\n",
    "print(type(s), id(s))"
   ]
  },
  {
   "cell_type": "markdown",
   "id": "5355644c",
   "metadata": {},
   "source": [
    "* index starts from right to left\n",
    "* and can also be done from left to right\n",
    "\n",
    "\n",
    "given the  above problem lets find the index of each\n",
    "by starting from left to right remember initial is [0]"
   ]
  },
  {
   "cell_type": "code",
   "execution_count": 2,
   "id": "c91afb28",
   "metadata": {},
   "outputs": [
    {
     "name": "stdout",
     "output_type": "stream",
     "text": [
      "P\n"
     ]
    }
   ],
   "source": [
    "print(s[0])"
   ]
  },
  {
   "cell_type": "code",
   "execution_count": 3,
   "id": "e7cbac2a",
   "metadata": {},
   "outputs": [
    {
     "name": "stdout",
     "output_type": "stream",
     "text": [
      "h\n"
     ]
    }
   ],
   "source": [
    "print(s[3])"
   ]
  },
  {
   "cell_type": "markdown",
   "id": "68cca11d",
   "metadata": {},
   "source": [
    "now lets try to find the index of from right to the left"
   ]
  },
  {
   "cell_type": "code",
   "execution_count": 4,
   "id": "d8ec3141",
   "metadata": {},
   "outputs": [
    {
     "name": "stdout",
     "output_type": "stream",
     "text": [
      "g\n"
     ]
    }
   ],
   "source": [
    "print(s[-1])"
   ]
  },
  {
   "cell_type": "code",
   "execution_count": 5,
   "id": "862c4ba7",
   "metadata": {},
   "outputs": [
    {
     "name": "stdout",
     "output_type": "stream",
     "text": [
      "n\n"
     ]
    }
   ],
   "source": [
    "print(s[-2])"
   ]
  },
  {
   "cell_type": "code",
   "execution_count": 6,
   "id": "183217bc",
   "metadata": {},
   "outputs": [
    {
     "name": "stdout",
     "output_type": "stream",
     "text": [
      "s\n"
     ]
    }
   ],
   "source": [
    "print(s[7])"
   ]
  },
  {
   "cell_type": "markdown",
   "id": "ff6b02bb",
   "metadata": {},
   "source": [
    "## Slicing"
   ]
  },
  {
   "cell_type": "markdown",
   "id": "b44d3809",
   "metadata": {},
   "source": [
    "Python slicing is about obtaining a sub-string from the given string by slicing it respectively from start to end.\n",
    "* Python slicing can be done in two ways.\n",
    "\n",
    "* slice() Constructor\n",
    "* Extending Indexing\n",
    "\n",
    "Syntax:\n",
    "\n",
    "* string[start:end:step]\n",
    "\n",
    "learn more @ https://www.geeksforgeeks.org/string-slicing-in-python/\n",
    "\n",
    "you can also try this here https://www.pythonforbeginners.com/dictionary/python-slicing\n",
    "\n",
    "now suppose I wanna output only  Python what do I do?\n",
    "* first count the elements \n",
    "* remember initial is [0] in slicing we use  this ':' to slice"
   ]
  },
  {
   "cell_type": "code",
   "execution_count": 7,
   "id": "842c9acc",
   "metadata": {},
   "outputs": [
    {
     "name": "stdout",
     "output_type": "stream",
     "text": [
      "Pytho\n"
     ]
    }
   ],
   "source": [
    "print(s[0:5])"
   ]
  },
  {
   "cell_type": "code",
   "execution_count": 8,
   "id": "081f3d75",
   "metadata": {},
   "outputs": [
    {
     "name": "stdout",
     "output_type": "stream",
     "text": [
      "Python\n"
     ]
    }
   ],
   "source": [
    "print(s[0:6])"
   ]
  },
  {
   "cell_type": "markdown",
   "id": "0c4ad11a",
   "metadata": {},
   "source": [
    "Suppose I wanna output the remaining sample \n",
    "'sample string'"
   ]
  },
  {
   "cell_type": "code",
   "execution_count": 9,
   "id": "28eee9b2",
   "metadata": {},
   "outputs": [
    {
     "name": "stdout",
     "output_type": "stream",
     "text": [
      "sample string\n"
     ]
    }
   ],
   "source": [
    "print(s[7:])"
   ]
  },
  {
   "cell_type": "code",
   "execution_count": 12,
   "id": "ef26f7b0",
   "metadata": {},
   "outputs": [
    {
     "name": "stdout",
     "output_type": "stream",
     "text": [
      "Python\n"
     ]
    }
   ],
   "source": [
    "print(s[:6]) #similarly"
   ]
  },
  {
   "cell_type": "markdown",
   "id": "adf13a72",
   "metadata": {},
   "source": [
    "Stride\n",
    "\n",
    "learn more herre https://scipython.com/book/chapter-2-the-core-python-language-i/examples/string-striding/"
   ]
  },
  {
   "cell_type": "markdown",
   "id": "661ac55a",
   "metadata": {},
   "source": [
    "Basicallly what happens below is that this ::2 code prints only the 2nd character of the string"
   ]
  },
  {
   "cell_type": "code",
   "execution_count": 14,
   "id": "d187c973",
   "metadata": {},
   "outputs": [
    {
     "name": "stdout",
     "output_type": "stream",
     "text": [
      "Pto apesrn\n"
     ]
    }
   ],
   "source": [
    "print(s[::2])"
   ]
  },
  {
   "cell_type": "code",
   "execution_count": 15,
   "id": "2acb1570",
   "metadata": {},
   "outputs": [
    {
     "name": "stdout",
     "output_type": "stream",
     "text": [
      "Ph metn\n"
     ]
    }
   ],
   "source": [
    "#lets print 3rd character of each word in the string s\n",
    "print(s[::3])"
   ]
  },
  {
   "cell_type": "code",
   "execution_count": 16,
   "id": "425b0e54",
   "metadata": {},
   "outputs": [
    {
     "name": "stdout",
     "output_type": "stream",
     "text": [
      "gnirts elpmas nohtyP\n"
     ]
    }
   ],
   "source": [
    "print(s[::-1])#print it in reverse order"
   ]
  },
  {
   "cell_type": "code",
   "execution_count": 17,
   "id": "dbb5603b",
   "metadata": {},
   "outputs": [
    {
     "name": "stdout",
     "output_type": "stream",
     "text": [
      "git lmsnhy\n"
     ]
    }
   ],
   "source": [
    "print(s[::-2])# prints every second char but from right to left"
   ]
  },
  {
   "cell_type": "code",
   "execution_count": 18,
   "id": "d8c50ffb",
   "metadata": {},
   "outputs": [
    {
     "name": "stdout",
     "output_type": "stream",
     "text": [
      "\n"
     ]
    }
   ],
   "source": [
    "print(s[6:0]) #it will print nothing because it does not start from 6 it starts from"
   ]
  },
  {
   "cell_type": "code",
   "execution_count": 19,
   "id": "b432efe7",
   "metadata": {},
   "outputs": [
    {
     "name": "stdout",
     "output_type": "stream",
     "text": [
      "P\n",
      "y\n",
      "t\n",
      "h\n",
      "o\n",
      "n\n",
      " \n",
      "s\n",
      "a\n",
      "m\n",
      "p\n",
      "l\n",
      "e\n",
      " \n",
      "s\n",
      "t\n",
      "r\n",
      "i\n",
      "n\n",
      "g\n"
     ]
    }
   ],
   "source": [
    "for x in s:\n",
    "    print(x)"
   ]
  },
  {
   "cell_type": "code",
   "execution_count": 21,
   "id": "5340cff9",
   "metadata": {},
   "outputs": [
    {
     "name": "stdout",
     "output_type": "stream",
     "text": [
      "P\n",
      "t\n",
      "o\n",
      " \n",
      "a\n",
      "p\n",
      "e\n",
      "s\n",
      "r\n",
      "n\n"
     ]
    }
   ],
   "source": [
    "for x in s[::2]:#iterating by printing the 2nd char\n",
    "    print(x)"
   ]
  },
  {
   "cell_type": "code",
   "execution_count": null,
   "id": "af951f00",
   "metadata": {},
   "outputs": [],
   "source": []
  }
 ],
 "metadata": {
  "kernelspec": {
   "display_name": "Python 3",
   "language": "python",
   "name": "python3"
  },
  "language_info": {
   "codemirror_mode": {
    "name": "ipython",
    "version": 3
   },
   "file_extension": ".py",
   "mimetype": "text/x-python",
   "name": "python",
   "nbconvert_exporter": "python",
   "pygments_lexer": "ipython3",
   "version": "3.8.8"
  }
 },
 "nbformat": 4,
 "nbformat_minor": 5
}
