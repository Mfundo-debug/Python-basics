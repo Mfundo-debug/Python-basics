{
 "cells": [
  {
   "cell_type": "code",
   "execution_count": 1,
   "id": "ac32e21f",
   "metadata": {},
   "outputs": [
    {
     "name": "stdout",
     "output_type": "stream",
     "text": [
      "value of p is 5 value of r  is 3\n"
     ]
    }
   ],
   "source": [
    "p = 5\n",
    "r = 3\n",
    "print('value of p is {} value of r  is {}'.format(p,r))"
   ]
  },
  {
   "cell_type": "code",
   "execution_count": 2,
   "id": "788f6a30",
   "metadata": {},
   "outputs": [
    {
     "name": "stdout",
     "output_type": "stream",
     "text": [
      "value of p is 3 value of r is 5\n"
     ]
    }
   ],
   "source": [
    "#interchange\n",
    "print('value of p is {1} value of r is {0}'.format(p,r))"
   ]
  },
  {
   "cell_type": "code",
   "execution_count": 3,
   "id": "c0d52424",
   "metadata": {},
   "outputs": [
    {
     "name": "stdout",
     "output_type": "stream",
     "text": [
      " big data foundations\n"
     ]
    }
   ],
   "source": [
    "s =\" Big data foundations\"\n",
    "s1 = s.capitalize()\n",
    "print(s1)"
   ]
  },
  {
   "cell_type": "code",
   "execution_count": 4,
   "id": "0372e694",
   "metadata": {},
   "outputs": [
    {
     "name": "stdout",
     "output_type": "stream",
     "text": [
      " BIG DATA FOUNDATIONS\n"
     ]
    }
   ],
   "source": [
    "print(s.upper())"
   ]
  },
  {
   "cell_type": "code",
   "execution_count": 5,
   "id": "6cb5c3e5",
   "metadata": {},
   "outputs": [
    {
     "name": "stdout",
     "output_type": "stream",
     "text": [
      " big data foundations\n"
     ]
    }
   ],
   "source": [
    "print(s.lower())"
   ]
  },
  {
   "cell_type": "code",
   "execution_count": 6,
   "id": "e6b44826",
   "metadata": {},
   "outputs": [
    {
     "name": "stdout",
     "output_type": "stream",
     "text": [
      " Big Data Foundations\n"
     ]
    }
   ],
   "source": [
    "# first letters of each to capitalized\n",
    "print(s.title())"
   ]
  },
  {
   "cell_type": "code",
   "execution_count": 7,
   "id": "e117d2b1",
   "metadata": {},
   "outputs": [
    {
     "name": "stdout",
     "output_type": "stream",
     "text": [
      "False\n"
     ]
    }
   ],
   "source": [
    "# apply boolean tocheck whether true or false of each condition\n",
    "print(s1.isupper())# checks if string s1 os capitalized if it is then it will return false\n"
   ]
  },
  {
   "cell_type": "code",
   "execution_count": 8,
   "id": "e0a5b373",
   "metadata": {},
   "outputs": [
    {
     "name": "stdout",
     "output_type": "stream",
     "text": [
      "True\n"
     ]
    }
   ],
   "source": [
    "print(s1.islower())"
   ]
  },
  {
   "cell_type": "code",
   "execution_count": 9,
   "id": "e19e56ed",
   "metadata": {},
   "outputs": [
    {
     "name": "stdout",
     "output_type": "stream",
     "text": [
      "['Virtualization', ' abstraction', ' uncertainty', ' clouds']\n"
     ]
    }
   ],
   "source": [
    "S = \"Virtualization, abstraction, uncertainty, clouds\"\n",
    "l = S.split(',')\n",
    "print(l)"
   ]
  },
  {
   "cell_type": "code",
   "execution_count": 10,
   "id": "478da61c",
   "metadata": {},
   "outputs": [
    {
     "name": "stdout",
     "output_type": "stream",
     "text": [
      "Virtualization abstraction uncertainty clouds\n"
     ]
    }
   ],
   "source": [
    "#iif you wanna join them we use join function\n",
    "W = ('').join(l)\n",
    "print(W)"
   ]
  },
  {
   "cell_type": "code",
   "execution_count": 11,
   "id": "796c8eeb",
   "metadata": {},
   "outputs": [
    {
     "name": "stdout",
     "output_type": "stream",
     "text": [
      "Virtualization, abstraction, uncertainty, clouds\n"
     ]
    }
   ],
   "source": [
    "W = (',').join(l)\n",
    "print(W)"
   ]
  },
  {
   "cell_type": "markdown",
   "id": "0f8eed8d",
   "metadata": {},
   "source": [
    "# suppose we form two strings and we want whatever that is aligned to w1  to replace in w2\n",
    "# in sample terms since a =1, b=2,c=3, d =4\n",
    "## use (maketrans) and (translate) functions to implement the above\n",
    "\n",
    "## given that w1 = 'a,b,c,d'\n",
    "## given that w2 = '1,2,3,4'\n",
    "# w3 = 'big data chapter five and 6'\n",
    "\n",
    "# time starts now 18:24\n",
    "\n",
    "# output: 2ig 41t1 3h1pter five 1n4 6"
   ]
  },
  {
   "cell_type": "code",
   "execution_count": 12,
   "id": "8b8bdf94",
   "metadata": {},
   "outputs": [
    {
     "name": "stdout",
     "output_type": "stream",
     "text": [
      "big data chapter 5 and 6\n",
      "2ig 41t1  3h1pter 5 1n4 6\n"
     ]
    }
   ],
   "source": [
    "w1 = 'a,b,c,d'\n",
    "w2= '1,2,3,4'\n",
    "w3= 'big data  chapter 5 and 6'\n",
    "table = w3.maketrans(w1, w2)\n",
    "print('big data chapter 5 and 6')\n",
    "print((w3.translate(table)))"
   ]
  },
  {
   "cell_type": "markdown",
   "id": "30c09475",
   "metadata": {},
   "source": [
    "# find if word exist in T and the print the index of that word\n",
    "#  T = 'ICT,BSC,Page64,Page66'\n",
    "\n",
    "# Page64\n",
    "\n",
    "## submission  18:38pm"
   ]
  },
  {
   "cell_type": "code",
   "execution_count": 13,
   "id": "7eb49cfc",
   "metadata": {},
   "outputs": [
    {
     "name": "stdout",
     "output_type": "stream",
     "text": [
      "True\n",
      "8\n"
     ]
    }
   ],
   "source": [
    "T = 'ICT,BSC,Page64,Page66'\n",
    "\n",
    "print('Page64' in T)\n",
    "print(T.index('Page64'))"
   ]
  },
  {
   "cell_type": "code",
   "execution_count": 14,
   "id": "7eaa6546",
   "metadata": {},
   "outputs": [
    {
     "name": "stdout",
     "output_type": "stream",
     "text": [
      "8\n"
     ]
    }
   ],
   "source": [
    "print(T.find('Page64'))"
   ]
  },
  {
   "cell_type": "code",
   "execution_count": 16,
   "id": "d9c27b31",
   "metadata": {},
   "outputs": [
    {
     "name": "stdout",
     "output_type": "stream",
     "text": [
      "uncertainty in big data\n"
     ]
    }
   ],
   "source": [
    "t = \"    uncertainty in big data   \"\n",
    "t1 = t.strip(\" \")# gets rid of spaces\n",
    "print(t1)"
   ]
  },
  {
   "cell_type": "code",
   "execution_count": 17,
   "id": "a82daaaa",
   "metadata": {},
   "outputs": [
    {
     "name": "stdout",
     "output_type": "stream",
     "text": [
      "challenges in virtualization\n"
     ]
    }
   ],
   "source": [
    "t_star = \"*** challenges in virtualization   ***\"\n",
    "t2 = t_star.strip(\" * \") #get rid of ***\n",
    "print(t2)"
   ]
  },
  {
   "cell_type": "markdown",
   "id": "df85d29a",
   "metadata": {},
   "source": [
    "# write a code thats gets rid of starts only from the right hand side\n",
    "## t_r = \" ** the need of server virtualization when doing data analysis **\"\n"
   ]
  },
  {
   "cell_type": "code",
   "execution_count": 19,
   "id": "557d7a65",
   "metadata": {},
   "outputs": [
    {
     "name": "stdout",
     "output_type": "stream",
     "text": [
      "** the need of  bla bla bla \n"
     ]
    }
   ],
   "source": [
    "t_r = \"** the need of  bla bla bla **\"\n",
    "t3 = t_r.rstrip(\"*\")\n",
    "print(t3)"
   ]
  },
  {
   "cell_type": "code",
   "execution_count": 20,
   "id": "0eabfcb7",
   "metadata": {},
   "outputs": [
    {
     "name": "stdout",
     "output_type": "stream",
     "text": [
      "**Page68**\n"
     ]
    }
   ],
   "source": [
    "T = \"Page68\"\n",
    "t_c = T.center(10,'*')# adds *s and keeps Page 68 in the center\n",
    "print(t_c)"
   ]
  },
  {
   "cell_type": "code",
   "execution_count": null,
   "id": "1cadcac6",
   "metadata": {},
   "outputs": [],
   "source": []
  }
 ],
 "metadata": {
  "kernelspec": {
   "display_name": "Python 3",
   "language": "python",
   "name": "python3"
  },
  "language_info": {
   "codemirror_mode": {
    "name": "ipython",
    "version": 3
   },
   "file_extension": ".py",
   "mimetype": "text/x-python",
   "name": "python",
   "nbconvert_exporter": "python",
   "pygments_lexer": "ipython3",
   "version": "3.8.8"
  }
 },
 "nbformat": 4,
 "nbformat_minor": 5
}
