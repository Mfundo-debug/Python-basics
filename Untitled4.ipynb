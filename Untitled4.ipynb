{
 "cells": [
  {
   "cell_type": "code",
   "execution_count": 1,
   "id": "80be0a30",
   "metadata": {},
   "outputs": [
    {
     "name": "stdout",
     "output_type": "stream",
     "text": [
      "Collecting empyrical-dist\n",
      "  Downloading empyrical_dist-0.2.0.tar.gz (6.8 kB)\n",
      "Building wheels for collected packages: empyrical-dist\n",
      "  Building wheel for empyrical-dist (setup.py): started\n",
      "  Building wheel for empyrical-dist (setup.py): finished with status 'done'\n",
      "  Created wheel for empyrical-dist: filename=empyrical_dist-0.2.0-py3-none-any.whl size=8079 sha256=8a322eefe3a848c293186ed54d1ba0b33cac2cd209804b9e9142a3436cda53e7\n",
      "  Stored in directory: c:\\users\\mfund\\appdata\\local\\pip\\cache\\wheels\\68\\9c\\42\\bd4079886bc7d72d70437f36d7a157973331bd8f670c1ee3e7\n",
      "Successfully built empyrical-dist\n",
      "Installing collected packages: empyrical-dist\n",
      "Successfully installed empyrical-dist-0.2.0\n"
     ]
    }
   ],
   "source": [
    "!pip install empyrical-dist"
   ]
  },
  {
   "cell_type": "code",
   "execution_count": null,
   "id": "63b5726d",
   "metadata": {},
   "outputs": [],
   "source": []
  }
 ],
 "metadata": {
  "kernelspec": {
   "display_name": "Python 3",
   "language": "python",
   "name": "python3"
  },
  "language_info": {
   "codemirror_mode": {
    "name": "ipython",
    "version": 3
   },
   "file_extension": ".py",
   "mimetype": "text/x-python",
   "name": "python",
   "nbconvert_exporter": "python",
   "pygments_lexer": "ipython3",
   "version": "3.8.8"
  }
 },
 "nbformat": 4,
 "nbformat_minor": 5
}
