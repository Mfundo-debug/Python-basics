{
 "cells": [
  {
   "cell_type": "markdown",
   "id": "ca18933c",
   "metadata": {},
   "source": [
    "# Set  Data Type| Add-Update-Delete Operation\n",
    "\n",
    "* Sets are mutable\n",
    "* all elements should be unique in the set\n",
    "* ( int, tuple, float, str)\n",
    "* Undordered"
   ]
  },
  {
   "cell_type": "code",
   "execution_count": 2,
   "id": "161cabcf",
   "metadata": {},
   "outputs": [
    {
     "name": "stdout",
     "output_type": "stream",
     "text": [
      "{40, 10, 20, 30} <class 'set'>\n"
     ]
    }
   ],
   "source": [
    "s = {10,20,30, 40}\n",
    "print(s,type(s))"
   ]
  },
  {
   "cell_type": "code",
   "execution_count": 3,
   "id": "1ff72356",
   "metadata": {},
   "outputs": [],
   "source": [
    "s.add(50)\n"
   ]
  },
  {
   "cell_type": "code",
   "execution_count": 4,
   "id": "5ab04abb",
   "metadata": {},
   "outputs": [
    {
     "data": {
      "text/plain": [
       "{10, 20, 30, 40, 50}"
      ]
     },
     "execution_count": 4,
     "metadata": {},
     "output_type": "execute_result"
    }
   ],
   "source": [
    "s"
   ]
  },
  {
   "cell_type": "code",
   "execution_count": 5,
   "id": "218d5864",
   "metadata": {},
   "outputs": [],
   "source": [
    "s1 = {1,2,3,4,5}\n",
    "s2 = {6,7,8,9,10}"
   ]
  },
  {
   "cell_type": "markdown",
   "id": "242986ae",
   "metadata": {},
   "source": [
    "# Union  (everything that inside set s1 and s2)\n",
    "# intersection ( whats in set 1 is also in  set2)\n",
    "# difference (what appears in set1 but not in set 2, or  in set2 but does not appear in set 1)"
   ]
  },
  {
   "cell_type": "code",
   "execution_count": 6,
   "id": "588dcae1",
   "metadata": {},
   "outputs": [
    {
     "name": "stdout",
     "output_type": "stream",
     "text": [
      "{1, 2, 3, 4, 5, 6, 7, 8, 9, 10}\n"
     ]
    }
   ],
   "source": [
    "s3 = s1.union(s2)\n",
    "print(s3)"
   ]
  },
  {
   "cell_type": "code",
   "execution_count": 7,
   "id": "0f510503",
   "metadata": {},
   "outputs": [
    {
     "data": {
      "text/plain": [
       "set()"
      ]
     },
     "execution_count": 7,
     "metadata": {},
     "output_type": "execute_result"
    }
   ],
   "source": [
    "s4 = s1.intersection(s2)\n",
    "s4"
   ]
  },
  {
   "cell_type": "code",
   "execution_count": 8,
   "id": "12e94d1f",
   "metadata": {},
   "outputs": [
    {
     "data": {
      "text/plain": [
       "{2, 3, 4, 5}"
      ]
     },
     "execution_count": 8,
     "metadata": {},
     "output_type": "execute_result"
    }
   ],
   "source": [
    "r = {2,2,3,4,5}\n",
    "p = {1,2,3,4,5}\n",
    "rp = r.intersection(p)\n",
    "rp"
   ]
  },
  {
   "cell_type": "code",
   "execution_count": 9,
   "id": "62c153ff",
   "metadata": {},
   "outputs": [
    {
     "data": {
      "text/plain": [
       "{1, 2, 3, 4, 5}"
      ]
     },
     "execution_count": 9,
     "metadata": {},
     "output_type": "execute_result"
    }
   ],
   "source": [
    "sd = s1.difference(s2)\n",
    "sd"
   ]
  },
  {
   "cell_type": "code",
   "execution_count": 10,
   "id": "7594e76c",
   "metadata": {},
   "outputs": [
    {
     "data": {
      "text/plain": [
       "{6, 7, 8, 9, 10}"
      ]
     },
     "execution_count": 10,
     "metadata": {},
     "output_type": "execute_result"
    }
   ],
   "source": [
    "sd2 = s2.difference(s1)\n",
    "sd2"
   ]
  },
  {
   "cell_type": "code",
   "execution_count": 11,
   "id": "63dc4b30",
   "metadata": {},
   "outputs": [
    {
     "name": "stdout",
     "output_type": "stream",
     "text": [
      "sd {1, 2, 3, 4, 5} sd2 {6, 7, 8, 9, 10}\n"
     ]
    }
   ],
   "source": [
    "print('sd', sd, 'sd2', sd2)"
   ]
  },
  {
   "cell_type": "code",
   "execution_count": 12,
   "id": "c7a4d690",
   "metadata": {},
   "outputs": [
    {
     "name": "stdout",
     "output_type": "stream",
     "text": [
      "sets of t {3, 5}\n"
     ]
    }
   ],
   "source": [
    "t = {1,2,3,5}\n",
    "p = {1,2,7,9}\n",
    "sd = t.difference(p)\n",
    "print('sets of t', sd)"
   ]
  },
  {
   "cell_type": "code",
   "execution_count": 13,
   "id": "d9a80b77",
   "metadata": {},
   "outputs": [
    {
     "name": "stdout",
     "output_type": "stream",
     "text": [
      "sets of p {9, 7}\n"
     ]
    }
   ],
   "source": [
    "sd2 = p.difference(t)\n",
    "print('sets of p',sd2)"
   ]
  },
  {
   "cell_type": "code",
   "execution_count": 14,
   "id": "6c5a79fa",
   "metadata": {},
   "outputs": [
    {
     "ename": "AttributeError",
     "evalue": "'set' object has no attribute 'symmteric_difference'",
     "output_type": "error",
     "traceback": [
      "\u001b[1;31m---------------------------------------------------------------------------\u001b[0m",
      "\u001b[1;31mAttributeError\u001b[0m                            Traceback (most recent call last)",
      "\u001b[1;32m<ipython-input-14-3262cc21f86a>\u001b[0m in \u001b[0;36m<module>\u001b[1;34m\u001b[0m\n\u001b[1;32m----> 1\u001b[1;33m \u001b[0msd3\u001b[0m \u001b[1;33m=\u001b[0m \u001b[0ms1\u001b[0m\u001b[1;33m.\u001b[0m\u001b[0msymmteric_difference\u001b[0m\u001b[1;33m(\u001b[0m\u001b[0ms2\u001b[0m\u001b[1;33m)\u001b[0m\u001b[1;33m\u001b[0m\u001b[1;33m\u001b[0m\u001b[0m\n\u001b[0m\u001b[0;32m      2\u001b[0m \u001b[0msd3\u001b[0m\u001b[1;33m\u001b[0m\u001b[1;33m\u001b[0m\u001b[0m\n",
      "\u001b[1;31mAttributeError\u001b[0m: 'set' object has no attribute 'symmteric_difference'"
     ]
    }
   ],
   "source": [
    "sd3 = s1.symmteric_difference(s2)\n",
    "sd3"
   ]
  },
  {
   "cell_type": "code",
   "execution_count": null,
   "id": "5062702e",
   "metadata": {},
   "outputs": [],
   "source": []
  },
  {
   "cell_type": "code",
   "execution_count": null,
   "id": "8ec2f7cb",
   "metadata": {},
   "outputs": [],
   "source": []
  }
 ],
 "metadata": {
  "kernelspec": {
   "display_name": "Python 3",
   "language": "python",
   "name": "python3"
  },
  "language_info": {
   "codemirror_mode": {
    "name": "ipython",
    "version": 3
   },
   "file_extension": ".py",
   "mimetype": "text/x-python",
   "name": "python",
   "nbconvert_exporter": "python",
   "pygments_lexer": "ipython3",
   "version": "3.8.8"
  }
 },
 "nbformat": 4,
 "nbformat_minor": 5
}
