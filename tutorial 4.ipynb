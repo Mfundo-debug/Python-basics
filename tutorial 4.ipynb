{
 "cells": [
  {
   "cell_type": "code",
   "execution_count": 1,
   "id": "550858a2",
   "metadata": {},
   "outputs": [
    {
     "name": "stdout",
     "output_type": "stream",
     "text": [
      "1\n",
      "2\n",
      "3\n",
      "4\n",
      "5\n"
     ]
    }
   ],
   "source": [
    " l = [1,2,3,4,5]\n",
    "for value in l:\n",
    "    print(value)"
   ]
  },
  {
   "cell_type": "code",
   "execution_count": 3,
   "id": "a246776b",
   "metadata": {},
   "outputs": [
    {
     "name": "stdout",
     "output_type": "stream",
     "text": [
      "1\n",
      "3\n",
      "6\n",
      "10\n",
      "15\n"
     ]
    }
   ],
   "source": [
    "sum= 0\n",
    "for value in l:\n",
    "    sum += value\n",
    "    \n",
    "    print(sum)"
   ]
  },
  {
   "cell_type": "code",
   "execution_count": 5,
   "id": "5173b3de",
   "metadata": {},
   "outputs": [
    {
     "name": "stdout",
     "output_type": "stream",
     "text": [
      "15\n"
     ]
    }
   ],
   "source": [
    "sum = 0\n",
    "for value in l:\n",
    "    sum += value\n",
    "print(sum)"
   ]
  },
  {
   "cell_type": "code",
   "execution_count": 6,
   "id": "5f621a65",
   "metadata": {},
   "outputs": [
    {
     "name": "stdout",
     "output_type": "stream",
     "text": [
      "0\n",
      "1\n",
      "2\n",
      "3\n",
      "4\n"
     ]
    }
   ],
   "source": [
    "for value in range(5):\n",
    "    print(value)"
   ]
  },
  {
   "cell_type": "markdown",
   "id": "e58d114c",
   "metadata": {},
   "source": [
    "## suppose you're given a list l=[1,2,3,4,5]\n",
    "## also given key =6, we use linear search to find that key in the list l"
   ]
  },
  {
   "cell_type": "code",
   "execution_count": 7,
   "id": "ba88bbd0",
   "metadata": {},
   "outputs": [
    {
     "name": "stdout",
     "output_type": "stream",
     "text": [
      "element not found\n"
     ]
    }
   ],
   "source": [
    "l = [1,2,3,4,5]\n",
    "k =6\n",
    "for x in l:\n",
    "    if x == k:\n",
    "        print('elment found',x)\n",
    "        break\n",
    "    else:\n",
    "        continue\n",
    "else:\n",
    "    print('element not found')"
   ]
  },
  {
   "cell_type": "code",
   "execution_count": 8,
   "id": "568276b9",
   "metadata": {},
   "outputs": [
    {
     "name": "stdout",
     "output_type": "stream",
     "text": [
      "element is found at index 0\n"
     ]
    }
   ],
   "source": [
    "l = [2,4,5,6]\n",
    "k = 2\n",
    "for idx,x in enumerate(l):\n",
    "    if x == k:\n",
    "        print('element is found at index', idx)\n",
    "        break\n",
    "    else:\n",
    "        continue\n",
    "else:\n",
    "    print('elemenet was not found')"
   ]
  },
  {
   "cell_type": "code",
   "execution_count": 10,
   "id": "1b8e8939",
   "metadata": {},
   "outputs": [
    {
     "data": {
      "text/plain": [
       "2"
      ]
     },
     "execution_count": 10,
     "metadata": {},
     "output_type": "execute_result"
    }
   ],
   "source": [
    "l[0]\n"
   ]
  },
  {
   "cell_type": "markdown",
   "id": "5b9818d8",
   "metadata": {},
   "source": [
    "## given the list l=[,2,4,6,8] and key =3\n",
    "## write the implementation of the above\n",
    "## and if the key is not found it must indicate element was not found\n",
    "# show the looping that says 'continue searching..' using a pass function"
   ]
  },
  {
   "cell_type": "markdown",
   "id": "9beee5be",
   "metadata": {},
   "source": [
    "# time starts now\n",
    "# you should had the answer by 19:23pm"
   ]
  },
  {
   "cell_type": "code",
   "execution_count": 17,
   "id": "95f4895b",
   "metadata": {},
   "outputs": [
    {
     "name": "stdout",
     "output_type": "stream",
     "text": [
      "continue searching..\n",
      "continue searching..\n",
      "continue searching..\n",
      "continue searching..\n",
      "element not exists\n"
     ]
    }
   ],
   "source": [
    "L = [2,4,6,8]\n",
    "key=3\n",
    "for idx,k in enumerate(L):\n",
    "    if k== key:\n",
    "        print('element does exist',idx)\n",
    "        break\n",
    "    else:\n",
    "        pass\n",
    "        print('continue searching..')\n",
    "else:\n",
    "    print('element not exists')\n",
    "        \n"
   ]
  },
  {
   "cell_type": "code",
   "execution_count": 16,
   "id": "4821be90",
   "metadata": {},
   "outputs": [
    {
     "name": "stdout",
     "output_type": "stream",
     "text": [
      "searching...\n",
      "searching...\n",
      "searching...\n",
      "searching...\n",
      "key was not found\n"
     ]
    }
   ],
   "source": [
    "T = [2,4,6,8]\n",
    "key =3\n",
    "for ni,n in enumerate(T):\n",
    "    if n == key:\n",
    "        print('key was found at pos', ni)\n",
    "        \n",
    "        break\n",
    "    else:\n",
    "        pass\n",
    "        print('searching...')\n",
    "else:\n",
    "    print('key was not found')"
   ]
  },
  {
   "cell_type": "code",
   "execution_count": 11,
   "id": "322cd7c7",
   "metadata": {},
   "outputs": [
    {
     "name": "stdout",
     "output_type": "stream",
     "text": [
      "searching through...\n",
      "searching through...\n",
      "searching through...\n",
      "searching through...\n",
      "elemenet was not found\n"
     ]
    }
   ],
   "source": [
    "l = [2,4,5,6]\n",
    "k = 0\n",
    "for idx,x in enumerate(l):\n",
    "    if x == k:\n",
    "        print('element is found at index', idx)\n",
    "        break\n",
    "    else:\n",
    "        pass\n",
    "        print('searching through...')\n",
    "else:\n",
    "    print('elemenet was not found')"
   ]
  },
  {
   "cell_type": "markdown",
   "id": "57c1cd15",
   "metadata": {},
   "source": [
    "## write a python program to count the number of even and odd\n",
    "\n",
    "# sample numbers:\n",
    " ### n = (1,2,3,4,5,6,7,8,9)\n",
    " \n",
    " ## Expected output\n",
    " * number of even numbers  :4\n",
    " * number of odd numbers : 5\n"
   ]
  },
  {
   "cell_type": "code",
   "execution_count": null,
   "id": "9f969215",
   "metadata": {},
   "outputs": [],
   "source": [
    "n = (1,2,3,4,5,6,7,8,9)\n",
    "odd_count = 0\n",
    "even_count = 0\n",
    "for i in n:\n",
    "    if not i%2:\n",
    "        even_count +=1"
   ]
  },
  {
   "cell_type": "code",
   "execution_count": 18,
   "id": "f0ea7af1",
   "metadata": {},
   "outputs": [
    {
     "name": "stdout",
     "output_type": "stream",
     "text": [
      "Number of even numbers : 4\n",
      "Number of odd numbers : 5\n"
     ]
    }
   ],
   "source": [
    "n = [1, 2, 3, 4, 5, 6, 7, 8, 9]\n",
    "odd = 0\n",
    "even = 0\n",
    "for x in n:\n",
    "        if not x % 2:\n",
    "            even+=1\n",
    "        else:\n",
    "            odd+=1\n",
    "print(\"Number of even numbers :\",even)\n",
    "print(\"Number of odd numbers :\",odd)"
   ]
  },
  {
   "cell_type": "markdown",
   "id": "7d7d0795",
   "metadata": {},
   "source": [
    "# write python program that gives an output for each of even numbers and odd numbers"
   ]
  },
  {
   "cell_type": "code",
   "execution_count": 26,
   "id": "ab6b976b",
   "metadata": {},
   "outputs": [
    {
     "name": "stdout",
     "output_type": "stream",
     "text": [
      "[2, 4, 6, 8]\n",
      "[1, 3, 5, 7, 9]\n"
     ]
    }
   ],
   "source": [
    "numbers = [1, 2, 3, 4, 5, 6, 7, 8, 9]\n",
    "even_numbers = []\n",
    "odd_numbers = []\n",
    "\n",
    "for number in numbers:\n",
    "    if number % 2 == 0:\n",
    "        even_numbers.append(number)\n",
    "    else:\n",
    "        odd_numbers.append(number)\n",
    "\n",
    "print(even_numbers)\n",
    "print(odd_numbers)"
   ]
  },
  {
   "cell_type": "markdown",
   "id": "a0920fa3",
   "metadata": {},
   "source": [
    "## Strings depth"
   ]
  },
  {
   "cell_type": "code",
   "execution_count": null,
   "id": "c0b8382e",
   "metadata": {},
   "outputs": [],
   "source": [
    "p = 10\n",
    "r = 5"
   ]
  }
 ],
 "metadata": {
  "kernelspec": {
   "display_name": "Python 3",
   "language": "python",
   "name": "python3"
  },
  "language_info": {
   "codemirror_mode": {
    "name": "ipython",
    "version": 3
   },
   "file_extension": ".py",
   "mimetype": "text/x-python",
   "name": "python",
   "nbconvert_exporter": "python",
   "pygments_lexer": "ipython3",
   "version": "3.8.8"
  }
 },
 "nbformat": 4,
 "nbformat_minor": 5
}
