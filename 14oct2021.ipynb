{
 "cells": [
  {
   "cell_type": "markdown",
   "id": "e54617ad",
   "metadata": {},
   "source": [
    "# tuple data type | depth"
   ]
  },
  {
   "cell_type": "code",
   "execution_count": 1,
   "id": "44e687cd",
   "metadata": {},
   "outputs": [
    {
     "name": "stdout",
     "output_type": "stream",
     "text": [
      "(1, 2, 3, 4, 5) <class 'tuple'>\n"
     ]
    }
   ],
   "source": [
    "t = (1,2,3,4,5)\n",
    "print(t,type(t))"
   ]
  },
  {
   "cell_type": "code",
   "execution_count": 2,
   "id": "4ccd2fff",
   "metadata": {},
   "outputs": [
    {
     "name": "stdout",
     "output_type": "stream",
     "text": [
      "1 3\n"
     ]
    }
   ],
   "source": [
    "print(t[0],t[2])"
   ]
  },
  {
   "cell_type": "code",
   "execution_count": 3,
   "id": "a9042acc",
   "metadata": {},
   "outputs": [
    {
     "name": "stdout",
     "output_type": "stream",
     "text": [
      "(1, 2, 3)\n"
     ]
    }
   ],
   "source": [
    "print(t[:3])"
   ]
  },
  {
   "cell_type": "markdown",
   "id": "2a285071",
   "metadata": {},
   "source": [
    "# take note\n",
    "## for tuples we have two methods\n",
    "* ordered indexing\n",
    "*  slicing"
   ]
  },
  {
   "cell_type": "code",
   "execution_count": 4,
   "id": "0c8df064",
   "metadata": {},
   "outputs": [
    {
     "name": "stdout",
     "output_type": "stream",
     "text": [
      "1\n",
      "1\n"
     ]
    }
   ],
   "source": [
    "t = (10,20,30,40,50,60)\n",
    "print(t.index(20))\n",
    "print(t.count(20))# counts the number of occurences"
   ]
  },
  {
   "cell_type": "code",
   "execution_count": 5,
   "id": "8436d335",
   "metadata": {},
   "outputs": [
    {
     "name": "stdout",
     "output_type": "stream",
     "text": [
      "2\n"
     ]
    }
   ],
   "source": [
    "t = (20,20,30,40,50 ,60,70,80,90)\n",
    "print(t.count(20))\n"
   ]
  },
  {
   "cell_type": "code",
   "execution_count": 6,
   "id": "b4660379",
   "metadata": {},
   "outputs": [
    {
     "name": "stdout",
     "output_type": "stream",
     "text": [
      "0\n"
     ]
    }
   ],
   "source": [
    "print(t.index(20))"
   ]
  },
  {
   "cell_type": "code",
   "execution_count": 8,
   "id": "6e0d8329",
   "metadata": {},
   "outputs": [
    {
     "name": "stdout",
     "output_type": "stream",
     "text": [
      "0 1\n",
      "1 2\n",
      "2 3\n",
      "3 4\n"
     ]
    }
   ],
   "source": [
    "l = [1,2,3,4]\n",
    "for idx,v in enumerate(l):\n",
    "    print(idx,v)"
   ]
  },
  {
   "cell_type": "code",
   "execution_count": 9,
   "id": "d0f49d0f",
   "metadata": {},
   "outputs": [
    {
     "name": "stdout",
     "output_type": "stream",
     "text": [
      "1\n",
      "2\n",
      "3\n",
      "4\n"
     ]
    }
   ],
   "source": [
    "for t in enumerate(l):\n",
    "    print(t[1])"
   ]
  },
  {
   "cell_type": "code",
   "execution_count": 10,
   "id": "72dc8d68",
   "metadata": {},
   "outputs": [
    {
     "name": "stdout",
     "output_type": "stream",
     "text": [
      "0\n",
      "1\n",
      "2\n",
      "3\n"
     ]
    }
   ],
   "source": [
    "for t in enumerate(l):\n",
    "    print(t[0])"
   ]
  },
  {
   "cell_type": "code",
   "execution_count": 11,
   "id": "320593a3",
   "metadata": {},
   "outputs": [
    {
     "name": "stdout",
     "output_type": "stream",
     "text": [
      "(1, 2, 3, 4)\n"
     ]
    }
   ],
   "source": [
    "#  convert my list to tuple\n",
    "t = tuple(l)\n",
    "print(t)"
   ]
  },
  {
   "cell_type": "code",
   "execution_count": 12,
   "id": "9d7ac572",
   "metadata": {},
   "outputs": [
    {
     "name": "stdout",
     "output_type": "stream",
     "text": [
      "['a', 'b', 'c', 10, 20, 30, 40, 50]\n"
     ]
    }
   ],
   "source": [
    "t = ('a','b','c', 10,20,30,40,50) # converting tuple to list\n",
    "l = list(t)\n",
    "print(l)"
   ]
  },
  {
   "cell_type": "markdown",
   "id": "f9ef98cd",
   "metadata": {},
   "source": [
    "## a) given tuple t = (10,20,30,40)\n",
    "## reverse the tuple t\n",
    "## output : (40,30,20,10)\n",
    "\n",
    "## b) given t1 = (1,2,3,4,5) and t2 = (3,4,2,5,1) swap those two tuples\n",
    "# t1=t2  , t2 =t1\n",
    "\n",
    "## c) given tuple b = (4,5,6,7) copy element 5,6 into a new tuple t2\n",
    "## output: t2: (5,6)\n",
    "\n",
    "## 18:34pm"
   ]
  },
  {
   "cell_type": "code",
   "execution_count": 22,
   "id": "fcdc092c",
   "metadata": {},
   "outputs": [
    {
     "name": "stdout",
     "output_type": "stream",
     "text": [
      "(40, 30, 20, 10)\n"
     ]
    }
   ],
   "source": [
    "t = (10,20,30,40)\n",
    "t = t[::-1]\n",
    "print(t)"
   ]
  },
  {
   "cell_type": "code",
   "execution_count": 14,
   "id": "12a1de6c",
   "metadata": {},
   "outputs": [
    {
     "name": "stdout",
     "output_type": "stream",
     "text": [
      "(1, 2, 3, 4, 5)\n",
      "(3, 4, 2, 5, 1)\n"
     ]
    }
   ],
   "source": [
    "t1 = (1,2,3,4,5)\n",
    "t2 = (3,4,2,5,1)\n",
    "t1,t2 = t2, t1\n",
    "print(t2)\n",
    "print(t1)"
   ]
  },
  {
   "cell_type": "code",
   "execution_count": 15,
   "id": "300fd38f",
   "metadata": {},
   "outputs": [
    {
     "name": "stdout",
     "output_type": "stream",
     "text": [
      "t2: (5, 6)\n"
     ]
    }
   ],
   "source": [
    "b = (4,5,6,7)\n",
    "t2 = b[1:3]\n",
    "print('t2:',t2)"
   ]
  },
  {
   "cell_type": "code",
   "execution_count": 16,
   "id": "c9c28bed",
   "metadata": {},
   "outputs": [
    {
     "name": "stdout",
     "output_type": "stream",
     "text": [
      "0\n"
     ]
    }
   ],
   "source": [
    "lis = [1,2,3,4,5]\n",
    "print(lis.index(1))"
   ]
  },
  {
   "cell_type": "code",
   "execution_count": 17,
   "id": "03597528",
   "metadata": {},
   "outputs": [
    {
     "name": "stdout",
     "output_type": "stream",
     "text": [
      "1\n",
      "2\n",
      "3\n",
      "4\n"
     ]
    }
   ],
   "source": [
    "print(lis.index(2))\n",
    "print(lis.index(3))\n",
    "print(lis.index(4))\n",
    "print(lis.index(5))"
   ]
  },
  {
   "cell_type": "code",
   "execution_count": 18,
   "id": "669facf9",
   "metadata": {},
   "outputs": [
    {
     "data": {
      "text/plain": [
       "[2, 3]"
      ]
     },
     "execution_count": 18,
     "metadata": {},
     "output_type": "execute_result"
    }
   ],
   "source": [
    "index_2_3 = lis[1:3]\n",
    "index_2_3"
   ]
  },
  {
   "cell_type": "code",
   "execution_count": 19,
   "id": "5b5d149f",
   "metadata": {},
   "outputs": [
    {
     "data": {
      "text/plain": [
       "[5]"
      ]
     },
     "execution_count": 19,
     "metadata": {},
     "output_type": "execute_result"
    }
   ],
   "source": [
    "lis[4:5]"
   ]
  },
  {
   "cell_type": "code",
   "execution_count": 20,
   "id": "c1bc784e",
   "metadata": {},
   "outputs": [
    {
     "data": {
      "text/plain": [
       "[4, 5]"
      ]
     },
     "execution_count": 20,
     "metadata": {},
     "output_type": "execute_result"
    }
   ],
   "source": [
    "lis[3:5]"
   ]
  },
  {
   "cell_type": "markdown",
   "id": "b0035d72",
   "metadata": {},
   "source": [
    "# modify  the first item (10) of a list inside a tuple  100\n",
    "# t  = (11,[10,20], 30, 50]\n",
    "\n",
    "# output L: (11,[100,20],30,50)"
   ]
  },
  {
   "cell_type": "code",
   "execution_count": 23,
   "id": "6d4bb8c1",
   "metadata": {},
   "outputs": [],
   "source": [
    "t= (11, [10,20], 30, 50)\n"
   ]
  },
  {
   "cell_type": "code",
   "execution_count": 24,
   "id": "ebcfef39",
   "metadata": {},
   "outputs": [
    {
     "data": {
      "text/plain": [
       "1"
      ]
     },
     "execution_count": 24,
     "metadata": {},
     "output_type": "execute_result"
    }
   ],
   "source": [
    "t.index([10,20])"
   ]
  },
  {
   "cell_type": "code",
   "execution_count": 25,
   "id": "74f1fc1f",
   "metadata": {},
   "outputs": [
    {
     "name": "stdout",
     "output_type": "stream",
     "text": [
      "(11, [100, 20], 30, 50)\n"
     ]
    }
   ],
   "source": [
    "t[1][0] = 100\n",
    "print(t)"
   ]
  },
  {
   "cell_type": "code",
   "execution_count": null,
   "id": "c2370b84",
   "metadata": {},
   "outputs": [],
   "source": []
  }
 ],
 "metadata": {
  "kernelspec": {
   "display_name": "Python 3",
   "language": "python",
   "name": "python3"
  },
  "language_info": {
   "codemirror_mode": {
    "name": "ipython",
    "version": 3
   },
   "file_extension": ".py",
   "mimetype": "text/x-python",
   "name": "python",
   "nbconvert_exporter": "python",
   "pygments_lexer": "ipython3",
   "version": "3.8.8"
  }
 },
 "nbformat": 4,
 "nbformat_minor": 5
}
