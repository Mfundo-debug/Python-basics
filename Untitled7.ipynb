{
 "cells": [
  {
   "cell_type": "code",
   "execution_count": 1,
   "id": "ffbe486d",
   "metadata": {},
   "outputs": [],
   "source": [
    "from geopy.geocoders import Nominatim"
   ]
  },
  {
   "cell_type": "code",
   "execution_count": null,
   "id": "3119409c",
   "metadata": {},
   "outputs": [
    {
     "name": "stdout",
     "output_type": "stream",
     "text": [
      "enter zipcode:0027\n"
     ]
    }
   ],
   "source": [
    "geolocator= Nominatim(user_agent=\"geoapiExercises\")\n",
    "\n",
    "#zipcode input\n",
    "\n",
    "a = input('enter zipcode:')\n",
    "zipcode = a\n",
    "\n",
    "# using geocode()\n",
    "\n",
    "location = geolocator.geocode(zipcode)\n",
    "\n",
    "#display address details\n",
    "\n",
    "print('Zipcode:', zipcode)\n",
    "print('Details of the zipcode:')\n",
    "print(location)"
   ]
  },
  {
   "cell_type": "code",
   "execution_count": null,
   "id": "8d8e7cb1",
   "metadata": {},
   "outputs": [],
   "source": []
  }
 ],
 "metadata": {
  "kernelspec": {
   "display_name": "geo_env",
   "language": "python",
   "name": "geo_env"
  },
  "language_info": {
   "codemirror_mode": {
    "name": "ipython",
    "version": 3
   },
   "file_extension": ".py",
   "mimetype": "text/x-python",
   "name": "python",
   "nbconvert_exporter": "python",
   "pygments_lexer": "ipython3",
   "version": "3.10.5"
  }
 },
 "nbformat": 4,
 "nbformat_minor": 5
}
