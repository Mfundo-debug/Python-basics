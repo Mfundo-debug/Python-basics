{
 "cells": [
  {
   "cell_type": "markdown",
   "id": "f8e33235",
   "metadata": {},
   "source": [
    "#help(str)\n",
    "#print(dir(str))\n",
    "\n",
    "# String depth"
   ]
  },
  {
   "cell_type": "code",
   "execution_count": 1,
   "id": "8870c99e",
   "metadata": {},
   "outputs": [
    {
     "name": "stdout",
     "output_type": "stream",
     "text": [
      "value of p  is 10 value of r 5\n"
     ]
    }
   ],
   "source": [
    "p = 10\n",
    "r = 5\n",
    "print ('value of p  is {} value of r {}'.format(p,r))"
   ]
  },
  {
   "cell_type": "code",
   "execution_count": 3,
   "id": "01d308a2",
   "metadata": {},
   "outputs": [
    {
     "name": "stdout",
     "output_type": "stream",
     "text": [
      "value of p is is 5 value of r 10\n"
     ]
    }
   ],
   "source": [
    "#intechange\n",
    "print('value of p is is {1} value of r {0}'.format(p,r))"
   ]
  },
  {
   "cell_type": "code",
   "execution_count": 4,
   "id": "8c64381a",
   "metadata": {},
   "outputs": [
    {
     "name": "stdout",
     "output_type": "stream",
     "text": [
      "Python sample string\n"
     ]
    }
   ],
   "source": [
    "s = 'python sample string'\n",
    "s1 = s.capitalize()\n",
    "print(s1)"
   ]
  },
  {
   "cell_type": "code",
   "execution_count": 5,
   "id": "c01b4674",
   "metadata": {},
   "outputs": [
    {
     "name": "stdout",
     "output_type": "stream",
     "text": [
      "PYTHON SAMPLE STRING\n"
     ]
    }
   ],
   "source": [
    "print(s.upper())#capitalizes all letters"
   ]
  },
  {
   "cell_type": "code",
   "execution_count": 6,
   "id": "10c16c9a",
   "metadata": {},
   "outputs": [
    {
     "name": "stdout",
     "output_type": "stream",
     "text": [
      "python sample string\n"
     ]
    }
   ],
   "source": [
    "print(s.lower()) #vice versa"
   ]
  },
  {
   "cell_type": "code",
   "execution_count": 7,
   "id": "331ebb21",
   "metadata": {},
   "outputs": [
    {
     "name": "stdout",
     "output_type": "stream",
     "text": [
      "Python Sample String\n"
     ]
    }
   ],
   "source": [
    "print(s.title())#first letter of a word capitalized"
   ]
  },
  {
   "cell_type": "code",
   "execution_count": 11,
   "id": "3362ebe5",
   "metadata": {},
   "outputs": [
    {
     "name": "stdout",
     "output_type": "stream",
     "text": [
      "False\n"
     ]
    }
   ],
   "source": [
    "#lets apply boolean to check whether true or false of each of the condition\n",
    "print(s1.isupper())# check if string s1 is capitalized if it is then it will return true else false"
   ]
  },
  {
   "cell_type": "code",
   "execution_count": 12,
   "id": "e4adce03",
   "metadata": {},
   "outputs": [
    {
     "name": "stdout",
     "output_type": "stream",
     "text": [
      "False\n"
     ]
    }
   ],
   "source": [
    "print(s1.islower())# it returns false simply because the first letter is 'P' capitalized"
   ]
  },
  {
   "cell_type": "code",
   "execution_count": 14,
   "id": "c6782874",
   "metadata": {},
   "outputs": [
    {
     "name": "stdout",
     "output_type": "stream",
     "text": [
      "python sample string\n",
      "True\n"
     ]
    }
   ],
   "source": [
    "s1 = s1.lower()\n",
    "print(s1.lower())\n",
    "print(s1.islower())#it reutrns true because all the letters are lower cases"
   ]
  },
  {
   "cell_type": "code",
   "execution_count": 16,
   "id": "b63b8d83",
   "metadata": {},
   "outputs": [
    {
     "name": "stdout",
     "output_type": "stream",
     "text": [
      "['Python', ' Java', ' CSS', 'Django', ' Javasript']\n"
     ]
    }
   ],
   "source": [
    "S = 'Python, Java, CSS,Django, Javasript'# use split function to split into a list\n",
    "l = S.split(',')# in terms of comma ,\n",
    "print(l)"
   ]
  },
  {
   "cell_type": "code",
   "execution_count": 18,
   "id": "e1705dd6",
   "metadata": {},
   "outputs": [
    {
     "name": "stdout",
     "output_type": "stream",
     "text": [
      "Python  Java  CSS Django  Javasript\n"
     ]
    }
   ],
   "source": [
    "#if you wanna join them we use join function\n",
    "w = (\" \").join(l)# in terms of just space\n",
    "print(w)"
   ]
  },
  {
   "cell_type": "code",
   "execution_count": 19,
   "id": "fda8e655",
   "metadata": {},
   "outputs": [
    {
     "name": "stdout",
     "output_type": "stream",
     "text": [
      "Python ,  Java ,  CSS , Django ,  Javasript\n"
     ]
    }
   ],
   "source": [
    "#same can be done with comma\n",
    "w = (\" , \").join(l)\n",
    "print(w)"
   ]
  },
  {
   "cell_type": "code",
   "execution_count": 21,
   "id": "7431e1a4",
   "metadata": {},
   "outputs": [
    {
     "name": "stdout",
     "output_type": "stream",
     "text": [
      "python s1mple string 1234\n"
     ]
    }
   ],
   "source": [
    "# Suppose we form two strings and we want whatever that is aligned to w1 to replaced in w2\n",
    "#in sample terms a = 1, b = 2, c=3, d =4\n",
    "#we will make use of maketrans and translate function\n",
    "w1 = 'abcd'\n",
    "w2 = '1234'\n",
    "w3 = \"python sample string abcd\"\n",
    "\n",
    "table = str.maketrans(w1,w2) #map w1 and w2\n",
    "result = w3.translate(table)\n",
    "print(result)"
   ]
  },
  {
   "cell_type": "markdown",
   "id": "3923f2ef",
   "metadata": {},
   "source": [
    "* Find if word exist in T and print the index of that word"
   ]
  },
  {
   "cell_type": "code",
   "execution_count": 22,
   "id": "16654a9a",
   "metadata": {},
   "outputs": [
    {
     "name": "stdout",
     "output_type": "stream",
     "text": [
      "True\n",
      "0\n"
     ]
    }
   ],
   "source": [
    "T = 'Python, Java, CSS,Django, Javasript'\n",
    "print('Python' in T)\n",
    "print(T.index('Python'))"
   ]
  },
  {
   "cell_type": "code",
   "execution_count": 23,
   "id": "5ded3118",
   "metadata": {},
   "outputs": [
    {
     "name": "stdout",
     "output_type": "stream",
     "text": [
      "0\n"
     ]
    }
   ],
   "source": [
    "print(T.find('Python'))"
   ]
  },
  {
   "cell_type": "code",
   "execution_count": 24,
   "id": "2a9cfef8",
   "metadata": {},
   "outputs": [
    {
     "name": "stdout",
     "output_type": "stream",
     "text": [
      "the sample string\n"
     ]
    }
   ],
   "source": [
    "t = \"     the sample string    \"\n",
    "t1 = t.strip(\" \")#strip function gets rid of spaces\n",
    "print(t1)"
   ]
  },
  {
   "cell_type": "code",
   "execution_count": 26,
   "id": "9616b6ce",
   "metadata": {},
   "outputs": [
    {
     "name": "stdout",
     "output_type": "stream",
     "text": [
      "the sample string\n"
     ]
    }
   ],
   "source": [
    "t_star = \"  ***   the sample string ***   \"\n",
    "t2 = t_star.strip(\" *\")#strip function gets rid of stars\n",
    "print(t2)"
   ]
  },
  {
   "cell_type": "code",
   "execution_count": 29,
   "id": "c2ff8568",
   "metadata": {},
   "outputs": [
    {
     "name": "stdout",
     "output_type": "stream",
     "text": [
      " ** the students of  this \n"
     ]
    }
   ],
   "source": [
    "#suppose we only get rid of stars only from right hand side\n",
    "t_r = \" ** the students of this **\"\n",
    "t3 = t_r.rstrip(\"*\")\n",
    "print(t3)"
   ]
  },
  {
   "cell_type": "code",
   "execution_count": 30,
   "id": "7dfd65de",
   "metadata": {},
   "outputs": [
    {
     "name": "stdout",
     "output_type": "stream",
     "text": [
      "**Python**\n"
     ]
    }
   ],
   "source": [
    "t = 'Python'\n",
    "t_c = t.center(10,'*') # adds *s and keeps python in the center\n",
    "print(t_c)"
   ]
  },
  {
   "cell_type": "code",
   "execution_count": 31,
   "id": "49fe6082",
   "metadata": {},
   "outputs": [
    {
     "name": "stdout",
     "output_type": "stream",
     "text": [
      "****Python\n"
     ]
    }
   ],
   "source": [
    "t = 'Python'\n",
    "t_c = t.rjust(10,'*') # adds *s and keeps python to right\n",
    "print(t_c)"
   ]
  },
  {
   "cell_type": "code",
   "execution_count": 32,
   "id": "acc22513",
   "metadata": {},
   "outputs": [
    {
     "name": "stdout",
     "output_type": "stream",
     "text": [
      "Python****\n"
     ]
    }
   ],
   "source": [
    "t = 'Python'\n",
    "t_c = t.ljust(10,'*') # adds *s and keeps python to the left\n",
    "print(t_c)"
   ]
  },
  {
   "cell_type": "code",
   "execution_count": 34,
   "id": "3a10352c",
   "metadata": {},
   "outputs": [
    {
     "name": "stdout",
     "output_type": "stream",
     "text": [
      "HTML5, css, python, HTML5\n"
     ]
    }
   ],
   "source": [
    "r = 'html, css, python, html'\n",
    "r1 = r.replace('html', 'HTML5')\n",
    "print(r1)"
   ]
  },
  {
   "cell_type": "code",
   "execution_count": null,
   "id": "288c7976",
   "metadata": {},
   "outputs": [],
   "source": []
  }
 ],
 "metadata": {
  "kernelspec": {
   "display_name": "Python 3",
   "language": "python",
   "name": "python3"
  },
  "language_info": {
   "codemirror_mode": {
    "name": "ipython",
    "version": 3
   },
   "file_extension": ".py",
   "mimetype": "text/x-python",
   "name": "python",
   "nbconvert_exporter": "python",
   "pygments_lexer": "ipython3",
   "version": "3.8.8"
  }
 },
 "nbformat": 4,
 "nbformat_minor": 5
}
