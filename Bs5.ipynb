{
 "cells": [
  {
   "cell_type": "markdown",
   "id": "644d214a",
   "metadata": {},
   "source": [
    "#help(str)\n",
    "#print(dir(str))"
   ]
  },
  {
   "cell_type": "code",
   "execution_count": 1,
   "id": "7c0949ae",
   "metadata": {},
   "outputs": [
    {
     "name": "stdout",
     "output_type": "stream",
     "text": [
      "value of p  is 10 value of r 5\n"
     ]
    }
   ],
   "source": [
    "p = 10\n",
    "r = 5\n",
    "print ('value of p  is {} value of r {}'.format(p,r))"
   ]
  },
  {
   "cell_type": "code",
   "execution_count": 3,
   "id": "9f1d524e",
   "metadata": {},
   "outputs": [
    {
     "name": "stdout",
     "output_type": "stream",
     "text": [
      "value of p is is 5 value of r 10\n"
     ]
    }
   ],
   "source": [
    "#intechange\n",
    "print('value of p is is {1} value of r {0}'.format(p,r))"
   ]
  },
  {
   "cell_type": "code",
   "execution_count": 4,
   "id": "f4df6349",
   "metadata": {},
   "outputs": [
    {
     "name": "stdout",
     "output_type": "stream",
     "text": [
      "Python sample string\n"
     ]
    }
   ],
   "source": [
    "s = 'python sample string'\n",
    "s1 = s.capitalize()\n",
    "print(s1)"
   ]
  },
  {
   "cell_type": "code",
   "execution_count": 5,
   "id": "3bace255",
   "metadata": {},
   "outputs": [
    {
     "name": "stdout",
     "output_type": "stream",
     "text": [
      "PYTHON SAMPLE STRING\n"
     ]
    }
   ],
   "source": [
    "print(s.upper())#capitalizes all letters"
   ]
  },
  {
   "cell_type": "code",
   "execution_count": 6,
   "id": "939b7467",
   "metadata": {},
   "outputs": [
    {
     "name": "stdout",
     "output_type": "stream",
     "text": [
      "python sample string\n"
     ]
    }
   ],
   "source": [
    "print(s.lower()) #vice versa"
   ]
  },
  {
   "cell_type": "code",
   "execution_count": 7,
   "id": "256b48c4",
   "metadata": {},
   "outputs": [
    {
     "name": "stdout",
     "output_type": "stream",
     "text": [
      "Python Sample String\n"
     ]
    }
   ],
   "source": [
    "print(s.title())#first letter of a word capitalized"
   ]
  },
  {
   "cell_type": "code",
   "execution_count": 11,
   "id": "9bc4cae2",
   "metadata": {},
   "outputs": [
    {
     "name": "stdout",
     "output_type": "stream",
     "text": [
      "False\n"
     ]
    }
   ],
   "source": [
    "#lets apply boolean to check whether true or false of each of the condition\n",
    "print(s1.isupper())# check if string s1 is capitalized if it is then it will return true else false"
   ]
  },
  {
   "cell_type": "code",
   "execution_count": 12,
   "id": "fcac5ae6",
   "metadata": {},
   "outputs": [
    {
     "name": "stdout",
     "output_type": "stream",
     "text": [
      "False\n"
     ]
    }
   ],
   "source": [
    "print(s1.islower())# it returns false simply because the first letter is 'P' capitalized"
   ]
  },
  {
   "cell_type": "code",
   "execution_count": 14,
   "id": "700cf7af",
   "metadata": {},
   "outputs": [
    {
     "name": "stdout",
     "output_type": "stream",
     "text": [
      "python sample string\n",
      "True\n"
     ]
    }
   ],
   "source": [
    "s1 = s1.lower()\n",
    "print(s1.lower())\n",
    "print(s1.islower())#it reutrns true because all the letters are lower cases"
   ]
  },
  {
   "cell_type": "code",
   "execution_count": 16,
   "id": "b8a643ce",
   "metadata": {},
   "outputs": [
    {
     "name": "stdout",
     "output_type": "stream",
     "text": [
      "['Python', ' Java', ' CSS', 'Django', ' Javasript']\n"
     ]
    }
   ],
   "source": [
    "S = 'Python, Java, CSS,Django, Javasript'# use split function to split into a list\n",
    "l = S.split(',')# in terms of comma ,\n",
    "print(l)"
   ]
  },
  {
   "cell_type": "code",
   "execution_count": 18,
   "id": "5c591be6",
   "metadata": {},
   "outputs": [
    {
     "name": "stdout",
     "output_type": "stream",
     "text": [
      "Python  Java  CSS Django  Javasript\n"
     ]
    }
   ],
   "source": [
    "#if you wanna join them we use join function\n",
    "w = (\" \").join(l)# in terms of just space\n",
    "print(w)"
   ]
  },
  {
   "cell_type": "code",
   "execution_count": 19,
   "id": "2dc1e770",
   "metadata": {},
   "outputs": [
    {
     "name": "stdout",
     "output_type": "stream",
     "text": [
      "Python ,  Java ,  CSS , Django ,  Javasript\n"
     ]
    }
   ],
   "source": [
    "#same can be done with comma\n",
    "w = (\" , \").join(l)\n",
    "print(w)"
   ]
  },
  {
   "cell_type": "code",
   "execution_count": 21,
   "id": "6c3d8f43",
   "metadata": {},
   "outputs": [
    {
     "name": "stdout",
     "output_type": "stream",
     "text": [
      "python s1mple string 1234\n"
     ]
    }
   ],
   "source": [
    "# Suppose we form two strings and we want whatever that is aligned to w1 to replaced in w2\n",
    "#in sample terms a = 1, b = 2, c=3, d =4\n",
    "#we will make use of maketrans and translate function\n",
    "w1 = 'abcd'\n",
    "w2 = '1234'\n",
    "w3 = \"python sample string abcd\"\n",
    "\n",
    "table = str.maketrans(w1,w2) #map w1 and w2\n",
    "result = w3.translate(table)\n",
    "print(result)"
   ]
  },
  {
   "cell_type": "markdown",
   "id": "77aa2206",
   "metadata": {},
   "source": [
    "* Find if word exist in T and print the index of that word"
   ]
  },
  {
   "cell_type": "code",
   "execution_count": 22,
   "id": "b4078c5b",
   "metadata": {},
   "outputs": [
    {
     "name": "stdout",
     "output_type": "stream",
     "text": [
      "True\n",
      "0\n"
     ]
    }
   ],
   "source": [
    "T = 'Python, Java, CSS,Django, Javasript'\n",
    "print('Python' in T)\n",
    "print(T.index('Python'))"
   ]
  },
  {
   "cell_type": "code",
   "execution_count": 23,
   "id": "1c23c0c4",
   "metadata": {},
   "outputs": [
    {
     "name": "stdout",
     "output_type": "stream",
     "text": [
      "0\n"
     ]
    }
   ],
   "source": [
    "print(T.find('Python'))"
   ]
  },
  {
   "cell_type": "code",
   "execution_count": 24,
   "id": "827e562c",
   "metadata": {},
   "outputs": [
    {
     "name": "stdout",
     "output_type": "stream",
     "text": [
      "the sample string\n"
     ]
    }
   ],
   "source": [
    "t = \"     the sample string    \"\n",
    "t1 = t.strip(\" \")#strip function gets rid of spaces\n",
    "print(t1)"
   ]
  },
  {
   "cell_type": "code",
   "execution_count": 26,
   "id": "c0d7aa39",
   "metadata": {},
   "outputs": [
    {
     "name": "stdout",
     "output_type": "stream",
     "text": [
      "the sample string\n"
     ]
    }
   ],
   "source": [
    "t_star = \"  ***   the sample string ***   \"\n",
    "t2 = t_star.strip(\" *\")#strip function gets rid of stars\n",
    "print(t2)"
   ]
  },
  {
   "cell_type": "code",
   "execution_count": 29,
   "id": "0436aaba",
   "metadata": {},
   "outputs": [
    {
     "name": "stdout",
     "output_type": "stream",
     "text": [
      " ** the students of  this \n"
     ]
    }
   ],
   "source": [
    "#suppose we only get rid of stars only from right hand side\n",
    "t_r = \" ** the students of this **\"\n",
    "t3 = t_r.rstrip(\"*\")\n",
    "print(t3)"
   ]
  },
  {
   "cell_type": "code",
   "execution_count": 30,
   "id": "cbe9ec2e",
   "metadata": {},
   "outputs": [
    {
     "name": "stdout",
     "output_type": "stream",
     "text": [
      "**Python**\n"
     ]
    }
   ],
   "source": [
    "t = 'Python'\n",
    "t_c = t.center(10,'*') # adds *s and keeps python in the center\n",
    "print(t_c)"
   ]
  },
  {
   "cell_type": "code",
   "execution_count": 31,
   "id": "e86f8b84",
   "metadata": {},
   "outputs": [
    {
     "name": "stdout",
     "output_type": "stream",
     "text": [
      "****Python\n"
     ]
    }
   ],
   "source": [
    "t = 'Python'\n",
    "t_c = t.rjust(10,'*') # adds *s and keeps python to right\n",
    "print(t_c)"
   ]
  },
  {
   "cell_type": "code",
   "execution_count": 32,
   "id": "7a66f32f",
   "metadata": {},
   "outputs": [
    {
     "name": "stdout",
     "output_type": "stream",
     "text": [
      "Python****\n"
     ]
    }
   ],
   "source": [
    "t = 'Python'\n",
    "t_c = t.ljust(10,'*') # adds *s and keeps python to the left\n",
    "print(t_c)"
   ]
  },
  {
   "cell_type": "code",
   "execution_count": 33,
   "id": "1c22c3c8",
   "metadata": {},
   "outputs": [
    {
     "ename": "AttributeError",
     "evalue": "'bool' object has no attribute 'replace'",
     "output_type": "error",
     "traceback": [
      "\u001b[1;31m---------------------------------------------------------------------------\u001b[0m",
      "\u001b[1;31mAttributeError\u001b[0m                            Traceback (most recent call last)",
      "\u001b[1;32m<ipython-input-33-654edf741e32>\u001b[0m in \u001b[0;36m<module>\u001b[1;34m\u001b[0m\n\u001b[0;32m      1\u001b[0m \u001b[0mr\u001b[0m \u001b[1;33m=\u001b[0m \u001b[1;34m'html, css, python, html'\u001b[0m\u001b[1;33m\u001b[0m\u001b[1;33m\u001b[0m\u001b[0m\n\u001b[1;32m----> 2\u001b[1;33m \u001b[0mr1\u001b[0m \u001b[1;33m=\u001b[0m \u001b[0ms\u001b[0m\u001b[1;33m.\u001b[0m\u001b[0mreplace\u001b[0m\u001b[1;33m(\u001b[0m\u001b[1;34m'html'\u001b[0m\u001b[1;33m,\u001b[0m \u001b[1;34m'HTML5'\u001b[0m\u001b[1;33m)\u001b[0m\u001b[1;33m\u001b[0m\u001b[1;33m\u001b[0m\u001b[0m\n\u001b[0m\u001b[0;32m      3\u001b[0m \u001b[0mprint\u001b[0m\u001b[1;33m(\u001b[0m\u001b[0mr1\u001b[0m\u001b[1;33m)\u001b[0m\u001b[1;33m\u001b[0m\u001b[1;33m\u001b[0m\u001b[0m\n",
      "\u001b[1;31mAttributeError\u001b[0m: 'bool' object has no attribute 'replace'"
     ]
    }
   ],
   "source": [
    "r = 'html, css, python, html'\n",
    "r1 = s.replace('html', 'HTML5')\n",
    "print(r1)"
   ]
  },
  {
   "cell_type": "code",
   "execution_count": null,
   "id": "6bbe727a",
   "metadata": {},
   "outputs": [],
   "source": []
  }
 ],
 "metadata": {
  "kernelspec": {
   "display_name": "Python 3",
   "language": "python",
   "name": "python3"
  },
  "language_info": {
   "codemirror_mode": {
    "name": "ipython",
    "version": 3
   },
   "file_extension": ".py",
   "mimetype": "text/x-python",
   "name": "python",
   "nbconvert_exporter": "python",
   "pygments_lexer": "ipython3",
   "version": "3.8.8"
  }
 },
 "nbformat": 4,
 "nbformat_minor": 5
}
