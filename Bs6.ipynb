{
 "cells": [
  {
   "cell_type": "markdown",
   "id": "95c10c94",
   "metadata": {},
   "source": [
    "## List  Data Type | indexing | Slicing | Appending\n",
    "\n",
    "* Lists are mutable - add update and delete\n",
    "* ordered indexing and slicing\n",
    "* store any type of data in the list (heterogeneous data type)"
   ]
  },
  {
   "cell_type": "code",
   "execution_count": 1,
   "id": "45c13d47",
   "metadata": {},
   "outputs": [
    {
     "name": "stdout",
     "output_type": "stream",
     "text": [
      "[1, 2, 3, 4, 5, 6, 7, 8, 'Bsc', 'Java', 'Python', [10, 20, 30]] <class 'list'> 12\n"
     ]
    }
   ],
   "source": [
    "l = [1,2,3,4,5,6,7,8, 'Bsc', 'Java','Python',[10,20,30]]\n",
    "print(l,type(l), len(l))"
   ]
  },
  {
   "cell_type": "markdown",
   "id": "9cd614f1",
   "metadata": {},
   "source": [
    "#### Indexing and Slicing"
   ]
  },
  {
   "cell_type": "code",
   "execution_count": 2,
   "id": "f62bcfd9",
   "metadata": {},
   "outputs": [
    {
     "name": "stdout",
     "output_type": "stream",
     "text": [
      "1\n"
     ]
    }
   ],
   "source": [
    "#suppose the task say print the first element\n",
    "print(l[0])"
   ]
  },
  {
   "cell_type": "code",
   "execution_count": 3,
   "id": "468059ec",
   "metadata": {},
   "outputs": [
    {
     "name": "stdout",
     "output_type": "stream",
     "text": [
      "[10, 20, 30]\n"
     ]
    }
   ],
   "source": [
    "#task print the last element\n",
    "print(l[-1])"
   ]
  },
  {
   "cell_type": "code",
   "execution_count": 4,
   "id": "ead7b17a",
   "metadata": {},
   "outputs": [
    {
     "name": "stdout",
     "output_type": "stream",
     "text": [
      "20\n"
     ]
    }
   ],
   "source": [
    "#task within the list display 20\n",
    "print(l[-1][1])"
   ]
  },
  {
   "cell_type": "code",
   "execution_count": 5,
   "id": "da005d85",
   "metadata": {},
   "outputs": [
    {
     "ename": "IndexError",
     "evalue": "list index out of range",
     "output_type": "error",
     "traceback": [
      "\u001b[1;31m---------------------------------------------------------------------------\u001b[0m",
      "\u001b[1;31mIndexError\u001b[0m                                Traceback (most recent call last)",
      "\u001b[1;32m<ipython-input-5-b8f937b7c69d>\u001b[0m in \u001b[0;36m<module>\u001b[1;34m\u001b[0m\n\u001b[1;32m----> 1\u001b[1;33m \u001b[0mprint\u001b[0m\u001b[1;33m(\u001b[0m\u001b[0ml\u001b[0m\u001b[1;33m[\u001b[0m\u001b[1;36m13\u001b[0m\u001b[1;33m]\u001b[0m\u001b[1;33m)\u001b[0m\u001b[1;33m\u001b[0m\u001b[1;33m\u001b[0m\u001b[0m\n\u001b[0m",
      "\u001b[1;31mIndexError\u001b[0m: list index out of range"
     ]
    }
   ],
   "source": [
    "print(l[13])"
   ]
  },
  {
   "cell_type": "markdown",
   "id": "6c72083a",
   "metadata": {},
   "source": [
    "Observe the output \n",
    "'indexError: list index out of range'"
   ]
  },
  {
   "cell_type": "markdown",
   "id": "51b6700c",
   "metadata": {},
   "source": [
    "#### slicing\n"
   ]
  },
  {
   "cell_type": "code",
   "execution_count": 7,
   "id": "598282b5",
   "metadata": {},
   "outputs": [
    {
     "name": "stdout",
     "output_type": "stream",
     "text": [
      "[2, 3]\n"
     ]
    }
   ],
   "source": [
    "print(l[1:3])# this code what it basically does it outputs elements from 1 to 3 and but element 3 is not  inclusive"
   ]
  },
  {
   "cell_type": "code",
   "execution_count": 8,
   "id": "48b00f82",
   "metadata": {},
   "outputs": [
    {
     "name": "stdout",
     "output_type": "stream",
     "text": [
      "[[10, 20, 30], 'Python', 'Java', 'Bsc', 8, 7, 6, 5, 4, 3, 2, 1]\n"
     ]
    }
   ],
   "source": [
    "#task reverse the list\n",
    "print(l[::-1])"
   ]
  },
  {
   "cell_type": "code",
   "execution_count": 9,
   "id": "4003e8c4",
   "metadata": {},
   "outputs": [
    {
     "name": "stdout",
     "output_type": "stream",
     "text": [
      "1\n",
      "3\n",
      "5\n",
      "7\n",
      "Bsc\n",
      "Python\n"
     ]
    }
   ],
   "source": [
    "for value in l[::2]:\n",
    "    print(value)"
   ]
  },
  {
   "cell_type": "code",
   "execution_count": 10,
   "id": "c807e473",
   "metadata": {},
   "outputs": [
    {
     "name": "stdout",
     "output_type": "stream",
     "text": [
      "10\n",
      "30\n",
      "50\n"
     ]
    }
   ],
   "source": [
    "lv = [10,20,30,40,50]\n",
    "\n",
    "for value in lv[::2]:\n",
    "    print(value)"
   ]
  },
  {
   "cell_type": "markdown",
   "id": "e662df80",
   "metadata": {},
   "source": [
    "differerent methods"
   ]
  },
  {
   "cell_type": "code",
   "execution_count": 11,
   "id": "20e9bad1",
   "metadata": {},
   "outputs": [
    {
     "name": "stdout",
     "output_type": "stream",
     "text": [
      "[10, 20, 30, 40, 50, 60]\n"
     ]
    }
   ],
   "source": [
    "lv.append(60)## add to list lv\n",
    "print(lv)"
   ]
  },
  {
   "cell_type": "code",
   "execution_count": 12,
   "id": "f3970349",
   "metadata": {},
   "outputs": [
    {
     "name": "stdout",
     "output_type": "stream",
     "text": [
      "[10, 20, 30, 40, 50, 60, 70, 80, 90]\n"
     ]
    }
   ],
   "source": [
    "lv.extend([70,80,90])\n",
    "print(lv)"
   ]
  },
  {
   "cell_type": "code",
   "execution_count": 13,
   "id": "8f48e5f0",
   "metadata": {},
   "outputs": [
    {
     "name": "stdout",
     "output_type": "stream",
     "text": [
      "[1, 2, 3, 4, 5, 6, [7, 8, 9]]\n"
     ]
    }
   ],
   "source": [
    "la = [1,2,3,4,5,6]\n",
    "la.append([7,8,9])\n",
    "print(la)"
   ]
  },
  {
   "cell_type": "markdown",
   "id": "e76ccdf4",
   "metadata": {},
   "source": [
    "Comparison between append and extend\n",
    "\n",
    "extend func iterates and add, while\n",
    "append adding multiple elements will add them as a one element as a list inside the list\n",
    "\n",
    "also with a extend it will iterating the list  by one element"
   ]
  },
  {
   "cell_type": "code",
   "execution_count": 14,
   "id": "27683350",
   "metadata": {},
   "outputs": [
    {
     "name": "stdout",
     "output_type": "stream",
     "text": [
      "[10, 20, 30, 40, 50, 60, 70, 80, 90, 'P', 'y', 't', 'h', 'o', 'n']\n"
     ]
    }
   ],
   "source": [
    "lv.extend('Python')\n",
    "print(lv)"
   ]
  },
  {
   "cell_type": "code",
   "execution_count": 15,
   "id": "f484f04e",
   "metadata": {},
   "outputs": [
    {
     "name": "stdout",
     "output_type": "stream",
     "text": [
      "[10, 0.1, 20, 30, 40, 50, 60, 70, 80, 90, 'P', 'y', 't', 'h', 'o', 'n']\n"
     ]
    }
   ],
   "source": [
    "lv.insert(1,0.1)\n",
    "print(lv)"
   ]
  },
  {
   "cell_type": "markdown",
   "id": "a3c67cbd",
   "metadata": {},
   "source": [
    "insert funct works like this insert(position, input) can input one element only"
   ]
  },
  {
   "cell_type": "code",
   "execution_count": 17,
   "id": "bc4e11c3",
   "metadata": {},
   "outputs": [
    {
     "name": "stdout",
     "output_type": "stream",
     "text": [
      "[1, 2, 3, 4, 5] [1, 2, 3, 4, 5]\n"
     ]
    }
   ],
   "source": [
    "L = [1,2,3,4]\n",
    "l2 = L\n",
    "#task add element 5 to both list and print without doing adding them individually\n",
    "l2.append(5)\n",
    "print(L,l2)"
   ]
  },
  {
   "cell_type": "code",
   "execution_count": 18,
   "id": "99d69457",
   "metadata": {},
   "outputs": [
    {
     "name": "stdout",
     "output_type": "stream",
     "text": [
      "[1, 2, 3, 4] [1, 2, 3, 4, 5]\n"
     ]
    }
   ],
   "source": [
    "#task add element 5 to one of the list\n",
    "L = [1,2,3,4]\n",
    "l2 = L.copy()\n",
    "l2.append(5)\n",
    "print(L,l2)\n"
   ]
  },
  {
   "cell_type": "code",
   "execution_count": null,
   "id": "a3aecb1e",
   "metadata": {},
   "outputs": [],
   "source": []
  }
 ],
 "metadata": {
  "kernelspec": {
   "display_name": "Python 3",
   "language": "python",
   "name": "python3"
  },
  "language_info": {
   "codemirror_mode": {
    "name": "ipython",
    "version": 3
   },
   "file_extension": ".py",
   "mimetype": "text/x-python",
   "name": "python",
   "nbconvert_exporter": "python",
   "pygments_lexer": "ipython3",
   "version": "3.8.8"
  }
 },
 "nbformat": 4,
 "nbformat_minor": 5
}
