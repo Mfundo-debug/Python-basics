{
 "cells": [
  {
   "cell_type": "code",
   "execution_count": 3,
   "id": "f9373e8c",
   "metadata": {},
   "outputs": [
    {
     "ename": "ModuleNotFoundError",
     "evalue": "No module named 'geoplot'",
     "output_type": "error",
     "traceback": [
      "\u001b[1;31m---------------------------------------------------------------------------\u001b[0m",
      "\u001b[1;31mModuleNotFoundError\u001b[0m                       Traceback (most recent call last)",
      "Input \u001b[1;32mIn [3]\u001b[0m, in \u001b[0;36m<cell line: 17>\u001b[1;34m()\u001b[0m\n\u001b[0;32m     15\u001b[0m \u001b[38;5;28;01mfrom\u001b[39;00m \u001b[38;5;21;01mbranca\u001b[39;00m\u001b[38;5;21;01m.\u001b[39;00m\u001b[38;5;21;01melement\u001b[39;00m \u001b[38;5;28;01mimport\u001b[39;00m Figure\n\u001b[0;32m     16\u001b[0m  \u001b[38;5;66;03m#from shapely.geometry import Polygon, Point\u001b[39;00m\n\u001b[1;32m---> 17\u001b[0m \u001b[38;5;28;01mimport\u001b[39;00m \u001b[38;5;21;01mgeoplot\u001b[39;00m \u001b[38;5;28;01mas\u001b[39;00m \u001b[38;5;21;01mgplt\u001b[39;00m\n\u001b[0;32m     18\u001b[0m \u001b[38;5;28;01mimport\u001b[39;00m \u001b[38;5;21;01mgeoplot\u001b[39;00m\u001b[38;5;21;01m.\u001b[39;00m\u001b[38;5;21;01mcrs\u001b[39;00m \u001b[38;5;28;01mas\u001b[39;00m \u001b[38;5;21;01mgcrs\u001b[39;00m\n\u001b[0;32m     19\u001b[0m \u001b[38;5;28;01mimport\u001b[39;00m \u001b[38;5;21;01mimageio\u001b[39;00m\n",
      "\u001b[1;31mModuleNotFoundError\u001b[0m: No module named 'geoplot'"
     ]
    }
   ],
   "source": [
    "import pandas as pd\n",
    "import numpy as np\n",
    "import seaborn as sns \n",
    "import matplotlib.pyplot as plt\n",
    "import datetime as datetime\n",
    "import scipy.stats as stats\n",
    "import warnings \n",
    "import matplotlib\n",
    "import matplotlib.cm as cm\n",
    "#from shapely.geometry import Point\n",
    "import geopandas as gpd\n",
    "import folium\n",
    "from folium.plugins import HeatMapWithTime\n",
    "from folium.plugins import HeatMap\n",
    "from branca.element import Figure\n",
    " #from shapely.geometry import Polygon, Point\n",
    "import geoplot as gplt\n",
    "import geoplot.crs as gcrs\n",
    "import imageio\n",
    "import pathlib\n",
    "import mapclassify as mc\n",
    "import geocoder\n",
    "from folium import plugins\n",
    "import hdbscan\n",
    "import utm\n",
    "from ipywidgets import interact, interactive\n",
    "import ipywidgets as widgets\n",
    "from folium.vector_layers import CircleMarker\n",
    "from colour import Color\n",
    "sns.set(rc={'figure.figsize':(20,5)})\n",
    "matplotlib.rcParams['figure.figsize'] = (20,5)\n",
    "warnings.simplefilter(action='ignore', category= FutureWarning)\n",
    "from pandas.core.common import SettingWithCopyWarning\n",
    "warnings.simplefilter(action=\"ignore\", category=SettingWithCopyWarning)\n",
    "plt.style.use('seaborn-whitegrid')"
   ]
  },
  {
   "cell_type": "code",
   "execution_count": 4,
   "id": "1a95481c",
   "metadata": {},
   "outputs": [
    {
     "name": "stdout",
     "output_type": "stream",
     "text": [
      "Collecting geoplot"
     ]
    },
    {
     "name": "stderr",
     "output_type": "stream",
     "text": [
      "  error: subprocess-exited-with-error\n",
      "  \n",
      "  Getting requirements to build wheel did not run successfully.\n",
      "  exit code: 1\n",
      "  \n",
      "  [2 lines of output]\n",
      "  INFO:root:Building on Windows requires extra options to setup.py to locate needed GDAL files. More information is available in the README.\n",
      "  ERROR: A GDAL API version must be specified. Provide a path to gdal-config using a GDAL_CONFIG environment variable or use a GDAL_VERSION environment variable.\n",
      "  [end of output]\n",
      "  \n",
      "  note: This error originates from a subprocess, and is likely not a problem with pip.\n",
      "error: subprocess-exited-with-error\n",
      "\n",
      "Getting requirements to build wheel did not run successfully.\n",
      "exit code: 1\n",
      "\n",
      "See above for output.\n",
      "\n",
      "note: This error originates from a subprocess, and is likely not a problem with pip.\n"
     ]
    },
    {
     "name": "stdout",
     "output_type": "stream",
     "text": [
      "\n",
      "  Using cached geoplot-0.5.1-py3-none-any.whl (28 kB)\n",
      "Requirement already satisfied: seaborn in c:\\users\\mfund\\anaconda3\\envs\\geo_env\\lib\\site-packages (from geoplot) (0.11.2)\n",
      "Requirement already satisfied: mapclassify>=2.1 in c:\\users\\mfund\\anaconda3\\envs\\geo_env\\lib\\site-packages (from geoplot) (2.4.3)\n",
      "Requirement already satisfied: geopandas>=0.9.0 in c:\\users\\mfund\\anaconda3\\envs\\geo_env\\lib\\site-packages (from geoplot) (0.10.2)\n",
      "Requirement already satisfied: pandas in c:\\users\\mfund\\anaconda3\\envs\\geo_env\\lib\\site-packages (from geoplot) (1.4.2)\n",
      "Collecting cartopy\n",
      "  Using cached Cartopy-0.20.2.tar.gz (10.8 MB)\n",
      "  Installing build dependencies: started\n",
      "  Installing build dependencies: finished with status 'done'\n",
      "  Getting requirements to build wheel: started\n",
      "  Getting requirements to build wheel: finished with status 'done'\n",
      "  Preparing metadata (pyproject.toml): started\n",
      "  Preparing metadata (pyproject.toml): finished with status 'done'\n",
      "Collecting contextily>=1.0.0\n",
      "  Using cached contextily-1.2.0-py3-none-any.whl (16 kB)\n",
      "Requirement already satisfied: matplotlib>=3.1.2 in c:\\users\\mfund\\anaconda3\\envs\\geo_env\\lib\\site-packages (from geoplot) (3.5.2)\n",
      "Collecting rasterio\n",
      "  Downloading rasterio-1.2.10.tar.gz (2.3 MB)\n",
      "     ---------------------------------------- 2.3/2.3 MB 1.2 MB/s eta 0:00:00\n",
      "  Installing build dependencies: started\n",
      "  Installing build dependencies: finished with status 'done'\n",
      "  Getting requirements to build wheel: started\n",
      "  Getting requirements to build wheel: finished with status 'error'\n"
     ]
    }
   ],
   "source": [
    "!pip install geoplot"
   ]
  },
  {
   "cell_type": "code",
   "execution_count": null,
   "id": "5a5270dc",
   "metadata": {},
   "outputs": [],
   "source": []
  }
 ],
 "metadata": {
  "kernelspec": {
   "display_name": "geo_env",
   "language": "python",
   "name": "geo_env"
  },
  "language_info": {
   "codemirror_mode": {
    "name": "ipython",
    "version": 3
   },
   "file_extension": ".py",
   "mimetype": "text/x-python",
   "name": "python",
   "nbconvert_exporter": "python",
   "pygments_lexer": "ipython3",
   "version": "3.10.5"
  }
 },
 "nbformat": 4,
 "nbformat_minor": 5
}
