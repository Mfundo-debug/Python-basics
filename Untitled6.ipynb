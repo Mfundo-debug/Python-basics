{
 "cells": [
  {
   "cell_type": "code",
   "execution_count": 17,
   "id": "5b6d76c2",
   "metadata": {},
   "outputs": [],
   "source": [
    "import pandas as pd\n",
    "import numpy as np\n",
    "import seaborn as sns \n",
    "import matplotlib.pyplot as plt\n",
    "import datetime as datetime\n",
    "import scipy.stats as stats\n",
    "import warnings \n",
    "import matplotlib\n",
    "import matplotlib.cm as cm\n",
    "from shapely.geometry import Point\n",
    "import geopandas as gpd # install on google colab\n",
    "import folium\n",
    "from folium.plugins import HeatMapWithTime\n",
    "from folium.plugins import HeatMap\n",
    "from branca.element import Figure\n",
    "from shapely.geometry import Polygon, Point\n",
    "import geoplot as gplt # install on colab\n",
    "import geoplot.crs as gcrs\n",
    "import imageio\n",
    "import pathlib\n",
    "import mapclassify as mc\n",
    "import geocoder # install on colab\n",
    "from folium import plugins\n",
    "import hdbscan # install on colab\n",
    "import utm # install on colab\n",
    "from ipywidgets import interact, interactive\n",
    "import ipywidgets as widgets\n",
    "from folium.vector_layers import CircleMarker\n",
    "from colour import Color # install on colab\n",
    "#sns.set(rc={'figure.figsize':(20,5)})\n",
    "matplotlib.rcParams['figure.figsize'] = (20,5)\n",
    "warnings.simplefilter(action='ignore', category= FutureWarning)\n",
    "from pandas.core.common import SettingWithCopyWarning\n",
    "warnings.simplefilter(action=\"ignore\", category=SettingWithCopyWarning)\n",
    "plt.style.use('seaborn-whitegrid')"
   ]
  },
  {
   "cell_type": "code",
   "execution_count": null,
   "id": "1980132d",
   "metadata": {},
   "outputs": [],
   "source": [
    "df = pd.read_csv(C:\\Users\\Mfund\\Downloads"
   ]
  }
 ],
 "metadata": {
  "kernelspec": {
   "display_name": "geo_env",
   "language": "python",
   "name": "geo_env"
  },
  "language_info": {
   "codemirror_mode": {
    "name": "ipython",
    "version": 3
   },
   "file_extension": ".py",
   "mimetype": "text/x-python",
   "name": "python",
   "nbconvert_exporter": "python",
   "pygments_lexer": "ipython3",
   "version": "3.10.5"
  }
 },
 "nbformat": 4,
 "nbformat_minor": 5
}
